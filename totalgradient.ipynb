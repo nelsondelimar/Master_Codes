{
 "cells": [
  {
   "cell_type": "markdown",
   "metadata": {
    "collapsed": true
   },
   "source": [
    "# Total Gradient Amplitude (TGA)"
   ]
  },
  {
   "cell_type": "markdown",
   "metadata": {},
   "source": [
    "### This notebook ilustrate how to calculate the Total Gradient Amplitude (TGA)."
   ]
  },
  {
   "cell_type": "markdown",
   "metadata": {},
   "source": [
    "### Let $\\mathcal{F}\\left[\\mathcal{P}(x,y)\\right]$ be the transformed potential data, which can be written as:\n",
    "\n",
    "# $$\\mathcal{F}\\left[\\mathcal{P}(x,y)\\right] = \\int \\mathcal{P}(x,y)\\, e^{-i(K_{x}x \\, + \\, K_ {y}y)}\\, dx\\,dy$$\n",
    "\n",
    "### The TGA is calculated by:\n",
    "# $$TGA(x,y,z) = \\sqrt{\\left(\\dfrac{\\partial \\mathcal{P}}{\\partial x}\\right)^2\n",
    "+ \\left(\\dfrac{\\partial \\mathcal{P}}{\\partial y}\\right)^2\n",
    "+ \\left(\\dfrac{\\partial \\mathcal{P}}{\\partial z}\\right)^2}$$\n",
    "\n",
    "### where $\\partial_x \\mathcal{P}$ and $\\partial_y \\mathcal{P}$ are the horizontal derivatives and $\\partial_z \\mathcal{P}$ is thee vertical derivative. (See notebook \"Derivatives\")."
   ]
  },
  {
   "cell_type": "code",
   "execution_count": 2,
   "metadata": {},
   "outputs": [],
   "source": [
    "# Copying all usefull libraries\n",
    "import numpy as np\n",
    "import matplotlib.pyplot as plt\n",
    "import sys"
   ]
  },
  {
   "cell_type": "code",
   "execution_count": 3,
   "metadata": {},
   "outputs": [],
   "source": [
    "a = sys.path.append('codes/') "
   ]
  },
  {
   "cell_type": "code",
   "execution_count": 4,
   "metadata": {},
   "outputs": [],
   "source": [
    "from codes import prism, derivative"
   ]
  },
  {
   "cell_type": "markdown",
   "metadata": {},
   "source": [
    "## Synthetic Magnetic data"
   ]
  },
  {
   "cell_type": "code",
   "execution_count": 5,
   "metadata": {},
   "outputs": [],
   "source": [
    "# Definition for number of points and grid creation\n",
    "n = 500\n",
    "x = np.linspace(-2000., 2000., n)\n",
    "y = np.copy(x)\n",
    "z = -50.\n",
    "\n",
    "# Creat the grid file\n",
    "X, Y = np.meshgrid(x, y)"
   ]
  },
  {
   "cell_type": "code",
   "execution_count": 6,
   "metadata": {},
   "outputs": [],
   "source": [
    "#Informations about the rectangular prisms that we will use\n",
    "prisma = [-550., 550., -550., 550., 50., 650., 0.795]\n",
    "\n",
    "# Informations about the values for inclination and declination\n",
    "incf, decf = 40., -33.\n",
    "incs, decs = -61., 16."
   ]
  },
  {
   "cell_type": "code",
   "execution_count": 7,
   "metadata": {},
   "outputs": [],
   "source": [
    "# Calculate the total field anomaly\n",
    "tf = prism.prism_tf(X, Y, z, prisma, 2., incf, decf, incs, decs)"
   ]
  },
  {
   "cell_type": "code",
   "execution_count": null,
   "metadata": {},
   "outputs": [],
   "source": [
    "# Computes the total gradient by using the numerical derivatives\n",
    "# Calculating the numerical derivative\n",
    "delta = 10.\n",
    "# In X\n",
    "xi = prism.prism_tf(X - delta, Y, z, prisma, incf, decf, incs, decs)\n",
    "xf = prism_tf(X + delta, Y, z, prisma, incf, decf, incs, decs)\n",
    "diffx = (xf - xi)/(2.*delta)\n",
    "# In Y\n",
    "yi = prism_tf(X, Y - delta, z, prisma, incf, decf, incs, decs)\n",
    "yf = prism_tf(X, Y + delta, z, prisma, incf, decf, incs, decs)\n",
    "diffy = (yf - yi)/(2.*delta)\n",
    "# In X\n",
    "zi = prism_tf(X, Y, z - 0.1*delta, prisma, incf, decf, incs, decs)\n",
    "zf = prism_tf(X, Y, z + 0.1*delta, prisma, incf, decf, incs, decs)\n",
    "diffz = (zf - zi)/(2.*0.1*delta)\n",
    "# Total gradient\n",
    "tga_calc = (diffx**2 + diffy**2 + diffz**2)**(0.5)"
   ]
  },
  {
   "cell_type": "code",
   "execution_count": null,
   "metadata": {},
   "outputs": [],
   "source": [
    "# Computes the total gradient by using the calculated derivatives\n",
    "tga = totalgrad(x, y, tf_noise)"
   ]
  },
  {
   "cell_type": "code",
   "execution_count": null,
   "metadata": {},
   "outputs": [],
   "source": [
    "# Plotting the total field anomaly and the total gradient\n",
    "plt.figure(figsize=(20, 14))\n",
    "\n",
    "plt.subplot(2,2,1)\n",
    "plt.title('Total field anomaly (in nT)', fontsize = 16)\n",
    "plt.contourf(Y, X, tf_noise, 15, cmap = plt.cm.RdBu_r)\n",
    "plt.xlabel('East (m)', fontsize = 14)\n",
    "plt.ylabel('North (m)', fontsize = 14)\n",
    "plt.xticks(np.linspace(x.min(), x.max(), 5), fontsize = 12)\n",
    "plt.yticks(np.linspace(y.min(), y.max(), 5), fontsize = 12)\n",
    "plt.colorbar()\n",
    "\n",
    "plt.subplot(2,2,2)\n",
    "plt.title('Numerical total gradient (in nT)', fontsize = 16)\n",
    "plt.contourf(Y, X, tga_calc, 15, cmap = plt.cm.RdBu_r)\n",
    "plt.xlabel('East (m)', fontsize = 14)\n",
    "plt.ylabel('North (m)', fontsize = 14)\n",
    "plt.xticks(np.linspace(x.min(), x.max(), 5), fontsize = 12)\n",
    "plt.yticks(np.linspace(y.min(), y.max(), 5), fontsize = 12)\n",
    "plt.colorbar()\n",
    "\n",
    "plt.subplot(2,2,3)\n",
    "plt.title('Calculated total gradient (in nT)', fontsize = 16)\n",
    "plt.contourf(Y, X, tga, 15, cmap = plt.cm.RdBu_r)\n",
    "plt.xlabel('East (m)', fontsize = 14)\n",
    "plt.ylabel('North (m)', fontsize = 14)\n",
    "plt.xticks(np.linspace(x.min(), x.max(), 5), fontsize = 12)\n",
    "plt.yticks(np.linspace(y.min(), y.max(), 5), fontsize = 12)\n",
    "plt.colorbar()\n",
    "\n",
    "plt.subplot(2,2,4)\n",
    "plt.title('Residual estimated (in nT)', fontsize = 16)\n",
    "plt.contourf(Y, X, tga_calc - tga, 15, cmap = plt.cm.RdBu_r)\n",
    "plt.xlabel('East (m)', fontsize = 14)\n",
    "plt.ylabel('North (m)', fontsize = 14)\n",
    "plt.xticks(np.linspace(x.min(), x.max(), 5), fontsize = 12)\n",
    "plt.yticks(np.linspace(y.min(), y.max(), 5), fontsize = 12)\n",
    "plt.colorbar()\n",
    "\n",
    "plt.show()"
   ]
  },
  {
   "cell_type": "code",
   "execution_count": null,
   "metadata": {},
   "outputs": [],
   "source": []
  }
 ],
 "metadata": {
  "kernelspec": {
   "display_name": "Python 2",
   "language": "python",
   "name": "python2"
  },
  "language_info": {
   "codemirror_mode": {
    "name": "ipython",
    "version": 2
   },
   "file_extension": ".py",
   "mimetype": "text/x-python",
   "name": "python",
   "nbconvert_exporter": "python",
   "pygments_lexer": "ipython2",
   "version": "2.7.15"
  }
 },
 "nbformat": 4,
 "nbformat_minor": 2
}
