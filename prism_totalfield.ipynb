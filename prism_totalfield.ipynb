{
 "cells": [
  {
   "cell_type": "code",
   "execution_count": null,
   "metadata": {
    "collapsed": true
   },
   "outputs": [],
   "source": [
    "# Copying all usefull libraries\n",
    "import numpy as np\n",
    "import gravmag_codes as gmc\n",
    "import matplotlib.pyplot as plt"
   ]
  },
  {
   "cell_type": "markdown",
   "metadata": {},
   "source": [
    "**Description for the number of points and grid creation.**"
   ]
  },
  {
   "cell_type": "code",
   "execution_count": null,
   "metadata": {},
   "outputs": [],
   "source": [
    "# Definition for the prism elements\n",
    "npts = 1000 # number of points\n",
    "x = np.linspace(-5000, 5000, npts) # X positions\n",
    "y = np.copy(x) # Y positions\n",
    "#z = -500. # Z level as a float\n",
    "z = -np.random.normal(loc = 250., scale = 5., size = npts) # Z level as a numpy array\n",
    "# Creat the grid file\n",
    "X, Y = np.meshgrid(x, y) # Grid cels (size = npts*npts)"
   ]
  },
  {
   "cell_type": "markdown",
   "metadata": {},
   "source": [
    "**Informations about the rectangular prism: initial and final locations on X, Y and Z axis.**"
   ]
  },
  {
   "cell_type": "code",
   "execution_count": null,
   "metadata": {
    "collapsed": true
   },
   "outputs": [],
   "source": [
    "# prism = [xi, xf, yi, yf, zi, zf, mag]\n",
    "prism = [-150., 150., 0., 300., 100., 400., 2.275] # meters + A/m2\n",
    "# direc = field = [inclination, declination, azimuth]\n",
    "direc = [38., 19., 0.] # degrees\n",
    "field = [50., -22., 0.] # degres"
   ]
  },
  {
   "cell_type": "code",
   "execution_count": null,
   "metadata": {},
   "outputs": [],
   "source": [
    "# Calculate the total field anomaly result as a profile\n",
    "tf_profile = gmc.prism_tfa(x, y, z, prism, direc, field)\n",
    "# Calculate the total field anomaly result as a contour map\n",
    "tfa = gmc.prism_tfa(X, Y, z, prism, direc, field)"
   ]
  },
  {
   "cell_type": "code",
   "execution_count": null,
   "metadata": {},
   "outputs": [],
   "source": [
    "# Plot the magnetic anomaly profile \n",
    "plt.figure(1, figsize=(12,8))\n",
    "plt.title('Total field anomay profile (nT)', fontsize = 20)\n",
    "plt.plot(x, tf_profile, 'k--')\n",
    "plt.xlabel('X position (m)', fontsize = 16)\n",
    "plt.ylabel('(nT)', fontsize = 16)\n",
    "plt.xticks(fontsize=14)\n",
    "plt.yticks(fontsize=14)\n",
    "plt.xlim(1.2*np.min(x), 1.2*np.max(x))\n",
    "plt.ylim(1.2*np.min(tf_profile), 1.2*np.max(tf_profile))\n",
    "plt.savefig('figures/prism_tfprofile.png')\n",
    "#plt.show()\n",
    "\n",
    "# Plot the map for total field anomaly\n",
    "plt.figure(2, figsize=(12,8))\n",
    "plt.title('Total field anomaly (nT)', fontsize = 20)\n",
    "plt.contourf(X, Y, tfa, 50, cmap = plt.cm.jet)\n",
    "plt.xlabel('East (m)', fontsize = 16)\n",
    "plt.ylabel('North (m)', fontsize = 16)\n",
    "plt.xticks(fontsize=14)\n",
    "plt.yticks(fontsize=14)\n",
    "plt.xlim(np.min(X), np.max(X))\n",
    "plt.ylim(np.min(Y), np.max(Y))\n",
    "plt.colorbar()\n",
    "plt.savefig('figures/prism_tfa.png')\n",
    "#plt.show()"
   ]
  }
 ],
 "metadata": {
  "kernelspec": {
   "display_name": "Python 2",
   "language": "python",
   "name": "python2"
  },
  "language_info": {
   "codemirror_mode": {
    "name": "ipython",
    "version": 2
   },
   "file_extension": ".py",
   "mimetype": "text/x-python",
   "name": "python",
   "nbconvert_exporter": "python",
   "pygments_lexer": "ipython2",
   "version": "2.7.13"
  }
 },
 "nbformat": 4,
 "nbformat_minor": 2
}
