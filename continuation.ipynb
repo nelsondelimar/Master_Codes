{
 "cells": [
  {
   "cell_type": "markdown",
   "metadata": {
    "collapsed": true
   },
   "source": [
    "# Upward and Downward Continuation"
   ]
  },
  {
   "cell_type": "markdown",
   "metadata": {},
   "source": [
    "### **This notebook ilustrate how to get an upward continuated data and it shows the differences between calculated the filtered data using Simple Fourier Domain and the function from Fatiando.**"
   ]
  },
  {
   "cell_type": "markdown",
   "metadata": {},
   "source": [
    "** The simple gravity data in Fourier Domain can be expressed by using the Fourier Transform as follow:**\n",
    "\n",
    "# $$\\mathcal{F}\\left[G(x,y)\\right] = \\int G(x,y)\\, e^{-i(K_{x}x \\, + \\, K_ {y}y)}\\, dx\\,dy$$\n",
    "\n",
    "**where $G(x)$ is the simple gravity data in the space domain.**\n",
    "\n",
    "** The continuation filter expression is given by:**\n",
    "# $$ \\mathcal{K}(u,v) = e^{-h \\,(k_{x}^2 + k_{y}^2)^{\\frac{1}{2}}}$$\n",
    "\n",
    "**where $h = d - z$ is the difference between the new level of observation $d$ and the original observation height $z$; $k_x$ and $k_y$ are the wavenumber in $X$ and $Y$ directions; and $\\mathcal{K}$ is the filter which will be applied on the gravity data.**\n",
    "\n",
    "**The exponential can be positive or negative:**\n",
    "* $d > z \\rightarrow\\, h > 0$ - upward continuation;\n",
    "* $d < z \\rightarrow\\, h < 0$ - downward continuation.\n",
    "\n",
    "\n",
    "**The continuated data is obtained by multiplying the filter $\\mathcal{K}$ and the gravity transformed data $G(k)$. After that, it should be applied the inverse Fourier transform on the continuated data for return on the gravity data in space domain.**"
   ]
  },
  {
   "cell_type": "code",
   "execution_count": 6,
   "metadata": {},
   "outputs": [],
   "source": [
    "# Copying all usefull libraries\n",
    "import numpy as np\n",
    "import matplotlib.pyplot as plt\n",
    "import sys"
   ]
  },
  {
   "cell_type": "markdown",
   "metadata": {},
   "source": [
    "### Synthetic Gravity Data"
   ]
  },
  {
   "cell_type": "code",
   "execution_count": 7,
   "metadata": {},
   "outputs": [],
   "source": [
    "# Definition for number of points and grid creation\n",
    "npts = 300\n",
    "x = np.linspace(-2000., 2000., npts)\n",
    "y = np.copy(x)\n",
    "z = 0.\n",
    "dz = 500.\n",
    "\n",
    "# Creat the grid file\n",
    "X, Y = np.meshgrid(x, y)"
   ]
  },
  {
   "cell_type": "code",
   "execution_count": 8,
   "metadata": {},
   "outputs": [],
   "source": [
    "#Informations about the spheres\n",
    "sphere1 = [-1000., 500., 200., 450., -2100.]\n",
    "sphere2 = [800., -500., 1000., 1500., 2673.]"
   ]
  },
  {
   "cell_type": "code",
   "execution_count": 9,
   "metadata": {},
   "outputs": [
    {
     "ename": "ImportError",
     "evalue": "cannot import name 'addnoise'",
     "output_type": "error",
     "traceback": [
      "\u001b[0;31m---------------------------------------------------------------------------\u001b[0m",
      "\u001b[0;31mImportError\u001b[0m                               Traceback (most recent call last)",
      "\u001b[0;32m<ipython-input-9-26a493448a66>\u001b[0m in \u001b[0;36m<module>\u001b[0;34m()\u001b[0m\n\u001b[1;32m      3\u001b[0m \u001b[0;34m\u001b[0m\u001b[0m\n\u001b[1;32m      4\u001b[0m \u001b[0;32mfrom\u001b[0m \u001b[0mcodes\u001b[0m\u001b[0;34m.\u001b[0m\u001b[0msphere\u001b[0m \u001b[0;32mimport\u001b[0m \u001b[0msphere_gz\u001b[0m\u001b[0;34m\u001b[0m\u001b[0m\n\u001b[0;32m----> 5\u001b[0;31m \u001b[0;32mfrom\u001b[0m \u001b[0mcodes\u001b[0m\u001b[0;34m.\u001b[0m\u001b[0mauxiliars\u001b[0m \u001b[0;32mimport\u001b[0m \u001b[0maddnoise\u001b[0m\u001b[0;34m\u001b[0m\u001b[0m\n\u001b[0m\u001b[1;32m      6\u001b[0m \u001b[0;32mfrom\u001b[0m \u001b[0mcodes\u001b[0m\u001b[0;34m.\u001b[0m\u001b[0mstatistical\u001b[0m \u001b[0;32mimport\u001b[0m \u001b[0manalysis\u001b[0m\u001b[0;34m\u001b[0m\u001b[0m\n",
      "\u001b[0;31mImportError\u001b[0m: cannot import name 'addnoise'"
     ]
    }
   ],
   "source": [
    "# Using the modules - NOVIDADE AQUI!\n",
    "sys.path.append('codes/') # LOCALIZA A PASTA CODES - BASTA DAR O PATH CERTINHO!\n",
    "from codes.sphere import sphere_gz\n",
    "from codes.auxiliars import addnoise\n",
    "from codes.statistical import analysis"
   ]
  },
  {
   "cell_type": "code",
   "execution_count": null,
   "metadata": {},
   "outputs": [],
   "source": [
    "# Calculate the gravity attraction\n",
    "gz1 = sphere_gz(X, Y, z, sphere1)\n",
    "gz2 = sphere_gz(X, Y, z, sphere2)\n",
    "gz = gz1 + gz2"
   ]
  },
  {
   "cell_type": "code",
   "execution_count": null,
   "metadata": {},
   "outputs": [],
   "source": [
    "# Calculating the true gravity at level dz\n",
    "gz_true = sphere_gz(X, Y, z - dz, sphere1) + sphere_gz(X, Y, z - dz, sphere2)"
   ]
  },
  {
   "cell_type": "code",
   "execution_count": null,
   "metadata": {},
   "outputs": [],
   "source": [
    "# Showing values\n",
    "_ = analysis(gz, 'mGal')"
   ]
  },
  {
   "cell_type": "code",
   "execution_count": null,
   "metadata": {},
   "outputs": [],
   "source": [
    "# Adding noise\n",
    "data = addnoise(gz, 2., 0.1)"
   ]
  },
  {
   "cell_type": "code",
   "execution_count": null,
   "metadata": {},
   "outputs": [],
   "source": [
    "# Importing the continuation function\n",
    "from codes.filtering import continuation"
   ]
  },
  {
   "cell_type": "code",
   "execution_count": null,
   "metadata": {},
   "outputs": [],
   "source": [
    "# Calculating the upward continuated data\n",
    "gz_up = continuation(x, y, data, dz)"
   ]
  },
  {
   "cell_type": "code",
   "execution_count": null,
   "metadata": {},
   "outputs": [],
   "source": [
    "# Plotting the gravity data\n",
    "plt.figure(figsize=(20,14))\n",
    "\n",
    "plt.subplot(2,2,1)\n",
    "plt.title('Vertical gravity attraction (mGal)', fontsize = 16)\n",
    "plt.contourf(X, Y, data, 15, cmap = plt.cm.jet)\n",
    "plt.xlabel('East (m)', fontsize = 14)\n",
    "plt.ylabel('North (m)', fontsize = 14)\n",
    "plt.xticks(np.arange(x.min(), x.max() + 1, 1000), fontsize = 14)\n",
    "plt.yticks(np.arange(y.min(), y.max() + 1, 1000), fontsize = 14)\n",
    "plt.colorbar()\n",
    "\n",
    "plt.subplot(2,2,2)\n",
    "plt.title('True upward data (mGal)', fontsize = 16)\n",
    "plt.contourf(X, Y, gz_true, 15, cmap = plt.cm.jet)\n",
    "plt.xlabel('East (m)', fontsize = 14)\n",
    "plt.ylabel('North (m)', fontsize = 14)\n",
    "plt.xticks(np.arange(x.min(), x.max() + 1, 1000),fontsize = 14)\n",
    "plt.yticks(np.arange(y.min(), y.max() + 1, 1000),fontsize = 14)\n",
    "plt.colorbar()\n",
    "\n",
    "plt.subplot(2,2,3)\n",
    "plt.title('Calculated upward data (mGal)', fontsize = 16)\n",
    "plt.contourf(X, Y, gz_up, 15, cmap = plt.cm.jet)\n",
    "plt.xlabel('East (m)', fontsize = 14)\n",
    "plt.ylabel('North (m)', fontsize = 14)\n",
    "plt.xticks(np.arange(x.min(), x.max() + 1, 1000),fontsize = 14)\n",
    "plt.yticks(np.arange(y.min(), y.max() + 1, 1000),fontsize = 14)\n",
    "plt.colorbar()\n",
    "\n",
    "plt.subplot(2,2,4)\n",
    "plt.title('Residual (in mGal)', fontsize = 16)\n",
    "plt.contourf(X, Y, gz_true - gz_up, 15, cmap = plt.cm.jet)\n",
    "plt.xlabel('East (m)', fontsize = 14)\n",
    "plt.ylabel('North (m)', fontsize = 14)\n",
    "plt.xticks(np.arange(x.min(), x.max() + 1, 1000),fontsize = 14)\n",
    "plt.yticks(np.arange(y.min(), y.max() + 1, 1000),fontsize = 14)\n",
    "plt.colorbar()\n",
    "\n",
    "plt.savefig('figures/upward-cont.png', facecolor='w', edgecolor='w', bbox_inches='tight')\n",
    "plt.show()"
   ]
  }
 ],
 "metadata": {
  "kernelspec": {
   "display_name": "Python 3",
   "language": "python",
   "name": "python3"
  },
  "language_info": {
   "codemirror_mode": {
    "name": "ipython",
    "version": 3
   },
   "file_extension": ".py",
   "mimetype": "text/x-python",
   "name": "python",
   "nbconvert_exporter": "python",
   "pygments_lexer": "ipython3",
   "version": "3.6.5"
  }
 },
 "nbformat": 4,
 "nbformat_minor": 2
}
