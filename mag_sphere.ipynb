{
 "cells": [
  {
   "cell_type": "code",
   "execution_count": 1,
   "metadata": {
    "collapsed": true
   },
   "outputs": [],
   "source": [
    "import numpy as np\n",
    "#import pandas as pd\n",
    "#import random as rdm\n",
    "#import fatiando as ft\n",
    "import nielsen_codes as nc\n",
    "import matplotlib.pyplot as plt"
   ]
  },
  {
   "cell_type": "code",
   "execution_count": 14,
   "metadata": {
    "collapsed": true
   },
   "outputs": [],
   "source": [
    "# Define o numero de pontos\n",
    "npts = 500\n",
    "# Define os vetores X, Y e Z\n",
    "x = np.linspace(-5000,5000,npts)\n",
    "y = np.copy(x)\n",
    "#z = np.copy(x)\n",
    "z = -0.5\n",
    "# Realiza o mesh de pontos\n",
    "X, Y = np.meshgrid(x/1000, y/1000)"
   ]
  },
  {
   "cell_type": "code",
   "execution_count": 25,
   "metadata": {
    "collapsed": true
   },
   "outputs": [],
   "source": [
    "# Descreve as informacoes para a esfera\n",
    "# Esfera = X, Y, Z, Raio\n",
    "#esfera = np.array([8., -4., 15., 2.])\n",
    "esfera = np.array([-1500., 2000., 1000., 500.])\n",
    "inc = 45.\n",
    "dec = 45.\n",
    "azim = 0.\n",
    "mag = 5."
   ]
  },
  {
   "cell_type": "code",
   "execution_count": 26,
   "metadata": {
    "collapsed": true
   },
   "outputs": [],
   "source": [
    "# Cria o vetor de dados\n",
    "# Data para mapa de contorno\n",
    "data1 = np.zeros([npts*npts, 3])\n",
    "# Data para graficos de perfil\n",
    "#data2 = np.zeros([npts, 3])"
   ]
  },
  {
   "cell_type": "code",
   "execution_count": 27,
   "metadata": {},
   "outputs": [
    {
     "data": {
      "text/plain": [
       "\"#Calcula as colunas 1, 2 e 3, referentes a Bx, By e Bz\\nk = 0\\nfor j in range(y.size):\\n    for i in range(x.size):\\n        data1[k,0], data1[k,1], data1[k,2] = nc.dipole(X[i,j], Y[i,j], z, esfera[0], esfera[1], esfera[2], esfera[3], mag, inc, dec, azim)\\n# Salva o resultado\\n# Seu fela, o indice i faz varrer a variavel data1. O : atualiza tudo de uma so vez!\\n        k += 1\\nnp.savetxt('data_files/result_induction_data1.txt', data1)\""
      ]
     },
     "execution_count": 27,
     "metadata": {},
     "output_type": "execute_result"
    }
   ],
   "source": [
    "'''#Calcula as colunas 1, 2 e 3, referentes a Bx, By e Bz\n",
    "k = 0\n",
    "for j in range(y.size):\n",
    "    for i in range(x.size):\n",
    "        data1[k,0], data1[k,1], data1[k,2] = nc.dipole(X[i,j], Y[i,j], z, esfera[0], esfera[1], esfera[2], esfera[3], mag, inc, dec, azim)\n",
    "# Salva o resultado\n",
    "# Seu fela, o indice i faz varrer a variavel data1. O : atualiza tudo de uma so vez!\n",
    "        k += 1\n",
    "np.savetxt('data_files/result_induction_data1.txt', data1)'''"
   ]
  },
  {
   "cell_type": "code",
   "execution_count": 28,
   "metadata": {},
   "outputs": [],
   "source": [
    "#Calcula as colunas 1, 2 e 3, referentes a Bx, By e Bz\n",
    "k = 0\n",
    "for j in range(y.size):\n",
    "    for i in range(x.size):\n",
    "        data1[k,0], data1[k,1], data1[k,2] = nc.dipole(x[i], y[j], z, esfera[0], esfera[1], esfera[2], esfera[3], mag, inc, dec, azim)\n",
    "# Salva o resultado\n",
    "# Seu fela, o indice i faz varrer a variavel data1. O : atualiza tudo de uma so vez!\n",
    "        k += 1\n",
    "np.savetxt('data_files/result_induction_data.txt', data1)"
   ]
  },
  {
   "cell_type": "code",
   "execution_count": 29,
   "metadata": {
    "collapsed": true
   },
   "outputs": [],
   "source": [
    "#Calcula as colunas 1, 2 e 3, referentes a Bx, By e Bz\n",
    "#data2[:,0], data2[:,1], data2[:,2] = nc.dipole(x, y, z, esfera[0], esfera[1], esfera[2], esfera[3], mag, inc, dec, azim)\n",
    "# Salva o resultado\n",
    "#np.savetxt('data_files/result_induction_data2.txt', data2)"
   ]
  },
  {
   "cell_type": "code",
   "execution_count": 30,
   "metadata": {},
   "outputs": [],
   "source": [
    "# Calculo do campo regional\n",
    "# Valor da intensidade do campo (nT)\n",
    "F = 24300.\n",
    "incF = -30.\n",
    "decF = 45.\n",
    "azF = 0.\n",
    "# Calcula as componentes do regional\n",
    "regionalF = nc.regional_components(F, incF, decF, azF)"
   ]
  },
  {
   "cell_type": "code",
   "execution_count": 31,
   "metadata": {
    "collapsed": true
   },
   "outputs": [],
   "source": [
    "# Utilizando os arquivos DATA1\n",
    "# Indica as componentes de B para x, y e z\n",
    "Bx1 = data1[:,0]\n",
    "By1 = data1[:,1]\n",
    "Bz1 = data1[:,2]\n",
    "# Utilizando os arquivos DATA2\n",
    "# Indica as componentes de B para x, y e z - Caso 2\n",
    "#x2 = data2[:,0]\n",
    "#y2 = data2[:,1]\n",
    "#z2 = data2[:,2]"
   ]
  },
  {
   "cell_type": "code",
   "execution_count": 32,
   "metadata": {
    "collapsed": true
   },
   "outputs": [],
   "source": [
    "# Computing the components + the regional:\n",
    "BX1 = Bx1 + regionalF[0]\n",
    "BY1 = By1 + regionalF[1]\n",
    "BZ1 = Bz1 + regionalF[2]\n",
    "# Calcula o valor resultante para DATA1\n",
    "B1 = np.sqrt(((BX1**2)+(BY1**2)+(BZ1**2))) \n",
    "TF1 = B1 - F\n",
    "# Salva o arquivo B1 e a anomalia\n",
    "#np.savetxt('result_induction_data1.txt', B1)\n",
    "np.savetxt('data_files/result_total_field_data1.txt', TF1)\n",
    "\n",
    "# Computing the components + the regional:\n",
    "#BX2 = Bx2 + regionalF[0]\n",
    "#BY2 = By2 + regionalF[1]\n",
    "#BZ2 = Bz2 + regionalF[2]\n",
    "# Calcula o valor resultante para DATA2\n",
    "#B2 = (np.sqrt((BX2**2)+(BY2**2)+(BZ2**2))) \n",
    "#TF2 = B2 - F\n",
    "# Salva o arquivo B2 e a anomalia\n",
    "#np.savetxt('result_induction_data2.txt', B2)\n",
    "#np.savetxt('data_files/result_total_field_data2.txt', TF2)"
   ]
  },
  {
   "cell_type": "code",
   "execution_count": 33,
   "metadata": {},
   "outputs": [
    {
     "data": {
      "image/png": "[encoded data removed]",
      "text/plain": [
       "<matplotlib.figure.Figure at 0x7fb652c32250>"
      ]
     },
     "metadata": {},
     "output_type": "display_data"
    }
   ],
   "source": [
    "# Plota as componentes Bx, By e Bz, e a anomalia de campo total\n",
    "'''\n",
    "# Componente Bx\n",
    "Bx1 = np.reshape(Bx1,(npts,npts))\n",
    "plt.figure(figsize=(10,8))\n",
    "plt.title('Componente $B_x$ (nT)', fontsize = 18)\n",
    "totalfield = plt.contourf(X, Y, Bx1, 50)\n",
    "plt.xlabel('Coordenada $X$', fontsize = 14)\n",
    "plt.ylabel('Coordenada $Y$', fontsize = 14)\n",
    "plt.xticks(fontsize=14)\n",
    "plt.yticks(fontsize=14)\n",
    "plt.xlim(np.min(X), np.max(X))\n",
    "plt.ylim(np.min(Y), np.max(Y))\n",
    "plt.colorbar()\n",
    "#plt.savefig('figures/Bx_induction.png')\n",
    "#plt.show()\n",
    "\n",
    "# Componente By\n",
    "By1 = np.reshape(By1,(npts,npts))\n",
    "plt.figure(figsize=(10,8))\n",
    "plt.title('Componente $B_y$ (nT)', fontsize = 18)\n",
    "totalfield = plt.contourf(X, Y, By1, 50)\n",
    "plt.xlabel('Coordenada $X$', fontsize = 14)\n",
    "plt.ylabel('Coordenada $Y$', fontsize = 14)\n",
    "plt.xticks(fontsize=14)\n",
    "plt.yticks(fontsize=14)\n",
    "plt.xlim(np.min(X), np.max(X))\n",
    "plt.ylim(np.min(Y), np.max(Y))\n",
    "plt.colorbar()\n",
    "#plt.savefig('figures/By_induction.png')\n",
    "#plt.show()\n",
    "\n",
    "# Componente Bz\n",
    "# Componente By\n",
    "Bz1 = np.reshape(Bz1,(npts,npts))\n",
    "plt.figure(figsize=(10,8))\n",
    "plt.title('Componente $B_z$ (nT)', fontsize = 18)\n",
    "totalfield = plt.contourf(X, Y, Bz1, 50)\n",
    "plt.xlabel('Coordenada $X$', fontsize = 14)\n",
    "plt.ylabel('Coordenada $Y$', fontsize = 14)\n",
    "plt.xticks(fontsize=14)\n",
    "plt.yticks(fontsize=14)\n",
    "plt.xlim(np.min(X), np.max(X))\n",
    "plt.ylim(np.min(Y), np.max(Y))\n",
    "plt.colorbar()\n",
    "#plt.savefig('figures/Bz_induction.png')\n",
    "#plt.show()\n",
    "'''\n",
    "# Total Field\n",
    "TF1 = np.reshape(TF1,(npts,npts))\n",
    "plt.figure(figsize=(10,8))\n",
    "plt.title('Total-Field Anomaly ($nT$)', fontsize = 18)\n",
    "totalfield = plt.contour(X, Y, TF1)\n",
    "totalfield = plt.contourf(X, Y, TF1, 50)\n",
    "plt.xlabel('Coordinate $X$', fontsize = 14)\n",
    "plt.ylabel('Coordinate $Y$', fontsize = 14)\n",
    "plt.xticks(fontsize=14)\n",
    "plt.yticks(fontsize=14)\n",
    "#plt.xlim(np.min(X), np.max(X))\n",
    "#plt.ylim(np.min(Y), np.max(Y))\n",
    "plt.colorbar()\n",
    "#plt.savefig('figures/totalfield.png')\n",
    "plt.show()"
   ]
  },
  {
   "cell_type": "code",
   "execution_count": 24,
   "metadata": {},
   "outputs": [
    {
     "data": {
      "text/plain": [
       "\"\\n# Plota as figuras para mapas de perfil das componentes X, Y e Z do campo magnetico induzido e o campo total\\n# Componente X\\nplt.figure(figsize=(10,6))\\nplt.plot(x, Bx2, 'k-')\\nplt.title('Componente $B_x$ de inducao', fontsize = 16)\\nplt.xlabel('Pontos de observacao', fontsize = 14)\\nplt.ylabel('$B_x$ (nT)', fontsize = 14)\\nplt.xticks(fontsize=14)\\nplt.yticks(fontsize=14)\\nplt.grid()\\nplt.savefig('figures/profile_bx.png')\\n#plt.show()\\n# Componente Y\\nplt.figure(figsize=(10,6))\\nplt.plot(x, By2, 'k-')\\nplt.title('Componente $B_y$ de inducao', fontsize = 16)\\nplt.xlabel('Pontos de observacao', fontsize = 14)\\nplt.ylabel('$B_y$ (nT)', fontsize = 14)\\nplt.xticks(fontsize=14)\\nplt.yticks(fontsize=14)\\nplt.grid()\\nplt.savefig('figures/profile_by.png')\\n#plt.show()\\n# Componente Z\\nplt.figure(figsize=(10,6))\\nplt.plot(x, Bz2, 'k-')\\nplt.title('Componente $B_z$ de inducao', fontsize = 16)\\nplt.xlabel('Pontos de observacao', fontsize = 14)\\nplt.ylabel('$B_z$ (nT)', fontsize = 14)\\nplt.xticks(fontsize=14)\\nplt.yticks(fontsize=14)\\nplt.grid()\\nplt.savefig('figures/profile_bz.png')\\n#plt.show()\\n# Componente Total\\nplt.figure(figsize=(10,6))\\nplt.plot(x, B2, 'k-')\\nplt.title('Componente Total $B$', fontsize = 16)\\nplt.xlabel('Pontos de observacao', fontsize = 14)\\nplt.ylabel('$B$ (nT)', fontsize = 14)\\nplt.xticks(fontsize=14)\\nplt.yticks(fontsize=14)\\nplt.grid()\\nplt.savefig('figures/profile_b_total.png')\\n#plt.show()\\nplt.figure(figsize=(10,6))\\nplt.plot(x, TF2, 'k-')\\nplt.title('Componente Total $B$', fontsize = 16)\\nplt.xlabel('Pontos de observacao', fontsize = 14)\\nplt.ylabel('$B$ (nT)', fontsize = 14)\\nplt.xticks(fontsize=14)\\nplt.yticks(fontsize=14)\\nplt.grid()\\nplt.savefig('figures/profile_totalfield.png')\\n#plt.show()\\n\""
      ]
     },
     "execution_count": 24,
     "metadata": {},
     "output_type": "execute_result"
    }
   ],
   "source": [
    "'''\n",
    "# Plota as figuras para mapas de perfil das componentes X, Y e Z do campo magnetico induzido e o campo total\n",
    "# Componente X\n",
    "plt.figure(figsize=(10,6))\n",
    "plt.plot(x, Bx2, 'k-')\n",
    "plt.title('Componente $B_x$ de inducao', fontsize = 16)\n",
    "plt.xlabel('Pontos de observacao', fontsize = 14)\n",
    "plt.ylabel('$B_x$ (nT)', fontsize = 14)\n",
    "plt.xticks(fontsize=14)\n",
    "plt.yticks(fontsize=14)\n",
    "plt.grid()\n",
    "plt.savefig('figures/profile_bx.png')\n",
    "#plt.show()\n",
    "# Componente Y\n",
    "plt.figure(figsize=(10,6))\n",
    "plt.plot(x, By2, 'k-')\n",
    "plt.title('Componente $B_y$ de inducao', fontsize = 16)\n",
    "plt.xlabel('Pontos de observacao', fontsize = 14)\n",
    "plt.ylabel('$B_y$ (nT)', fontsize = 14)\n",
    "plt.xticks(fontsize=14)\n",
    "plt.yticks(fontsize=14)\n",
    "plt.grid()\n",
    "plt.savefig('figures/profile_by.png')\n",
    "#plt.show()\n",
    "# Componente Z\n",
    "plt.figure(figsize=(10,6))\n",
    "plt.plot(x, Bz2, 'k-')\n",
    "plt.title('Componente $B_z$ de inducao', fontsize = 16)\n",
    "plt.xlabel('Pontos de observacao', fontsize = 14)\n",
    "plt.ylabel('$B_z$ (nT)', fontsize = 14)\n",
    "plt.xticks(fontsize=14)\n",
    "plt.yticks(fontsize=14)\n",
    "plt.grid()\n",
    "plt.savefig('figures/profile_bz.png')\n",
    "#plt.show()\n",
    "# Componente Total\n",
    "plt.figure(figsize=(10,6))\n",
    "plt.plot(x, B2, 'k-')\n",
    "plt.title('Componente Total $B$', fontsize = 16)\n",
    "plt.xlabel('Pontos de observacao', fontsize = 14)\n",
    "plt.ylabel('$B$ (nT)', fontsize = 14)\n",
    "plt.xticks(fontsize=14)\n",
    "plt.yticks(fontsize=14)\n",
    "plt.grid()\n",
    "plt.savefig('figures/profile_b_total.png')\n",
    "#plt.show()\n",
    "plt.figure(figsize=(10,6))\n",
    "plt.plot(x, TF2, 'k-')\n",
    "plt.title('Componente Total $B$', fontsize = 16)\n",
    "plt.xlabel('Pontos de observacao', fontsize = 14)\n",
    "plt.ylabel('$B$ (nT)', fontsize = 14)\n",
    "plt.xticks(fontsize=14)\n",
    "plt.yticks(fontsize=14)\n",
    "plt.grid()\n",
    "plt.savefig('figures/profile_totalfield.png')\n",
    "#plt.show()\n",
    "'''"
   ]
  },
  {
   "cell_type": "code",
   "execution_count": null,
   "metadata": {
    "collapsed": true
   },
   "outputs": [],
   "source": []
  }
 ],
 "metadata": {
  "kernelspec": {
   "display_name": "Python 2",
   "language": "python",
   "name": "python2"
  },
  "language_info": {
   "codemirror_mode": {
    "name": "ipython",
    "version": 2
   },
   "file_extension": ".py",
   "mimetype": "text/x-python",
   "name": "python",
   "nbconvert_exporter": "python",
   "pygments_lexer": "ipython2",
   "version": "2.7.13"
  }
 },
 "nbformat": 4,
 "nbformat_minor": 2
}
