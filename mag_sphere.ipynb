{
 "cells": [
  {
   "cell_type": "markdown",
   "metadata": {
    "collapsed": true
   },
   "source": [
    "### Magnetic induction\n",
    "\n",
    "This notebook is used to compute the result of the magnetic induction due to a solid sphere which it has the position of the center located in $x$, $y$ and $z$ coordinates, on the way that $z$ is positive downward.\n",
    "\n",
    "The magnetic induction $\\mathbf{\\overline{B}}$ is given by \n",
    "\n",
    "$$ \\mathbf{\\overline{B}} = \\mathbf{B_x}\\, \\hat{x} + \\mathbf{B_y}\\, \\hat{y} + \\mathbf{B_z}\\, \\hat{z}$$ \n",
    "\n",
    "and $\\mathbf{B_x}$, $\\mathbf{B_y}$ and $\\mathbf{B_z}$ represent the magnetic induction components along all directions $\\hat{x}$, $\\hat{y}$ and $\\hat{z}$.\n",
    "\n",
    "The simple formulation discribed on Blakely(1995, p.75) is:\n",
    "\n",
    "$$ \\mathbf{\\overline{B}} = C_m \\, \\dfrac{m}{r^3}\\, \\left[3(\\hat{m}\\, \\cdot \\, \\hat{r})\\, \\hat{r} - \\hat{m}\\right]$$\n",
    "\n",
    "* $C_m$ represents the magnetization constant;\n",
    "* $m$ represents the magnetization intesity;\n",
    "* $r$ represents the distance between the observation point $r_p$ and the position of the source $r_s$.\n",
    "\n",
    "In this formulation, all components are calculated as follow:\n",
    "\n",
    "$$ \\mathbf{\\overline{B}}_{x,y,z} = \\dfrac{4\\, \\pi \\,a^3 \\,C_m \\,m}{9} \\,\\left(\\overline{r} \\,\\cdot \\,\\overline{m}\\right) \\,\\left(r_{x,y,z} - r^2\\right) \\,m_{x,y,z} \\,\\,\\hat{r}$$\n",
    "\n",
    "###### Warning!\n",
    "If you want to check this out, go forward. All examples and sources are described in Blakely(1995), chapters 4 and 5 and Appendix B."
   ]
  },
  {
   "cell_type": "code",
   "execution_count": null,
   "metadata": {
    "collapsed": true
   },
   "outputs": [],
   "source": [
    "# Copying all usefull libraries\n",
    "import numpy as np\n",
    "#import pandas as pd\n",
    "#import random as rdm\n",
    "#import fatiando as ft\n",
    "import nielsen_codes as nc\n",
    "import matplotlib.pyplot as plt"
   ]
  },
  {
   "cell_type": "code",
   "execution_count": null,
   "metadata": {
    "collapsed": true
   },
   "outputs": [],
   "source": [
    "# Number of points\n",
    "# Set of points for x and y directions and one only value for z direction (is positive downward!)\n",
    "npts = 2000\n",
    "x = np.linspace(-5000,5000,npts)\n",
    "y = np.copy(x)\n",
    "# If Z is a numpy array for all values of height, than we use z = np.copy(x) or z = np.array([values_for_z])\n",
    "z = -100.\n",
    "# Computes the mesh of all points\n",
    "X, Y = np.meshgrid(x, y)\n",
    "# Write out a few informations\n",
    "#print \"Total of points on mesh in x direction:\", X.size\n",
    "#print \"Total of points on mesh in y direction:\", Y.size"
   ]
  },
  {
   "cell_type": "code",
   "execution_count": null,
   "metadata": {
    "collapsed": true
   },
   "outputs": [],
   "source": [
    "# Writing the sphere's values for positions of its center and the value for the radius of its size, area and volum\n",
    "# Sphere is an array that contains in that order: (x position, y position, z position, radius)\n",
    "sphere = np.array([-1000., 1500., 1550., 800.])  # all in meters\n",
    "# Writing inclination, declination, azimuth and also the value for the magnetization intensity\n",
    "inc, dec, azim = 45., 45., 0. # degrees\n",
    "mag = 5. # A/m²"
   ]
  },
  {
   "cell_type": "code",
   "execution_count": null,
   "metadata": {
    "collapsed": true
   },
   "outputs": [],
   "source": [
    "# Create a zero data matrix to compute the values\n",
    "Bx, By, Bz = np.zeros(npts*npts), np.zeros(npts*npts), np.zeros(npts*npts)"
   ]
  },
  {
   "cell_type": "code",
   "execution_count": null,
   "metadata": {
    "collapsed": true
   },
   "outputs": [],
   "source": [
    "# Calculation of all componentes for the magnetic induction\n",
    "Bx, By, Bz = nc.dipole(X, Y, z, sphere[0], sphere[1], sphere[2], sphere[3], mag, inc, dec, azim)"
   ]
  },
  {
   "cell_type": "code",
   "execution_count": null,
   "metadata": {
    "collapsed": true
   },
   "outputs": [],
   "source": [
    "# Plot all X, Y and Z components for the magnetic induction\n",
    "# Componente Bx\n",
    "plt.figure(figsize=(10,8))\n",
    "plt.title('$B_x$ component (nT)', fontsize = 18)\n",
    "plt.contour(Y, X, Bx)\n",
    "plt.contourf(Y, X, Bx, 20)\n",
    "plt.xlabel('East (km)', fontsize = 14)\n",
    "plt.ylabel('North (km)', fontsize = 14)\n",
    "plt.xticks(fontsize=14)\n",
    "plt.yticks(fontsize=14)\n",
    "plt.xlim(np.min(X), np.max(X))\n",
    "plt.ylim(np.min(Y), np.max(Y))\n",
    "plt.colorbar()\n",
    "#plt.grid()\n",
    "plt.savefig('Bx_induction.png')\n",
    "# Componente By\n",
    "plt.figure(figsize=(10,8))\n",
    "plt.title('$B_y$ component (nT)', fontsize = 18)\n",
    "plt.contour(Y, X, By)\n",
    "plt.contourf(Y, X, By, 20)\n",
    "plt.xlabel('East (km)', fontsize = 14)\n",
    "plt.ylabel('North (km)', fontsize = 14)\n",
    "plt.xticks(fontsize=14)\n",
    "plt.yticks(fontsize=14)\n",
    "plt.xlim(np.min(X), np.max(X))\n",
    "plt.ylim(np.min(Y), np.max(Y))\n",
    "plt.colorbar()\n",
    "#plt.grid()\n",
    "plt.savefig('By_induction.png')\n",
    "# Componente Bz\n",
    "plt.figure(figsize=(10,8))\n",
    "plt.title('Componente $B_z$ (nT)', fontsize = 18)\n",
    "plt.contour(Y, X, Bz)\n",
    "plt.contourf(Y, X, Bz, 20)\n",
    "plt.xlabel('East (km)', fontsize = 14)\n",
    "plt.ylabel('North (km)', fontsize = 14)\n",
    "plt.xticks(fontsize=14)\n",
    "plt.yticks(fontsize=14)\n",
    "plt.xlim(np.min(X), np.max(X))\n",
    "plt.ylim(np.min(Y), np.max(Y))\n",
    "plt.colorbar()\n",
    "#plt.grid()\n",
    "plt.savefig('Bz_induction.png')"
   ]
  },
  {
   "cell_type": "code",
   "execution_count": null,
   "metadata": {
    "collapsed": true
   },
   "outputs": [],
   "source": [
    "# Compute de regional field\n",
    "# Value for the magnetic field intensity (nT)\n",
    "F = 24300.\n",
    "incF = 45.\n",
    "decF = 45.\n",
    "azF = 0.\n",
    "# Regional magnetic field components\n",
    "regionalF = nc.regional_components(F, incF, decF, azF)\n",
    "# Computing the components and the regional field\n",
    "Bx = Bx + regionalF[0]\n",
    "By = By + regionalF[1]\n",
    "Bz = Bz + regionalF[2]\n",
    "# Final value for the total field anomaly\n",
    "TF = np.sqrt(((Bx**2)+(By**2)+(Bz**2))) - F"
   ]
  },
  {
   "cell_type": "code",
   "execution_count": null,
   "metadata": {
    "collapsed": true
   },
   "outputs": [],
   "source": [
    "# Plot the total field anomaly due to a solid sphere\n",
    "plt.figure(figsize=(10,8))\n",
    "plt.title('Total field anomaly', fontsize = 18)\n",
    "plt.contour(Y, X, TF)\n",
    "plt.contourf(Y, X, TF, 10)\n",
    "plt.xlabel('East (km)', fontsize = 14)\n",
    "plt.ylabel('North (km)', fontsize = 14)\n",
    "plt.xticks(fontsize=14)\n",
    "plt.yticks(fontsize=14)\n",
    "plt.xlim(np.min(X), np.max(X))\n",
    "plt.ylim(np.min(Y), np.max(Y))\n",
    "plt.colorbar()\n",
    "#plt.grid()\n",
    "#clb = plt.colorbar()\n",
    "#clb.ax.set_title('nT')\n",
    "plt.savefig('totalfield.png')"
   ]
  },
  {
   "cell_type": "code",
   "execution_count": null,
   "metadata": {
    "collapsed": true
   },
   "outputs": [],
   "source": [
    "# Adding some noise on the data\n",
    "var = 0.075\n",
    "# Final value for the total field anomaly with noise\n",
    "TF_noise = TF + np.random.normal(loc = 20., scale = np.sqrt(var), size = TF.shape)"
   ]
  },
  {
   "cell_type": "code",
   "execution_count": null,
   "metadata": {
    "collapsed": true
   },
   "outputs": [],
   "source": [
    "# Plot the total field anomaly with standard noisy\n",
    "plt.figure(figsize=(10,8))\n",
    "plt.title('Total field anomaly with noise', fontsize = 18)\n",
    "#plt.contour(Y, X, TF_noise)\n",
    "plt.contourf(Y, X, TF_noise, 10)\n",
    "plt.xlabel('East (km)', fontsize = 14)\n",
    "plt.ylabel('North (km)', fontsize = 14)\n",
    "plt.xticks(fontsize=14)\n",
    "plt.yticks(fontsize=14)\n",
    "plt.xlim(np.min(X), np.max(X))\n",
    "plt.ylim(np.min(Y), np.max(Y))\n",
    "plt.colorbar()\n",
    "#plt.grid()\n",
    "#clb = plt.colorbar()\n",
    "#clb.ax.set_title('nT')\n",
    "plt.savefig('totalfield_noise.png')"
   ]
  },
  {
   "cell_type": "code",
   "execution_count": null,
   "metadata": {
    "collapsed": true
   },
   "outputs": [],
   "source": [
    "# Save the simple total field anomaly as a data file\n",
    "data = np.zeros([npts**2,3])\n",
    "for i in range(npts):\n",
    "    for j in range(npts):\n",
    "        data[j+(i*npts),0] = X[i,j]\n",
    "        data[j+(i*npts),1] = Y[i,j]\n",
    "        data[j+(i*npts),2] = TF[i,j]\n",
    "np.savetxt('totalfield.txt', data)"
   ]
  },
  {
   "cell_type": "code",
   "execution_count": null,
   "metadata": {
    "collapsed": true
   },
   "outputs": [],
   "source": [
    "# Save the total field anomaly with noise as a data file\n",
    "data = np.zeros([npts**2,3])\n",
    "for i in range(npts):\n",
    "    for j in range(npts):\n",
    "        data[j+(i*npts),0] = X[i,j]\n",
    "        data[j+(i*npts),1] = Y[i,j]\n",
    "        data[j+(i*npts),2] = TF_noise[i,j]\n",
    "np.savetxt('totalfield_noise.txt', data)"
   ]
  },
  {
   "cell_type": "code",
   "execution_count": null,
   "metadata": {
    "collapsed": true
   },
   "outputs": [],
   "source": [
    "import time\n",
    "print 'Nelson Ribeiro Filho', '/', 'Rio de Janeiro -', time.ctime()"
   ]
  }
 ],
 "metadata": {
  "kernelspec": {
   "display_name": "Python 2",
   "language": "python",
   "name": "python2"
  },
  "language_info": {
   "codemirror_mode": {
    "name": "ipython",
    "version": 2
   },
   "file_extension": ".py",
   "mimetype": "text/x-python",
   "name": "python",
   "nbconvert_exporter": "python",
   "pygments_lexer": "ipython2",
   "version": "2.7.13"
  }
 },
 "nbformat": 4,
 "nbformat_minor": 2
}
