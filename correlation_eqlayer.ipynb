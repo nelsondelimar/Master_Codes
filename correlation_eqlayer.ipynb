{
 "cells": [
  {
   "cell_type": "code",
   "execution_count": 1,
   "metadata": {},
   "outputs": [],
   "source": [
    "# Importing all libraries\n",
    "import numpy\n",
    "from matplotlib import pyplot"
   ]
  },
  {
   "cell_type": "code",
   "execution_count": 2,
   "metadata": {},
   "outputs": [],
   "source": [
    "from codes.grids import regular_grid\n",
    "from codes.prism import prism_tf\n",
    "from codes.auxiliars import addnoise\n",
    "from codes.statistical import analysis"
   ]
  },
  {
   "cell_type": "code",
   "execution_count": 3,
   "metadata": {},
   "outputs": [],
   "source": [
    "# Defines number of points\n",
    "nx, ny = 50, 50\n",
    "# Define the area\n",
    "area = (-2000., 2000., -2000., 2000.)\n",
    "shape = (nx, ny)\n",
    "# Creates the grid\n",
    "xobs, yobs, zobs = regular_grid(area, shape, -200.)"
   ]
  },
  {
   "cell_type": "code",
   "execution_count": 4,
   "metadata": {},
   "outputs": [],
   "source": [
    "# Define the elements of the prims for gravity and magnetic computation\n",
    "model1 = (-200., 200., -500., 500., 100., 300., 1.28)\n",
    "# Directions\n",
    "inc, dec = 55., -44. # field\n",
    "incs, decs = 3., 2. # source"
   ]
  },
  {
   "cell_type": "code",
   "execution_count": 5,
   "metadata": {},
   "outputs": [],
   "source": [
    "# Computes the total field anomaly\n",
    "tf = prism_tf(xobs, yobs, zobs, model1, inc, dec, incs, decs)"
   ]
  },
  {
   "cell_type": "code",
   "execution_count": 6,
   "metadata": {},
   "outputs": [
    {
     "name": "stdout",
     "output_type": "stream",
     "text": [
      "Minimum:    -65.8569 nT\n",
      "Maximum:    52.2536 nT\n",
      "Mean value: -0.2512 nT\n",
      "Variation:  118.1105 nT\n"
     ]
    }
   ],
   "source": [
    "_ = analysis(tf, 'nT')"
   ]
  },
  {
   "cell_type": "code",
   "execution_count": 7,
   "metadata": {},
   "outputs": [],
   "source": [
    "# Adding noise\n",
    "tf = addnoise(tf, 4., 0.1)"
   ]
  },
  {
   "cell_type": "code",
   "execution_count": 8,
   "metadata": {},
   "outputs": [
    {
     "data": {
      "image/png": "[encoded data removed]",
      "text/plain": [
       "<Figure size 576x432 with 2 Axes>"
      ]
     },
     "metadata": {},
     "output_type": "display_data"
    }
   ],
   "source": [
    "# Plotting the result\n",
    "pyplot.figure(figsize=(8, 6))\n",
    "pyplot.contourf(yobs.reshape(shape), xobs.reshape(shape), tf.reshape(shape), \n",
    "                20, cmap = pyplot.cm.jet)\n",
    "pyplot.title('Total field anomaly (nT)')\n",
    "pyplot.xlabel('X coordinate (m)')\n",
    "pyplot.ylabel('Y coordinate (m)')\n",
    "pyplot.xticks(numpy.linspace(yobs.min(), yobs.max(), 5))\n",
    "pyplot.yticks(numpy.linspace(xobs.min(), xobs.max(), 5))\n",
    "pyplot.colorbar()\n",
    "pyplot.show()"
   ]
  },
  {
   "cell_type": "code",
   "execution_count": 9,
   "metadata": {},
   "outputs": [],
   "source": [
    "from codes.equivalentlayer import layer, mat_mag_tfa"
   ]
  },
  {
   "cell_type": "code",
   "execution_count": 10,
   "metadata": {},
   "outputs": [],
   "source": [
    "# Layer informations\n",
    "area_layer = (-2000., 2000., -2000., 2000.)\n",
    "shape_layer = (40, 40)\n",
    "level = 500."
   ]
  },
  {
   "cell_type": "code",
   "execution_count": 11,
   "metadata": {},
   "outputs": [],
   "source": [
    "# Create the layer\n",
    "eqlayer = layer(area_layer, shape_layer, level)"
   ]
  },
  {
   "cell_type": "code",
   "execution_count": 12,
   "metadata": {},
   "outputs": [],
   "source": [
    "data = [xobs, yobs, zobs, tf]"
   ]
  },
  {
   "cell_type": "code",
   "execution_count": 13,
   "metadata": {},
   "outputs": [],
   "source": [
    "def rtp_layer(datasets, datashape, layermodel, layershape, incf, decf, inceql = None, deceql = None):\n",
    "    '''\n",
    "    It returns the reduce to Pole data by using the equivalent layer technique. This functions \n",
    "    must receives all data as a list with all positions for x, y and z, and also the potential \n",
    "    data. It receives the shape of the data, the model as an equivalent layer and the values of\n",
    "    inclination and declination as well, for both field and depth sources.    \n",
    "    \n",
    "    Inputs:\n",
    "    datasets - numpy list - x, y and z positions and total field data\n",
    "    datashape - tuple - shape of the input data\n",
    "    layermodel - list - values for created equivalent layer\n",
    "    layershape - tuple - shape of the equivalent layer\n",
    "    incf - float - inclination of the geomagnetic field\n",
    "    decf - float - declination of the geomagnetic field\n",
    "    inceql - float - inclination of all depth sources\n",
    "    deceql - float - declination of all depth sources\n",
    "    \n",
    "    Output:\n",
    "    rtp - numpy array - reduce to Pole data\n",
    "    \n",
    "    '''\n",
    "    \n",
    "    # Verify the depth of the equivalent layer\n",
    "    if level <= 0.:\n",
    "        raise ValueError('Layer depth must be a positive value!')\n",
    "    \n",
    "    # Define the type of magnetization\n",
    "    if inceql == None or deceql == None:\n",
    "        inceql = incf\n",
    "        deceql = decf\n",
    "        \n",
    "    # Datasets = [xobs, yobs, zobs, totalfield]\n",
    "    xp = datasets[0]\n",
    "    yp = datasets[1]\n",
    "    zp = datasets[2]\n",
    "    tf = datasets[3]\n",
    "    \n",
    "    # Define the number of observations and depth sources\n",
    "    N = datashape[0]*datashape[1]\n",
    "    M = layershape[0]*layershape[1]\n",
    "    \n",
    "    # Computes the sensitivity matrix\n",
    "    matA = mat_mag_tfa(xp, yp, zp, layermodel, incf, decf, inceql, deceql)\n",
    "    \n",
    "    # Case1: Overdetermined - Number of observations are greater or equal than the number of depth sources\n",
    "    if N >= M: \n",
    "        mu = 1.e-6\n",
    "        I = numpy.identity(M)\n",
    "        trace = numpy.trace(matA.T.dot(matA))/M\n",
    "        vec = numpy.linalg.solve(numpy.dot(matA.T, matA) + mu*trace*I, numpy.dot(matA.T, tf))\n",
    "    # Case2: Underterminated - Number of observations are less than the number of depth sources\n",
    "    else:\n",
    "        mu = 1.e-6\n",
    "        I = numpy.identity(N)\n",
    "        trace = numpy.trace(matA.T.dot(matA))/N\n",
    "        aux = numpy.linalg.solve(numpy.dot(matA, matA.T) + mu*trace*I, tf)\n",
    "        vec = numpy.dot(matA.T, aux)\n",
    "        \n",
    "    # Calculates the predicted total field anomaly data\n",
    "    tf_pred = numpy.dot(matA, vec)\n",
    "    \n",
    "    # Create the new matrix for reduction to Pole\n",
    "    mat_rtp = mat_mag_tfa(xp, yp, zp, layermodel, 90., 0., 90., 0.)\n",
    "    # Calculates the reduction to Pole\n",
    "    rtp = numpy.dot(mat_rtp, vec)    \n",
    "    return rtp.reshape(datashape)"
   ]
  },
  {
   "cell_type": "code",
   "execution_count": 15,
   "metadata": {},
   "outputs": [],
   "source": [
    "# Importing filtering functions\n",
    "from codes.filtering import reduction\n",
    "from codes.derivative import totalgrad, zderiv\n",
    "# Importing the correlation function\n",
    "from codes.statistical import cccoef"
   ]
  },
  {
   "cell_type": "code",
   "execution_count": 16,
   "metadata": {},
   "outputs": [],
   "source": [
    "# Create the values for inclination and declination\n",
    "I = numpy.arange(-90., 91.)\n",
    "D = numpy.arange(-180., 181.)"
   ]
  },
  {
   "cell_type": "code",
   "execution_count": 17,
   "metadata": {},
   "outputs": [],
   "source": [
    "# Create the grid\n",
    "inclination, declination = regular_grid((-90., 90., -180., 180.), (181, 361))"
   ]
  },
  {
   "cell_type": "code",
   "execution_count": 21,
   "metadata": {},
   "outputs": [],
   "source": [
    "#CC = numpy.zeros((I.size, D.size))\n",
    "CC = numpy.zeros(I.size*D.size)"
   ]
  },
  {
   "cell_type": "code",
   "execution_count": 22,
   "metadata": {},
   "outputs": [
    {
     "ename": "ValueError",
     "evalue": "Shape and axes have different lengths.",
     "output_type": "error",
     "traceback": [
      "\u001b[0;31m---------------------------------------------------------------------------\u001b[0m",
      "\u001b[0;31mValueError\u001b[0m                                Traceback (most recent call last)",
      "\u001b[0;32m<ipython-input-22-8551eb346d08>\u001b[0m in \u001b[0;36m<module>\u001b[0;34m()\u001b[0m\n\u001b[1;32m      3\u001b[0m         \u001b[0;32mif\u001b[0m \u001b[0mi\u001b[0m \u001b[0;34m>=\u001b[0m \u001b[0;34m-\u001b[0m\u001b[0;36m15.\u001b[0m \u001b[0;32mor\u001b[0m \u001b[0mi\u001b[0m \u001b[0;34m<=\u001b[0m \u001b[0;36m15.\u001b[0m\u001b[0;34m:\u001b[0m\u001b[0;34m\u001b[0m\u001b[0m\n\u001b[1;32m      4\u001b[0m             \u001b[0mrtp_layer\u001b[0m\u001b[0;34m(\u001b[0m\u001b[0mdata\u001b[0m\u001b[0;34m,\u001b[0m \u001b[0mshape\u001b[0m\u001b[0;34m,\u001b[0m \u001b[0meqlayer\u001b[0m\u001b[0;34m,\u001b[0m \u001b[0mshape_layer\u001b[0m\u001b[0;34m,\u001b[0m \u001b[0minc\u001b[0m\u001b[0;34m,\u001b[0m \u001b[0mdec\u001b[0m\u001b[0;34m,\u001b[0m \u001b[0mi\u001b[0m\u001b[0;34m,\u001b[0m \u001b[0mj\u001b[0m\u001b[0;34m)\u001b[0m\u001b[0;34m\u001b[0m\u001b[0m\n\u001b[0;32m----> 5\u001b[0;31m             \u001b[0mtga\u001b[0m \u001b[0;34m=\u001b[0m \u001b[0mtotalgrad\u001b[0m\u001b[0;34m(\u001b[0m\u001b[0mxobs\u001b[0m\u001b[0;34m.\u001b[0m\u001b[0mreshape\u001b[0m\u001b[0;34m(\u001b[0m\u001b[0mshape\u001b[0m\u001b[0;34m)\u001b[0m\u001b[0;34m,\u001b[0m \u001b[0myobs\u001b[0m\u001b[0;34m.\u001b[0m\u001b[0mreshape\u001b[0m\u001b[0;34m(\u001b[0m\u001b[0mshape\u001b[0m\u001b[0;34m)\u001b[0m\u001b[0;34m,\u001b[0m \u001b[0mrtp_layer\u001b[0m\u001b[0;34m)\u001b[0m\u001b[0;34m\u001b[0m\u001b[0m\n\u001b[0m\u001b[1;32m      6\u001b[0m             \u001b[0mvga\u001b[0m \u001b[0;34m=\u001b[0m \u001b[0mzderiv\u001b[0m\u001b[0;34m(\u001b[0m\u001b[0mxobs\u001b[0m\u001b[0;34m.\u001b[0m\u001b[0mreshape\u001b[0m\u001b[0;34m(\u001b[0m\u001b[0mshape\u001b[0m\u001b[0;34m)\u001b[0m\u001b[0;34m,\u001b[0m \u001b[0myobs\u001b[0m\u001b[0;34m.\u001b[0m\u001b[0mreshape\u001b[0m\u001b[0;34m(\u001b[0m\u001b[0mshape\u001b[0m\u001b[0;34m)\u001b[0m\u001b[0;34m,\u001b[0m \u001b[0mrtp_layer\u001b[0m\u001b[0;34m)\u001b[0m\u001b[0;34m\u001b[0m\u001b[0m\n\u001b[1;32m      7\u001b[0m             \u001b[0mCC\u001b[0m\u001b[0;34m.\u001b[0m\u001b[0mappend\u001b[0m\u001b[0;34m(\u001b[0m\u001b[0mcccoef\u001b[0m\u001b[0;34m(\u001b[0m\u001b[0mtga\u001b[0m\u001b[0;34m,\u001b[0m \u001b[0mvga\u001b[0m\u001b[0;34m)\u001b[0m\u001b[0;34m)\u001b[0m\u001b[0;34m\u001b[0m\u001b[0m\n",
      "\u001b[0;32m/media/nielsendelimar/NELSON/mestrado/sources/codes/derivative.pyc\u001b[0m in \u001b[0;36mtotalgrad\u001b[0;34m(x, y, data)\u001b[0m\n\u001b[1;32m    171\u001b[0m \u001b[0;34m\u001b[0m\u001b[0m\n\u001b[1;32m    172\u001b[0m     \u001b[0;31m# Calculates the x derivative\u001b[0m\u001b[0;34m\u001b[0m\u001b[0;34m\u001b[0m\u001b[0m\n\u001b[0;32m--> 173\u001b[0;31m     \u001b[0mdiffx\u001b[0m \u001b[0;34m=\u001b[0m \u001b[0mxderiv\u001b[0m\u001b[0;34m(\u001b[0m\u001b[0mx\u001b[0m\u001b[0;34m,\u001b[0m \u001b[0my\u001b[0m\u001b[0;34m,\u001b[0m \u001b[0mdata\u001b[0m\u001b[0;34m)\u001b[0m\u001b[0;34m\u001b[0m\u001b[0m\n\u001b[0m\u001b[1;32m    174\u001b[0m     \u001b[0;31m# Calculates the y derivative\u001b[0m\u001b[0;34m\u001b[0m\u001b[0;34m\u001b[0m\u001b[0m\n\u001b[1;32m    175\u001b[0m     \u001b[0mdiffy\u001b[0m \u001b[0;34m=\u001b[0m \u001b[0myderiv\u001b[0m\u001b[0;34m(\u001b[0m\u001b[0mx\u001b[0m\u001b[0;34m,\u001b[0m \u001b[0my\u001b[0m\u001b[0;34m,\u001b[0m \u001b[0mdata\u001b[0m\u001b[0;34m)\u001b[0m\u001b[0;34m\u001b[0m\u001b[0m\n",
      "\u001b[0;32m/media/nielsendelimar/NELSON/mestrado/sources/codes/derivative.pyc\u001b[0m in \u001b[0;36mxderiv\u001b[0;34m(x, y, data, n)\u001b[0m\n\u001b[1;32m     41\u001b[0m         \u001b[0mkx\u001b[0m\u001b[0;34m,\u001b[0m \u001b[0m_\u001b[0m \u001b[0;34m=\u001b[0m \u001b[0mauxiliars\u001b[0m\u001b[0;34m.\u001b[0m\u001b[0mwavenumber\u001b[0m\u001b[0;34m(\u001b[0m\u001b[0mx\u001b[0m\u001b[0;34m,\u001b[0m\u001b[0my\u001b[0m\u001b[0;34m)\u001b[0m\u001b[0;34m\u001b[0m\u001b[0m\n\u001b[1;32m     42\u001b[0m         \u001b[0;31m# Apply the Fourier transform\u001b[0m\u001b[0;34m\u001b[0m\u001b[0;34m\u001b[0m\u001b[0m\n\u001b[0;32m---> 43\u001b[0;31m         \u001b[0mxder\u001b[0m \u001b[0;34m=\u001b[0m \u001b[0mnumpy\u001b[0m\u001b[0;34m.\u001b[0m\u001b[0mfft\u001b[0m\u001b[0;34m.\u001b[0m\u001b[0mfft2\u001b[0m\u001b[0;34m(\u001b[0m\u001b[0mdata\u001b[0m\u001b[0;34m)\u001b[0m\u001b[0;34m*\u001b[0m\u001b[0;34m(\u001b[0m\u001b[0;34m(\u001b[0m\u001b[0mkx\u001b[0m\u001b[0;34m*\u001b[0m\u001b[0;36m1j\u001b[0m\u001b[0;34m)\u001b[0m\u001b[0;34m**\u001b[0m\u001b[0;34m(\u001b[0m\u001b[0mn\u001b[0m\u001b[0;34m)\u001b[0m\u001b[0;34m)\u001b[0m\u001b[0;34m\u001b[0m\u001b[0m\n\u001b[0m\u001b[1;32m     44\u001b[0m         \u001b[0;31m# Calculating the inverse transform\u001b[0m\u001b[0;34m\u001b[0m\u001b[0;34m\u001b[0m\u001b[0m\n\u001b[1;32m     45\u001b[0m         \u001b[0mres\u001b[0m \u001b[0;34m=\u001b[0m \u001b[0mnumpy\u001b[0m\u001b[0;34m.\u001b[0m\u001b[0mreal\u001b[0m\u001b[0;34m(\u001b[0m\u001b[0mnumpy\u001b[0m\u001b[0;34m.\u001b[0m\u001b[0mfft\u001b[0m\u001b[0;34m.\u001b[0m\u001b[0mifft2\u001b[0m\u001b[0;34m(\u001b[0m\u001b[0mxder\u001b[0m\u001b[0;34m)\u001b[0m\u001b[0;34m)\u001b[0m\u001b[0;34m\u001b[0m\u001b[0m\n",
      "\u001b[0;32m/home/nielsendelimar/anaconda2/lib/python2.7/site-packages/mkl_fft/_numpy_fft.pyc\u001b[0m in \u001b[0;36mfft2\u001b[0;34m(a, s, axes, norm)\u001b[0m\n\u001b[1;32m    865\u001b[0m     \"\"\"\n\u001b[1;32m    866\u001b[0m \u001b[0;34m\u001b[0m\u001b[0m\n\u001b[0;32m--> 867\u001b[0;31m     \u001b[0;32mreturn\u001b[0m \u001b[0mfftn\u001b[0m\u001b[0;34m(\u001b[0m\u001b[0ma\u001b[0m\u001b[0;34m,\u001b[0m \u001b[0ms\u001b[0m\u001b[0;34m=\u001b[0m\u001b[0ms\u001b[0m\u001b[0;34m,\u001b[0m \u001b[0maxes\u001b[0m\u001b[0;34m=\u001b[0m\u001b[0maxes\u001b[0m\u001b[0;34m,\u001b[0m \u001b[0mnorm\u001b[0m\u001b[0;34m=\u001b[0m\u001b[0mnorm\u001b[0m\u001b[0;34m)\u001b[0m\u001b[0;34m\u001b[0m\u001b[0m\n\u001b[0m\u001b[1;32m    868\u001b[0m \u001b[0;34m\u001b[0m\u001b[0m\n\u001b[1;32m    869\u001b[0m \u001b[0;34m\u001b[0m\u001b[0m\n",
      "\u001b[0;32m/home/nielsendelimar/anaconda2/lib/python2.7/site-packages/mkl_fft/_numpy_fft.pyc\u001b[0m in \u001b[0;36mfftn\u001b[0;34m(a, s, axes, norm)\u001b[0m\n\u001b[1;32m    674\u001b[0m \u001b[0;34m\u001b[0m\u001b[0m\n\u001b[1;32m    675\u001b[0m     \"\"\"\n\u001b[0;32m--> 676\u001b[0;31m     \u001b[0moutput\u001b[0m \u001b[0;34m=\u001b[0m \u001b[0mmkl_fft\u001b[0m\u001b[0;34m.\u001b[0m\u001b[0mfftn\u001b[0m\u001b[0;34m(\u001b[0m\u001b[0ma\u001b[0m\u001b[0;34m,\u001b[0m \u001b[0ms\u001b[0m\u001b[0;34m,\u001b[0m \u001b[0maxes\u001b[0m\u001b[0;34m)\u001b[0m\u001b[0;34m\u001b[0m\u001b[0m\n\u001b[0m\u001b[1;32m    677\u001b[0m     \u001b[0;32mif\u001b[0m \u001b[0m_unitary\u001b[0m\u001b[0;34m(\u001b[0m\u001b[0mnorm\u001b[0m\u001b[0;34m)\u001b[0m\u001b[0;34m:\u001b[0m\u001b[0;34m\u001b[0m\u001b[0m\n\u001b[1;32m    678\u001b[0m         \u001b[0moutput\u001b[0m \u001b[0;34m*=\u001b[0m \u001b[0;36m1\u001b[0m \u001b[0;34m/\u001b[0m \u001b[0msqrt\u001b[0m\u001b[0;34m(\u001b[0m\u001b[0m_tot_size\u001b[0m\u001b[0;34m(\u001b[0m\u001b[0moutput\u001b[0m\u001b[0;34m,\u001b[0m \u001b[0maxes\u001b[0m\u001b[0;34m)\u001b[0m\u001b[0;34m)\u001b[0m\u001b[0;34m\u001b[0m\u001b[0m\n",
      "\u001b[0;32mmkl_fft/_pydfti.pyx\u001b[0m in \u001b[0;36mmkl_fft._pydfti.fftn\u001b[0;34m()\u001b[0m\n",
      "\u001b[0;32mmkl_fft/_pydfti.pyx\u001b[0m in \u001b[0;36mmkl_fft._pydfti._fftnd_impl\u001b[0;34m()\u001b[0m\n",
      "\u001b[0;32mmkl_fft/_pydfti.pyx\u001b[0m in \u001b[0;36mmkl_fft._pydfti._iter_fftnd\u001b[0;34m()\u001b[0m\n",
      "\u001b[0;32mmkl_fft/_pydfti.pyx\u001b[0m in \u001b[0;36mmkl_fft._pydfti._cook_nd_args\u001b[0;34m()\u001b[0m\n",
      "\u001b[0;31mValueError\u001b[0m: Shape and axes have different lengths."
     ]
    }
   ],
   "source": [
    "for i in I:\n",
    "    for j in D:\n",
    "        if i >= -15. or i <= 15.:\n",
    "            rtp_layer(data, shape, eqlayer, shape_layer, inc, dec, i, j)\n",
    "            tga = totalgrad(xobs.reshape(shape), yobs.reshape(shape), rtp_layer)\n",
    "            vga = zderiv(xobs.reshape(shape), yobs.reshape(shape), rtp_layer)\n",
    "            CC.append(cccoef(tga, vga))\n",
    "        else:\n",
    "            rtp = reduction(xobs.reshape(shape), yobs.reshape(shape), tf.reshape(shape), \n",
    "                            inc, dec, i, j)\n",
    "            tga = totalgrad(xobs.reshape(shape), yobs.reshape(shape), rtp)\n",
    "            vga = zderiv(xobs.reshape(shape), yobs.reshape(shape), rtp)\n",
    "            CC.append(cccoef(tga, vga))"
   ]
  },
  {
   "cell_type": "code",
   "execution_count": null,
   "metadata": {},
   "outputs": [],
   "source": [
    "# Plotting the correlation results\n",
    "pyplot.figure(figsize=(12, 8))\n",
    "fig1 = pyplot.contour(declination.reshape(181, 361), inclination.reshape(181, 361), \n",
    "                      CC, 10, colors = 'k', linestyle = 'solid', linewidths = 1)\n",
    "pyplot.contourf(declination.reshape(181, 361), inclination.reshape(181, 361), CC, \n",
    "                10, cmap = pyplot.cm.gray)\n",
    "\n",
    "pyplot.plot(decs, incs, 'r*', markersize = 8, label = 'Maximum coef')\n",
    "pyplot.clabel(fig1, fontsize = 8)\n",
    "pyplot.rcParams['contour.negative_linestyle'] = 'solid'\n",
    "pyplot.title('Correlation coeficients', fontsize = 16)\n",
    "pyplot.xlabel('Declination (degrees)', fontsize = 14)\n",
    "pyplot.ylabel('Inclination (degrees)', fontsize = 14)\n",
    "pyplot.xticks(numpy.arange(D.min(), D.max(), 45), fontsize = 14)\n",
    "pyplot.yticks(numpy.arange(I.min(), I.max(), 20), fontsize = 14)\n",
    "pyplot.legend(loc = 'upper center', fontsize = 'large')\n",
    "pyplot.colorbar()\n",
    "pyplot.show()"
   ]
  },
  {
   "cell_type": "code",
   "execution_count": null,
   "metadata": {},
   "outputs": [],
   "source": [
    "# Analysing the positive coefficients\n",
    "_ = analysis(coef, 'no unit')"
   ]
  }
 ],
 "metadata": {
  "kernelspec": {
   "display_name": "Python 2",
   "language": "python",
   "name": "python2"
  },
  "language_info": {
   "codemirror_mode": {
    "name": "ipython",
    "version": 2
   },
   "file_extension": ".py",
   "mimetype": "text/x-python",
   "name": "python",
   "nbconvert_exporter": "python",
   "pygments_lexer": "ipython2",
   "version": "2.7.14"
  }
 },
 "nbformat": 4,
 "nbformat_minor": 2
}
