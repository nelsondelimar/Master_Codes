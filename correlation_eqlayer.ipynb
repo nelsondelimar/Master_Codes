{
 "cells": [
  {
   "cell_type": "code",
   "execution_count": 1,
   "metadata": {
    "collapsed": true
   },
   "outputs": [],
   "source": [
    "# Importing all libraries\n",
    "import numpy\n",
    "from matplotlib import pyplot\n",
    "from time import time"
   ]
  },
  {
   "cell_type": "code",
   "execution_count": 2,
   "metadata": {
    "collapsed": true
   },
   "outputs": [],
   "source": [
    "from codes.grids import regular_grid\n",
    "from codes.prism import prism_tf\n",
    "from codes.auxiliars import addnoise\n",
    "from codes.statistical import analysis"
   ]
  },
  {
   "cell_type": "code",
   "execution_count": 3,
   "metadata": {
    "collapsed": true
   },
   "outputs": [],
   "source": [
    "# Defines number of points\n",
    "nx, ny = 50, 50\n",
    "# Define the area\n",
    "area = (-2000., 2000., -2000., 2000.)\n",
    "shape = (nx, ny)\n",
    "# Creates the grid\n",
    "xobs, yobs, zobs = regular_grid(area, shape, -200.)"
   ]
  },
  {
   "cell_type": "code",
   "execution_count": 4,
   "metadata": {
    "collapsed": true
   },
   "outputs": [],
   "source": [
    "# Define the elements of the prims for gravity and magnetic computation\n",
    "model1 = (-200., 200., -500., 500., 100., 300., 1.28)\n",
    "# Directions\n",
    "inc, dec = 55., -44. # field\n",
    "incs, decs = 3., 2. # source"
   ]
  },
  {
   "cell_type": "code",
   "execution_count": 5,
   "metadata": {
    "collapsed": true
   },
   "outputs": [],
   "source": [
    "# Computes the total field anomaly\n",
    "tf = prism_tf(xobs, yobs, zobs, model1, inc, dec, incs, decs)"
   ]
  },
  {
   "cell_type": "code",
   "execution_count": 6,
   "metadata": {},
   "outputs": [
    {
     "name": "stdout",
     "output_type": "stream",
     "text": [
      "Minimum:    -65.8569 nT\n",
      "Maximum:    52.2536 nT\n",
      "Mean value: -0.2512 nT\n",
      "Variation:  118.1105 nT\n"
     ]
    }
   ],
   "source": [
    "_ = analysis(tf, 'nT')"
   ]
  },
  {
   "cell_type": "code",
   "execution_count": 7,
   "metadata": {
    "collapsed": true
   },
   "outputs": [],
   "source": [
    "# Adding noise\n",
    "tf = addnoise(tf, 4., 0.1)"
   ]
  },
  {
   "cell_type": "code",
   "execution_count": 8,
   "metadata": {},
   "outputs": [
    {
     "data": {
      "image/png": "[encoded data removed]",
      "text/plain": [
       "<matplotlib.figure.Figure at 0x7f4f49a0aed0>"
      ]
     },
     "metadata": {},
     "output_type": "display_data"
    }
   ],
   "source": [
    "# Plotting the result\n",
    "pyplot.figure(figsize=(8, 6))\n",
    "pyplot.contourf(yobs.reshape(shape), xobs.reshape(shape), tf.reshape(shape), \n",
    "                20, cmap = pyplot.cm.jet)\n",
    "pyplot.title('Total field anomaly (nT)')\n",
    "pyplot.xlabel('X coordinate (m)')\n",
    "pyplot.ylabel('Y coordinate (m)')\n",
    "pyplot.xticks(numpy.linspace(yobs.min(), yobs.max(), 5))\n",
    "pyplot.yticks(numpy.linspace(xobs.min(), xobs.max(), 5))\n",
    "pyplot.colorbar()\n",
    "pyplot.show()"
   ]
  },
  {
   "cell_type": "code",
   "execution_count": 9,
   "metadata": {
    "collapsed": true
   },
   "outputs": [],
   "source": [
    "from codes.equivalentlayer import layer, mat_mag_tfa"
   ]
  },
  {
   "cell_type": "code",
   "execution_count": 10,
   "metadata": {
    "collapsed": true
   },
   "outputs": [],
   "source": [
    "# Layer informations\n",
    "area_layer = (-2000., 2000., -2000., 2000.)\n",
    "shape_layer = (15, 15)\n",
    "level = 500."
   ]
  },
  {
   "cell_type": "code",
   "execution_count": 11,
   "metadata": {
    "collapsed": true
   },
   "outputs": [],
   "source": [
    "# Create the layer\n",
    "eqlayer = layer(area_layer, shape_layer, level)"
   ]
  },
  {
   "cell_type": "code",
   "execution_count": 12,
   "metadata": {
    "collapsed": true
   },
   "outputs": [],
   "source": [
    "data = [xobs, yobs, zobs, tf]"
   ]
  },
  {
   "cell_type": "code",
   "execution_count": 13,
   "metadata": {
    "collapsed": true
   },
   "outputs": [],
   "source": [
    "def rtp_layer(datasets, datashape, layermodel, layershape, incf, decf, inceql = None, deceql = None):\n",
    "    '''\n",
    "    It returns the reduce to Pole data by using the equivalent layer technique. This functions \n",
    "    must receives all data as a list with all positions for x, y and z, and also the potential \n",
    "    data. It receives the shape of the data, the model as an equivalent layer and the values of\n",
    "    inclination and declination as well, for both field and depth sources.    \n",
    "    \n",
    "    Inputs:\n",
    "    datasets - numpy list - x, y and z positions and total field data\n",
    "    datashape - tuple - shape of the input data\n",
    "    layermodel - list - values for created equivalent layer\n",
    "    layershape - tuple - shape of the equivalent layer\n",
    "    incf - float - inclination of the geomagnetic field\n",
    "    decf - float - declination of the geomagnetic field\n",
    "    inceql - float - inclination of all depth sources\n",
    "    deceql - float - declination of all depth sources\n",
    "    \n",
    "    Output:\n",
    "    rtp - numpy array - reduce to Pole data\n",
    "    \n",
    "    '''\n",
    "    \n",
    "    # Verify the depth of the equivalent layer\n",
    "    if level <= 0.:\n",
    "        raise ValueError('Layer depth must be a positive value!')\n",
    "    \n",
    "    # Define the type of magnetization\n",
    "    if inceql == None or deceql == None:\n",
    "        inceql = incf\n",
    "        deceql = decf\n",
    "        \n",
    "    # Datasets = [xobs, yobs, zobs, totalfield]\n",
    "    xp = datasets[0]\n",
    "    yp = datasets[1]\n",
    "    zp = datasets[2]\n",
    "    tf = datasets[3]\n",
    "    \n",
    "    # Define the number of observations and depth sources\n",
    "    N = datashape[0]*datashape[1]\n",
    "    M = layershape[0]*layershape[1]\n",
    "    \n",
    "    # Computes the sensitivity matrix\n",
    "    matA = mat_mag_tfa(xp, yp, zp, layermodel, incf, decf, inceql, deceql)\n",
    "    \n",
    "    # Case1: Overdetermined - Number of observations are greater or equal than the number of depth sources\n",
    "    if N >= M: \n",
    "        mu = 1.e-6\n",
    "        I = numpy.identity(M)\n",
    "        trace = numpy.trace(matA.T.dot(matA))/M\n",
    "        vec = numpy.linalg.solve(numpy.dot(matA.T, matA) + mu*trace*I, numpy.dot(matA.T, tf))\n",
    "    # Case2: Underterminated - Number of observations are less than the number of depth sources\n",
    "    else:\n",
    "        mu = 1.e-6\n",
    "        I = numpy.identity(N)\n",
    "        trace = numpy.trace(matA.T.dot(matA))/N\n",
    "        aux = numpy.linalg.solve(numpy.dot(matA, matA.T) + mu*trace*I, tf)\n",
    "        vec = numpy.dot(matA.T, aux)\n",
    "        \n",
    "    # Calculates the predicted total field anomaly data\n",
    "    tf_pred = numpy.dot(matA, vec)\n",
    "    \n",
    "    # Create the new matrix for reduction to Pole\n",
    "    mat_rtp = mat_mag_tfa(xp, yp, zp, layermodel, 90., 0., 90., 0.)\n",
    "    # Calculates the reduction to Pole\n",
    "    rtp = numpy.dot(mat_rtp, vec)    \n",
    "    return rtp.reshape(datashape)"
   ]
  },
  {
   "cell_type": "code",
   "execution_count": 14,
   "metadata": {
    "collapsed": true
   },
   "outputs": [],
   "source": [
    "# Importing filtering functions\n",
    "from codes.filtering import reduction\n",
    "from codes.derivative import totalgrad, zderiv\n",
    "# Importing the correlation function\n",
    "from codes.statistical import cccoef"
   ]
  },
  {
   "cell_type": "code",
   "execution_count": 16,
   "metadata": {},
   "outputs": [
    {
     "name": "stdout",
     "output_type": "stream",
     "text": [
      "(10000,)\n"
     ]
    }
   ],
   "source": [
    "# Create the grid\n",
    "# for the fourier trans:\n",
    "I1 = numpy.linspace(-90.0, -10.0, 80)\n",
    "I2 = -I1 \n",
    "D1 = numpy.linspace(-180.0, 180.0, 361)\n",
    "\n",
    "# for the layer:\n",
    "I3 = numpy.linspace(-10.0,10.0, 5)\n",
    "D3 = numpy.linspace(-180.0, 180.0, 37 )\n",
    "\n",
    "shape_IncDec = (100,100)\n",
    "inclination, declination = regular_grid((-90., 91., -180., 181.),shape_IncDec ) # (181, 361))\n",
    "print declination.shape"
   ]
  },
  {
   "cell_type": "code",
   "execution_count": null,
   "metadata": {
    "collapsed": true
   },
   "outputs": [],
   "source": [
    "#CC = numpy.zeros((I.size, D.size))\n",
    "#CC = numpy.zeros(I.size*D.size)"
   ]
  },
  {
   "cell_type": "code",
   "execution_count": null,
   "metadata": {},
   "outputs": [],
   "source": [
    "ti = time()\n",
    "CC = []\n",
    "Xobs = xobs.reshape(shape)\n",
    "Yobs = yobs.reshape(shape)\n",
    "Tf = tf.reshape(shape)\n",
    "\n",
    "for i in I:\n",
    "    for j in D:\n",
    "        rtp = reduction(Xobs, Yobs, Tf, inc, dec, i, j)\n",
    "        tga = totalgrad(Xobs, Yobs, rtp)\n",
    "        vga = zderiv(Xobs, Yobs, rtp)\n",
    "      \n",
    " #       rtp = reduction(xobs.reshape(shape), yobs.reshape(shape), tf.reshape(shape), inc, dec, i, j)\n",
    "  #      tga = totalgrad(xobs.reshape(shape), yobs.reshape(shape), rtp)\n",
    "   #     vga = zderiv(xobs.reshape(shape), yobs.reshape(shape), rtp)\n",
    "        CC.append(cccoef(tga, vga)) \n",
    "        \n",
    "CC = numpy.array(CC)\n",
    "ttf = time()\n",
    "print 'time in seconds = ', ttf - ti"
   ]
  },
  {
   "cell_type": "code",
   "execution_count": null,
   "metadata": {},
   "outputs": [],
   "source": [
    "# check time process:\n",
    "ti = time()\n",
    "CC = []\n",
    "Xobs = xobs.reshape(shape)\n",
    "Yobs = yobs.reshape(shape)\n",
    "Tf = tf.reshape(shape)\n",
    "for i in I:\n",
    "    for j in D:\n",
    "        if i >= -5. or i <= 5.:\n",
    "            tf_rtp = rtp_layer(data, shape, eqlayer, shape_layer, inc, dec, i, j)\n",
    "            tga = totalgrad(Xobs, Yobs, tf_rtp)\n",
    "            vga = zderiv(Xobs, Yobs, tf_rtp)\n",
    "            CC.append(cccoef(tga, vga))\n",
    "        else:\n",
    "            rtp = reduction(Xobs, Yobs, Tf, inc, dec, i, j)\n",
    "            tga = totalgrad(Xobs, Yobs, rtp)\n",
    "            vga = zderiv(Xobs, Yobs, rtp)\n",
    "            CC.append(cccoef(tga, vga))\n",
    "ttf = time()\n",
    "print 'time in seconds = ', ttf - ti"
   ]
  },
  {
   "cell_type": "code",
   "execution_count": null,
   "metadata": {},
   "outputs": [],
   "source": [
    "# Plotting the correlation results\n",
    "pyplot.figure(figsize=(12, 8))\n",
    "fig1 = pyplot.contour(declination.reshape(shape_IncDec), inclination.reshape(shape_IncDec), \n",
    "                      CC.reshape(shape_IncDec), 10, colors = 'k', linestyle = 'solid', linewidths = 1)\n",
    "pyplot.contourf(declination.reshape(shape_IncDec), inclination.reshape(shape_IncDec), CC.reshape(shape_IncDec), \n",
    "                10, cmap = pyplot.cm.gray)\n",
    "\n",
    "pyplot.plot(decs, incs, 'r*', markersize = 8, label = 'Maximum coef')\n",
    "pyplot.clabel(fig1, fontsize = 8)\n",
    "pyplot.rcParams['contour.negative_linestyle'] = 'solid'\n",
    "pyplot.title('Correlation coeficients', fontsize = 16)\n",
    "pyplot.xlabel('Declination (degrees)', fontsize = 14)\n",
    "pyplot.ylabel('Inclination (degrees)', fontsize = 14)\n",
    "pyplot.xticks(numpy.arange(D.min(), D.max(), 45), fontsize = 14)\n",
    "pyplot.yticks(numpy.arange(I.min(), I.max(), 20), fontsize = 14)\n",
    "pyplot.legend(loc = 'upper center', fontsize = 'large')\n",
    "pyplot.colorbar()\n",
    "pyplot.show()"
   ]
  },
  {
   "cell_type": "code",
   "execution_count": null,
   "metadata": {
    "collapsed": true
   },
   "outputs": [],
   "source": [
    "# Analysing the positive coefficients\n",
    "_ = analysis(coef, 'no unit')"
   ]
  },
  {
   "cell_type": "code",
   "execution_count": null,
   "metadata": {
    "collapsed": true
   },
   "outputs": [],
   "source": []
  }
 ],
 "metadata": {
  "kernelspec": {
   "display_name": "Python 2",
   "language": "python",
   "name": "python2"
  },
  "language_info": {
   "codemirror_mode": {
    "name": "ipython",
    "version": 2
   },
   "file_extension": ".py",
   "mimetype": "text/x-python",
   "name": "python",
   "nbconvert_exporter": "python",
   "pygments_lexer": "ipython2",
   "version": "2.7.14"
  }
 },
 "nbformat": 4,
 "nbformat_minor": 2
}
