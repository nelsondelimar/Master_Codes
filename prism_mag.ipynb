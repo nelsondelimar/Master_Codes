{
 "cells": [
  {
   "cell_type": "markdown",
   "metadata": {
    "collapsed": true
   },
   "source": [
    "# Total field anomaly - Prism\n",
    "\n",
    "**This notebook shows the calculation of the total field magnetic anomaly due to rectangular prism with finite dimensions. This implementation is based on Nagy (2000), where we calculate the values of the anomaly given the dimensions of the prisms in the $x$, $y$ and $z$ directions.**\n",
    "\n",
    "**Unlike the implementation proposed in Blakely (1996), it is not necessary to calculate the subtraction between the initial and final depths, $z_1$ and $z_2$.**"
   ]
  },
  {
   "cell_type": "code",
   "execution_count": 1,
   "metadata": {},
   "outputs": [],
   "source": [
    "# Copying all usefull libraries\n",
    "import numpy as np\n",
    "from matplotlib import pyplot as plt\n",
    "import sys"
   ]
  },
  {
   "cell_type": "code",
   "execution_count": 2,
   "metadata": {},
   "outputs": [],
   "source": [
    "a = sys.path.append('codes/') "
   ]
  },
  {
   "cell_type": "code",
   "execution_count": 3,
   "metadata": {},
   "outputs": [],
   "source": [
    "from codes import grids, prism, sphere"
   ]
  },
  {
   "cell_type": "code",
   "execution_count": 4,
   "metadata": {},
   "outputs": [],
   "source": [
    "# Definition for number of points and grid creation\n",
    "shape = (100, 100)\n",
    "x, y, z = grids.regular_grid((-2000., 2000., -2000., 2000.), shape, -50.)"
   ]
  },
  {
   "cell_type": "code",
   "execution_count": 5,
   "metadata": {},
   "outputs": [],
   "source": [
    "# Setting the parameters for prism\n",
    "model = [-500., 500., -500., 500., 400., 800.] \n",
    "esfera = [0., 0., 300., 200.]# meters + A/m2\n",
    "#model2 = [-150., 150., -150., 150., 100., 350., 0.75]\n",
    "\n",
    "# Writing inclination, declination, azimuth \n",
    "incf, decf = -22., -36. # regional field"
   ]
  },
  {
   "cell_type": "code",
   "execution_count": 7,
   "metadata": {},
   "outputs": [],
   "source": [
    "# Calculating total field due to a solid prims\n",
    "tf = prism.prism_tf(x, y, z, model, 2., incf, decf, incf + 5., decf + 5.) +\\\n",
    "    sphere.sphere_tfa(x, y, z, esfera, 2., incf, decf, incf + 5., decf + 5.) #+ prism_tf(x, y, z, model2, incf, decf)"
   ]
  },
  {
   "cell_type": "code",
   "execution_count": 9,
   "metadata": {},
   "outputs": [
    {
     "data": {
      "image/png": "[encoded data removed]",
      "text/plain": [
       "<Figure size 576x432 with 2 Axes>"
      ]
     },
     "metadata": {
      "needs_background": "light"
     },
     "output_type": "display_data"
    }
   ],
   "source": [
    "# Ploting all results \n",
    "plt.close('all')\n",
    "plt.figure(figsize=(8,6))\n",
    "\n",
    "plt.contourf(y.reshape(shape), x.reshape(shape), tf.reshape(shape), 20, cmap = plt.cm.RdBu_r)\n",
    "plt.title('Total field anomaly (nT)', fontsize = 12)\n",
    "plt.xlabel('East (m)', fontsize = 10)\n",
    "plt.ylabel('North (m)', fontsize = 10)\n",
    "plt.xticks(np.linspace(x.min(), x.max(), 5))\n",
    "plt.yticks(np.linspace(y.min(), y.max(), 5))\n",
    "plt.colorbar()\n",
    "\n",
    "plt.show()"
   ]
  },
  {
   "cell_type": "code",
   "execution_count": null,
   "metadata": {},
   "outputs": [],
   "source": []
  },
  {
   "cell_type": "code",
   "execution_count": null,
   "metadata": {},
   "outputs": [],
   "source": []
  }
 ],
 "metadata": {
  "kernelspec": {
   "display_name": "Python 2",
   "language": "python",
   "name": "python2"
  },
  "language_info": {
   "codemirror_mode": {
    "name": "ipython",
    "version": 2
   },
   "file_extension": ".py",
   "mimetype": "text/x-python",
   "name": "python",
   "nbconvert_exporter": "python",
   "pygments_lexer": "ipython2",
   "version": "2.7.15"
  }
 },
 "nbformat": 4,
 "nbformat_minor": 2
}
