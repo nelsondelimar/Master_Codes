{
 "cells": [
  {
   "cell_type": "markdown",
   "metadata": {
    "collapsed": true
   },
   "source": [
    "# The Discrete Fourier Transform\n",
    "\n",
    "Supose $\\, \\mathbf{f} \\,$ is a sampled vector $\\bar{\\mathbf{f}} = [\\,f_0, f_1, f_2, \\cdots, f_{N-1}\\,]$ which has length $N$. The Discrete Fourier Transform (**DFT**) for this 1D array can be calculated by using the formulation bellow:\n",
    "\n",
    "# $$ \\mathbf{F}(k) = \\sum_{n=0}^{N-1} \\mathbf{f}(n) \\, exp\\left(\\dfrac{-2\\pi ikn}{N}\\right)$$\n",
    "\n",
    "where $\\mathbf{F}(k)$ is the transformed vector that has both real and imaginary parts on the computation.\n",
    "\n",
    "For the computation, the number $2\\pi$ is a float type; $k$ and $n$ are 1D arrays that have dimension equals to $(N,1)$ and $(1,N)$, respectively (column and rows vectors); and $N$ is an integer.\n",
    "\n",
    "Assuming the value $e^{\\left(\\dfrac{-2\\pi i}{N}\\right)}$ as a constant $W$, we can rewrite the expression above as:\n",
    "\n",
    "# $$ \\mathbf{F}(k) = \\sum_{n=0}^{N-1} \\mathbf{f}(n) \\, W^{kn}$$\n",
    "\n",
    "As a result, the DFT can be calculated as a simple matrix - vector product:\n",
    "\n",
    "# $$ \\mathbf{F}(k) = W^{kn} \\cdot \\mathbf{f}(n)$$\n",
    "\n",
    "#### Warning!\n",
    "\n",
    "** To calculate the inverse transform, we solve a linear system with $N$ equations, assuming $\\mathbf{f}(n)$ as a unkown vector that is the solution for the system. **"
   ]
  },
  {
   "cell_type": "code",
   "execution_count": null,
   "metadata": {
    "collapsed": true
   },
   "outputs": [],
   "source": [
    "# Importing all useful libraries\n",
    "import numpy as np\n",
    "import matplotlib.pyplot as plt\n",
    "import gravmag_codes as gmc"
   ]
  },
  {
   "cell_type": "code",
   "execution_count": null,
   "metadata": {
    "collapsed": true
   },
   "outputs": [],
   "source": [
    "# Creating a random vector\n",
    "N = 20 # Number of points\n",
    "vec = np.random.normal(loc = 5., scale = 1., size = N)\n",
    "vec = np.sort(vec)"
   ]
  },
  {
   "cell_type": "code",
   "execution_count": null,
   "metadata": {},
   "outputs": [],
   "source": [
    "# Ploting the vector\n",
    "plt.figure(1)\n",
    "plt.plot(np.arange(N), vec, 'k-')\n",
    "plt.title('Sample values', fontsize = 16)\n",
    "plt.xlabel('Index', fontsize = 14)\n",
    "plt.ylabel('Value', fontsize = 14)\n",
    "plt.show()"
   ]
  },
  {
   "cell_type": "code",
   "execution_count": null,
   "metadata": {
    "collapsed": true
   },
   "outputs": [],
   "source": [
    "# Computing the DFT\n",
    "vec_trans = gmc.DFT(vec)"
   ]
  },
  {
   "cell_type": "code",
   "execution_count": null,
   "metadata": {},
   "outputs": [],
   "source": [
    "# Ploting all components for the transformed vector\n",
    "plt.figure(2)\n",
    "plt.plot(np.arange(N), np.real(vec_trans), 'k-')\n",
    "plt.title('Real part for transformed vector', fontsize = 16)\n",
    "plt.xlabel('Index', fontsize = 14)\n",
    "plt.ylabel('Real part', fontsize = 14)\n",
    "plt.show()\n",
    "\n",
    "plt.figure(3)\n",
    "plt.plot(np.arange(N), np.imag(vec_trans), 'k-')\n",
    "plt.title('Imaginary part for transformed vector', fontsize = 16)\n",
    "plt.xlabel('Index', fontsize = 14)\n",
    "plt.ylabel('Imag part', fontsize = 14)\n",
    "plt.show()"
   ]
  },
  {
   "cell_type": "code",
   "execution_count": null,
   "metadata": {
    "collapsed": true
   },
   "outputs": [],
   "source": [
    "# Computing the inverse transform by using both algorithms\n",
    "ivec1 = gmc.iDFT_1(vec_trans)\n",
    "ivec2 = gmc.iDFT_2(vec_trans)"
   ]
  },
  {
   "cell_type": "code",
   "execution_count": null,
   "metadata": {},
   "outputs": [],
   "source": [
    "# Testing if both inverse vectors are equal\n",
    "print np.allclose(ivec1, ivec2)"
   ]
  },
  {
   "cell_type": "code",
   "execution_count": null,
   "metadata": {},
   "outputs": [],
   "source": [
    "# Ploting the inverse transformed vectors\n",
    "plt.figure(4)\n",
    "plt.plot(np.arange(N), np.real(ivec1), 'r-')\n",
    "plt.title('Real part for inverse transformed vector', fontsize = 16)\n",
    "plt.xlabel('Index', fontsize = 14)\n",
    "plt.ylabel('Real part', fontsize = 14)\n",
    "plt.show()\n",
    "# Figures 1 and 4 must be the same"
   ]
  }
 ],
 "metadata": {
  "kernelspec": {
   "display_name": "Python 2",
   "language": "python",
   "name": "python2"
  },
  "language_info": {
   "codemirror_mode": {
    "name": "ipython",
    "version": 2
   },
   "file_extension": ".py",
   "mimetype": "text/x-python",
   "name": "python",
   "nbconvert_exporter": "python",
   "pygments_lexer": "ipython2",
   "version": "2.7.13"
  }
 },
 "nbformat": 4,
 "nbformat_minor": 2
}
