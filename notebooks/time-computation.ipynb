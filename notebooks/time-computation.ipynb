{
 "cells": [
  {
   "cell_type": "markdown",
   "metadata": {
    "collapsed": true
   },
   "source": [
    "# Running time code"
   ]
  },
  {
   "cell_type": "markdown",
   "metadata": {},
   "source": [
    "### **This notebook shows how long the source code takes to get the final output. Here, we use all functions in *Gravmag* and also *Data filtering*.**"
   ]
  },
  {
   "cell_type": "code",
   "execution_count": 2,
   "metadata": {
    "collapsed": true
   },
   "outputs": [],
   "source": [
    "# Copying all usefull libraries\n",
    "import numpy as np\n",
    "import gravmag as gmc\n",
    "import datafiltering as df\n",
    "import time"
   ]
  },
  {
   "cell_type": "markdown",
   "metadata": {},
   "source": [
    "### Define all discription for running the codes, like number of points and models."
   ]
  },
  {
   "cell_type": "code",
   "execution_count": 3,
   "metadata": {
    "collapsed": true
   },
   "outputs": [],
   "source": [
    "# Definition for number of points and grid creation\n",
    "n = 500\n",
    "x = np.linspace(-1000., 1000., n)\n",
    "y = x\n",
    "z = np.random.normal(loc = -50., scale = 1., size = n)\n",
    "# Creat the grid file\n",
    "X, Y = np.meshgrid(x, y)"
   ]
  },
  {
   "cell_type": "markdown",
   "metadata": {},
   "source": [
    "### Define both synthetic models: prism and sphere."
   ]
  },
  {
   "cell_type": "code",
   "execution_count": 4,
   "metadata": {
    "collapsed": true
   },
   "outputs": [],
   "source": [
    "spheregrav = (0., 0., 500., 500., 2673.) \n",
    "spheremag = (0., 0., 500., 500., 2.25) \n",
    "prismgrav = (-250., 250., -250., 250., 100., 300., 2673.)\n",
    "prismmag = (-250., 250., -250., 250., 100., 300., 2.250)"
   ]
  },
  {
   "cell_type": "markdown",
   "metadata": {},
   "source": [
    "**(1) Gravity sources**"
   ]
  },
  {
   "cell_type": "code",
   "execution_count": 5,
   "metadata": {},
   "outputs": [
    {
     "name": "stdout",
     "output_type": "stream",
     "text": [
      "By using a rectangular prism:\n",
      "Gravitational potential\n",
      "10 loops, best of 3: 844 ms per loop\n",
      "Gx component:\n",
      "10 loops, best of 3: 494 ms per loop\n",
      "Gy component:\n",
      "10 loops, best of 3: 625 ms per loop\n",
      "Gz component:\n",
      "10 loops, best of 3: 604 ms per loop\n",
      "\n",
      "By using a solid sphere:\n",
      "Gz component:\n",
      "10 loops, best of 3: 1.27 s per loop\n"
     ]
    }
   ],
   "source": [
    "print 'By using a rectangular prism:'\n",
    "print 'Gravitational potential'\n",
    "%timeit -n 10 gmc.potential(X, Y, z, prismgrav)\n",
    "print 'Gx component:'\n",
    "%timeit -n 10 gmc.prism_gx(X, Y, z, prismgrav)\n",
    "print 'Gy component:'\n",
    "%timeit -n 10 gmc.prism_gy(X, Y, z, prismgrav)\n",
    "print 'Gz component:'\n",
    "%timeit -n 10 gmc.prism_gz(X, Y, z, prismgrav)\n",
    "print\n",
    "print 'By using a solid sphere:'\n",
    "print 'Gz component:'\n",
    "%timeit -n 10 gmc.potential(X, Y, z, prismgrav)"
   ]
  },
  {
   "cell_type": "markdown",
   "metadata": {},
   "source": [
    "**(2) Magnetic sources**"
   ]
  },
  {
   "cell_type": "code",
   "execution_count": 6,
   "metadata": {},
   "outputs": [
    {
     "name": "stdout",
     "output_type": "stream",
     "text": [
      "By using a rectangular prism:\n",
      "Total field anomaly\n",
      "10 loops, best of 3: 1.22 s per loop\n",
      "\n",
      "By using a solid sphere:\n",
      "Bx component:\n",
      "10 loops, best of 3: 62.7 ms per loop\n",
      "By component:\n",
      "10 loops, best of 3: 72.5 ms per loop\n",
      "Bz component:\n",
      "10 loops, best of 3: 73.3 ms per loop\n",
      "True total field anomaly:\n",
      "10 loops, best of 3: 243 ms per loop\n",
      "Approximated total field anomaly:\n",
      "10 loops, best of 3: 217 ms per loop\n"
     ]
    }
   ],
   "source": [
    "print 'By using a rectangular prism:'\n",
    "print 'Total field anomaly'\n",
    "%timeit -n 10 gmc.prism_tf(X, Y, z, prismmag, (42., 22.), (42., 22.))\n",
    "print\n",
    "print 'By using a solid sphere:'\n",
    "print 'Bx component:'\n",
    "%timeit -n 10 gmc.sphere_bx(X, Y, z, spheremag, (42., 22.))\n",
    "print 'By component:'\n",
    "%timeit -n 10 gmc.sphere_by(X, Y, z, spheremag, (42., 22.))\n",
    "print 'Bz component:'\n",
    "%timeit -n 10 gmc.sphere_bz(X, Y, z, spheremag, (42., 22.))\n",
    "print 'True total field anomaly:'\n",
    "%timeit -n 10 gmc.sphere_tf(X, Y, z, spheremag, (42., 22.), (42., 22.), 23500.)\n",
    "print 'Approximated total field anomaly:'\n",
    "%timeit -n 10 gmc.sphere_tf(X, Y, z, spheremag, (42., 22.), (42., 22.), 23500.)"
   ]
  },
  {
   "cell_type": "markdown",
   "metadata": {},
   "source": [
    "** (3) Transformation and filters for potential data**"
   ]
  },
  {
   "cell_type": "code",
   "execution_count": 7,
   "metadata": {},
   "outputs": [],
   "source": [
    "# Compute the simple gravity and magnetic anomalies\n",
    "datagrav = gmc.prism_gz(X, Y, z, prismgrav)\n",
    "datamag = gmc.prism_tf(X, Y, z, prismmag, (42., 22.), (42., 22.))"
   ]
  },
  {
   "cell_type": "markdown",
   "metadata": {},
   "source": [
    "* Upward continuation"
   ]
  },
  {
   "cell_type": "code",
   "execution_count": 11,
   "metadata": {},
   "outputs": [
    {
     "name": "stdout",
     "output_type": "stream",
     "text": [
      "Upward continuation for gravity data:\n",
      "10 loops, best of 3: 89.7 ms per loop\n",
      "Upward continuation for magnetic data:\n",
      "10 loops, best of 3: 103 ms per loop\n"
     ]
    }
   ],
   "source": [
    "print 'Upward continuation for gravity data:'\n",
    "%timeit -n 10 df.continuation(X, Y, datagrav, 500.)\n",
    "print 'Upward continuation for magnetic data:'\n",
    "%timeit -n 10 df.continuation(X, Y, datamag, 500.)"
   ]
  },
  {
   "cell_type": "markdown",
   "metadata": {},
   "source": [
    "* Reduction filter"
   ]
  },
  {
   "cell_type": "code",
   "execution_count": 12,
   "metadata": {},
   "outputs": [
    {
     "name": "stdout",
     "output_type": "stream",
     "text": [
      "Reduction to magnetic Pole:\n",
      "10 loops, best of 3: 197 ms per loop\n",
      "Reduction to magnetic Equator:\n",
      "10 loops, best of 3: 197 ms per loop\n"
     ]
    }
   ],
   "source": [
    "print 'Reduction to magnetic Pole:'\n",
    "%timeit -n 10 df.reduction(X, Y, datamag, (42., 22.), (42., 22.), (90., 0.), (90., 0.))\n",
    "print 'Reduction to magnetic Equator:'\n",
    "%timeit -n 10 df.reduction(X, Y, datamag, (42., 22.), (42., 22.), (45., 0.), (45., 0.))"
   ]
  },
  {
   "cell_type": "markdown",
   "metadata": {},
   "source": [
    "* Derivatives"
   ]
  },
  {
   "cell_type": "code",
   "execution_count": 18,
   "metadata": {},
   "outputs": [
    {
     "name": "stdout",
     "output_type": "stream",
     "text": [
      "X derivative for gravity data:\n",
      "10 loops, best of 3: 76.8 ms per loop\n",
      "Y derivative for gravity data:\n",
      "10 loops, best of 3: 81.5 ms per loop\n",
      "Z derivative for gravity data:\n",
      "10 loops, best of 3: 82.7 ms per loop\n",
      "----------------------------------------\n",
      "X derivative for magnetic data:\n",
      "10 loops, best of 3: 83.5 ms per loop\n",
      "Y derivative for magnetic data:\n",
      "10 loops, best of 3: 83.5 ms per loop\n",
      "Z derivative for magnetic data:\n",
      "10 loops, best of 3: 91.6 ms per loop\n"
     ]
    }
   ],
   "source": [
    "print 'X derivative for gravity data:'\n",
    "%timeit -n 10 df.xderiv(x, y, datagrav, 1)\n",
    "print 'Y derivative for gravity data:'\n",
    "%timeit -n 10 df.yderiv(x, y, datagrav, 1)\n",
    "print 'Z derivative for gravity data:'\n",
    "%timeit -n 10 df.zderiv(x, y, datagrav, 1)\n",
    "print '----------------------------------------'\n",
    "print 'X derivative for magnetic data:'\n",
    "%timeit -n 10 df.xderiv(x, y, datamag, 1)\n",
    "print 'Y derivative for magnetic data:'\n",
    "%timeit -n 10 df.yderiv(x, y, datamag, 1)\n",
    "print 'Z derivative for magnetic data:'\n",
    "%timeit -n 10 df.zderiv(x, y, datamag, 1)"
   ]
  },
  {
   "cell_type": "markdown",
   "metadata": {},
   "source": [
    "* Transformations"
   ]
  },
  {
   "cell_type": "code",
   "execution_count": 19,
   "metadata": {},
   "outputs": [
    {
     "name": "stdout",
     "output_type": "stream",
     "text": [
      "Total gradient for magnetic data:\n",
      "10 loops, best of 3: 263 ms per loop\n",
      "Total gradient for gravity data:\n",
      "10 loops, best of 3: 253 ms per loop\n",
      "-------------------------------------\n",
      "Tilt angle for magnetic data:\n",
      "10 loops, best of 3: 279 ms per loop\n",
      "-------------------------------------\n",
      "Tilt angle for magnetic data:\n",
      "10 loops, best of 3: 155 ms per loop\n"
     ]
    }
   ],
   "source": [
    "print 'Total gradient for magnetic data:'\n",
    "%timeit -n 10 df.totalgrad(x, y, datamag)\n",
    "print 'Total gradient for gravity data:'\n",
    "%timeit -n 10 df.totalgrad(x, y, datagrav)\n",
    "print '-------------------------------------'\n",
    "print 'Tilt angle for magnetic data:'\n",
    "%timeit -n 10 df.tilt(x, y, datamag)\n",
    "print '-------------------------------------'\n",
    "print 'Tilt angle for magnetic data:'\n",
    "%timeit -n 10 df.pseudograv(x, y, datamag, (42., 22.), (42., 22.), 2673., 2.25)"
   ]
  },
  {
   "cell_type": "markdown",
   "metadata": {},
   "source": [
    "* Cross correlation coefficient"
   ]
  },
  {
   "cell_type": "code",
   "execution_count": 23,
   "metadata": {},
   "outputs": [
    {
     "name": "stdout",
     "output_type": "stream",
     "text": [
      "Cross correlation:\n",
      "100 loops, best of 3: 23.6 ms per loop\n"
     ]
    }
   ],
   "source": [
    "print 'Cross correlation:'\n",
    "%timeit -n 100 df.cccoef(datamag, datagrav)"
   ]
  }
 ],
 "metadata": {
  "kernelspec": {
   "display_name": "Python 2",
   "language": "python",
   "name": "python2"
  },
  "language_info": {
   "codemirror_mode": {
    "name": "ipython",
    "version": 2
   },
   "file_extension": ".py",
   "mimetype": "text/x-python",
   "name": "python",
   "nbconvert_exporter": "python",
   "pygments_lexer": "ipython2",
   "version": "2.7.14"
  }
 },
 "nbformat": 4,
 "nbformat_minor": 2
}
