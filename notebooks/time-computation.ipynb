{
 "cells": [
  {
   "cell_type": "markdown",
   "metadata": {
    "collapsed": true
   },
   "source": [
    "# Running time code"
   ]
  },
  {
   "cell_type": "markdown",
   "metadata": {},
   "source": [
    "### **This notebook shows how long the source code takes to get the final output. Here, we use all functions in *Gravmag* and also *Data filtering*.**"
   ]
  },
  {
   "cell_type": "code",
   "execution_count": 1,
   "metadata": {
    "collapsed": true
   },
   "outputs": [],
   "source": [
    "# Copying all usefull libraries\n",
    "import numpy as np\n",
    "import gravmag as gmc\n",
    "import datafiltering as df\n",
    "import time"
   ]
  },
  {
   "cell_type": "markdown",
   "metadata": {},
   "source": [
    "### Define all discription for running the codes, like number of points and models."
   ]
  },
  {
   "cell_type": "code",
   "execution_count": 2,
   "metadata": {
    "collapsed": true
   },
   "outputs": [],
   "source": [
    "# Definition for number of points and grid creation\n",
    "n = 500\n",
    "x = np.linspace(-1000., 1000., n)\n",
    "y = x\n",
    "z = np.random.normal(loc = -50., scale = 1., size = n)\n",
    "# Creat the grid file\n",
    "X, Y = np.meshgrid(x, y)"
   ]
  },
  {
   "cell_type": "markdown",
   "metadata": {},
   "source": [
    "### Define both synthetic models: prism and sphere."
   ]
  },
  {
   "cell_type": "code",
   "execution_count": 3,
   "metadata": {
    "collapsed": true
   },
   "outputs": [],
   "source": [
    "spheregrav = (0., 0., 500., 500., 2673.) \n",
    "spheremag = (0., 0., 500., 500., 2.25) \n",
    "prismgrav = (-250., 250., -250., 250., 100., 300., 2673.)\n",
    "prismmag = (-250., 250., -250., 250., 100., 300., 2.250)"
   ]
  },
  {
   "cell_type": "markdown",
   "metadata": {},
   "source": [
    "**(1) Gravity sources**"
   ]
  },
  {
   "cell_type": "code",
   "execution_count": 8,
   "metadata": {},
   "outputs": [
    {
     "name": "stdout",
     "output_type": "stream",
     "text": [
      "By using a rectangular prism:\n",
      "Gravitational potential\n",
      "10 loops, best of 3: 923 ms per loop\n",
      "Gx component:\n",
      "10 loops, best of 3: 311 ms per loop\n",
      "Gy component:\n",
      "10 loops, best of 3: 325 ms per loop\n",
      "Gz component:\n",
      "10 loops, best of 3: 365 ms per loop\n",
      "\n",
      "By using a solid sphere:\n",
      "Gz component:\n",
      "10 loops, best of 3: 907 ms per loop\n"
     ]
    }
   ],
   "source": [
    "print 'By using a rectangular prism:'\n",
    "print 'Gravitational potential'\n",
    "%timeit -n 10 gmc.potential(X, Y, z, prismgrav)\n",
    "print 'Gx component:'\n",
    "%timeit -n 10 gmc.prism_gx(X, Y, z, prismgrav)\n",
    "print 'Gy component:'\n",
    "%timeit -n 10 gmc.prism_gy(X, Y, z, prismgrav)\n",
    "print 'Gz component:'\n",
    "%timeit -n 10 gmc.prism_gz(X, Y, z, prismgrav)\n",
    "print\n",
    "print 'By using a solid sphere:'\n",
    "print 'Gz component:'\n",
    "%timeit -n 10 gmc.potential(X, Y, z, prismgrav)"
   ]
  },
  {
   "cell_type": "markdown",
   "metadata": {},
   "source": [
    "**(2) Magnetic sources**"
   ]
  },
  {
   "cell_type": "code",
   "execution_count": 10,
   "metadata": {},
   "outputs": [
    {
     "name": "stdout",
     "output_type": "stream",
     "text": [
      "By using a rectangular prism:\n",
      "Total field anomaly\n",
      "10 loops, best of 3: 845 ms per loop\n",
      "\n",
      "By using a solid sphere:\n",
      "Bx component:\n",
      "10 loops, best of 3: 56.1 ms per loop\n",
      "By component:\n",
      "10 loops, best of 3: 56.5 ms per loop\n",
      "Bz component:\n",
      "10 loops, best of 3: 56.1 ms per loop\n",
      "True total field anomaly:\n",
      "10 loops, best of 3: 192 ms per loop\n",
      "Approximated total field anomaly:\n",
      "10 loops, best of 3: 179 ms per loop\n"
     ]
    }
   ],
   "source": [
    "print 'By using a rectangular prism:'\n",
    "print 'Total field anomaly'\n",
    "%timeit -n 10 gmc.prism_tf(X, Y, z, prismmag, (42., 22.), (42., 22.))\n",
    "print\n",
    "print 'By using a solid sphere:'\n",
    "print 'Bx component:'\n",
    "%timeit -n 10 gmc.sphere_bx(X, Y, z, spheremag, (42., 22.))\n",
    "print 'By component:'\n",
    "%timeit -n 10 gmc.sphere_by(X, Y, z, spheremag, (42., 22.))\n",
    "print 'Bz component:'\n",
    "%timeit -n 10 gmc.sphere_bz(X, Y, z, spheremag, (42., 22.))\n",
    "print 'True total field anomaly:'\n",
    "%timeit -n 10 gmc.sphere_tf(X, Y, z, spheremag, (42., 22.), (42., 22.), 23500.)\n",
    "print 'Approximated total field anomaly:'\n",
    "%timeit -n 10 gmc.sphere_tf(X, Y, z, spheremag, (42., 22.), (42., 22.), 23500.)"
   ]
  },
  {
   "cell_type": "markdown",
   "metadata": {},
   "source": [
    "**Transform and filters for potential data**"
   ]
  },
  {
   "cell_type": "code",
   "execution_count": null,
   "metadata": {
    "collapsed": true
   },
   "outputs": [],
   "source": []
  }
 ],
 "metadata": {
  "kernelspec": {
   "display_name": "Python 2",
   "language": "python",
   "name": "python2"
  },
  "language_info": {
   "codemirror_mode": {
    "name": "ipython",
    "version": 2
   },
   "file_extension": ".py",
   "mimetype": "text/x-python",
   "name": "python",
   "nbconvert_exporter": "python",
   "pygments_lexer": "ipython2",
   "version": "2.7.14"
  }
 },
 "nbformat": 4,
 "nbformat_minor": 2
}
