{
 "cells": [
  {
   "cell_type": "code",
   "execution_count": null,
   "metadata": {
    "collapsed": true
   },
   "outputs": [],
   "source": [
    "# Importing all usefull libraries\n",
    "import numpy as np\n",
    "import auxiliars as aux\n",
    "import gravmag_codes as gmc\n",
    "import matplotlib.pyplot as plt"
   ]
  },
  {
   "cell_type": "code",
   "execution_count": null,
   "metadata": {
    "collapsed": true
   },
   "outputs": [],
   "source": [
    "# Positions and number of points\n",
    "npts = 500\n",
    "x = np.linspace(-4000, 4000, npts)\n",
    "y = np.copy(x)\n",
    "z = -200.\n",
    "# Computes the mesh of all points\n",
    "X, Y = np.meshgrid(x, y)"
   ]
  },
  {
   "cell_type": "code",
   "execution_count": null,
   "metadata": {
    "collapsed": true
   },
   "outputs": [],
   "source": [
    "# Setting the parameters for prism\n",
    "prism = [-500., 500., -500., 500., 2000., 3000., 1.275] # meters + A/m2\n",
    "sphere = [800., 1200., 1100., 850., 4.5] # meters + A/m2\n",
    "\n",
    "# Writing inclination, declination, azimuth \n",
    "pdirec = [45., -25., 0.] # source\n",
    "field = [24300., 60., 20., 0.] # regional field"
   ]
  },
  {
   "cell_type": "code",
   "execution_count": null,
   "metadata": {
    "collapsed": true
   },
   "outputs": [],
   "source": [
    "# Calculating total field due to a solid prims\n",
    "# 1 - Simple profile\n",
    "tfp = gmc.prism_tf(x, y, z, prism, pdirec, field)\n",
    "# Contour map\n",
    "TFP = gmc.prism_tf(X, Y, z, prism, pdirec, field)\n",
    "\n",
    "# 2 Adding noise\n",
    "tfp_noise = aux.addnoise(tfp, 0.5)\n",
    "TFP_noise = aux.addnoise(TFP, 0.5)"
   ]
  },
  {
   "cell_type": "code",
   "execution_count": null,
   "metadata": {
    "collapsed": true
   },
   "outputs": [],
   "source": [
    "# Ploting all results \n",
    "plt.close('all')\n",
    "plt.figure(figsize=(20,14))\n",
    "\n",
    "plt.subplot(2, 2, 1)\n",
    "plt.plot(x, tfp, 'k--', linewidth = 2)\n",
    "plt.title('Total field anomaly (nT)', fontsize = 18)\n",
    "plt.xlabel('X coordinate', fontsize = 14)\n",
    "plt.ylabel('Unit - nT', fontsize = 14)\n",
    "plt.xticks(fontsize = 10)\n",
    "plt.yticks(fontsize = 10)\n",
    "plt.grid()\n",
    "\n",
    "plt.subplot(2, 2, 2)\n",
    "plt.plot(x, tfp_noise, 'k--', linewidth = 2)\n",
    "plt.title('Noised total field (nT)', fontsize = 18)\n",
    "plt.xlabel('X coordinate', fontsize = 14)\n",
    "plt.ylabel('Unit - nT', fontsize = 14)\n",
    "plt.xticks(fontsize = 10)\n",
    "plt.yticks(fontsize = 10)\n",
    "plt.grid()\n",
    "\n",
    "plt.subplot(2, 2, 3)\n",
    "plt.contourf(Y, X, TFP, 100, cmap = plt.cm.jet)\n",
    "plt.title('Total field anomaly (nT)', fontsize = 18)\n",
    "plt.xlabel('North (meters)', fontsize = 14)\n",
    "plt.ylabel('East (meters)', fontsize = 14)\n",
    "plt.xticks(fontsize = 10)\n",
    "plt.yticks(fontsize = 10)\n",
    "plt.colorbar()\n",
    "\n",
    "plt.subplot(2, 2, 4)\n",
    "plt.contourf(Y, X, TFP_noise, 100, cmap = plt.cm.jet)\n",
    "plt.title('Noised total field (nT)', fontsize = 18)\n",
    "plt.xlabel('North (meters)', fontsize = 14)\n",
    "plt.ylabel('East (meters)', fontsize = 14)\n",
    "plt.xticks(fontsize = 10)\n",
    "plt.yticks(fontsize = 10)\n",
    "plt.colorbar()\n",
    "\n",
    "plt.savefig('figures/prism-magnetic.png')\n",
    "plt.show()"
   ]
  }
 ],
 "metadata": {
  "kernelspec": {
   "display_name": "Python 2",
   "language": "python",
   "name": "python2"
  },
  "language_info": {
   "codemirror_mode": {
    "name": "ipython",
    "version": 2
   },
   "file_extension": ".py",
   "mimetype": "text/x-python",
   "name": "python",
   "nbconvert_exporter": "python",
   "pygments_lexer": "ipython2",
   "version": "2.7.13"
  }
 },
 "nbformat": 4,
 "nbformat_minor": 2
}
