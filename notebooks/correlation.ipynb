{
 "cells": [
  {
   "cell_type": "code",
   "execution_count": 1,
   "metadata": {
    "collapsed": true
   },
   "outputs": [],
   "source": [
    "# Importing all usefull libraries for this notebook\n",
    "import numpy as np\n",
    "import gravmag as gmc\n",
    "import datafiltering as df\n",
    "from auxiliars import addnoise\n",
    "import matplotlib.pyplot as pl"
   ]
  },
  {
   "cell_type": "code",
   "execution_count": 2,
   "metadata": {
    "collapsed": true
   },
   "outputs": [],
   "source": [
    "def cc(data1, data2):\n",
    "    '''\n",
    "    Returns the crosscorrelation coefficient between two data \n",
    "    sets, which can N-dimensional. It is important that both \n",
    "    data sets have the same dimension\n",
    "    '''\n",
    "    m1, m2 = data1.mean(), data2.mean()\n",
    "    dim1, dim2 = data1.ndim, data2.ndim\n",
    "    #if dim1 == 2:\n",
    "    #    data1 = data1.reshape(data1.size)\n",
    "    #if dim2 == 2:\n",
    "    #    data2 = data2.reshape(data2.size)\n",
    "    \n",
    "    # Formulation\n",
    "    num = np.sum((data1 - m1)*(data2 - m2))\n",
    "    s1 = np.sum((data1 - m1)**2)\n",
    "    s2 = np.sum((data2 - m2)**2)\n",
    "    cc = num/np.sqrt(s1*s2)\n",
    "    \n",
    "    return cc"
   ]
  },
  {
   "cell_type": "code",
   "execution_count": 7,
   "metadata": {
    "collapsed": true
   },
   "outputs": [],
   "source": [
    "# Defines number of points\n",
    "x = np.linspace(-1000, 1000, 50)\n",
    "y = x\n",
    "z = -10.\n",
    "\n",
    "# Creates the grid\n",
    "X, Y = np.meshgrid(x, y)\n",
    "\n",
    "modelgrav = (0., 0., 100., 120., 2300.)\n",
    "modelmag = (0., 0., 100., 120., 2.3)"
   ]
  },
  {
   "cell_type": "code",
   "execution_count": 36,
   "metadata": {},
   "outputs": [],
   "source": [
    "# Computes the potential data\n",
    "gz = gmc.sphere_gz(X, Y, z, modelgrav)\n",
    "tf = gmc.sphere_tfa(X, Y, z, modelmag, (45., 0.), (45., 0))"
   ]
  },
  {
   "cell_type": "code",
   "execution_count": 33,
   "metadata": {},
   "outputs": [
    {
     "name": "stdout",
     "output_type": "stream",
     "text": [
      "0.00428153651141 8.30856017143 0.697778480903\n",
      "-496.341440601 1100.70545585 23.88710766\n",
      "50 (50,)\n",
      "50 (50,)\n"
     ]
    }
   ],
   "source": [
    "print gz.min(), gz.max(), gz.mean()\n",
    "print tf.min(), tf.max(), tf.mean()\n",
    "print gz.size, gz.shape\n",
    "print tf.size, tf.shape"
   ]
  },
  {
   "cell_type": "code",
   "execution_count": 37,
   "metadata": {},
   "outputs": [],
   "source": [
    "cc1 = np.corrcoef(gz, tf)\n",
    "#cc2 = np.correlate(gz, tf, mode = 'valid')\n",
    "#cc3 = np.correlate(gz, tf, mode = 'same')\n",
    "#cc4 = np.correlate(gz, tf, mode = 'full')\n",
    "mycc = cc(gz, tf)"
   ]
  },
  {
   "cell_type": "code",
   "execution_count": 39,
   "metadata": {},
   "outputs": [
    {
     "name": "stdout",
     "output_type": "stream",
     "text": [
      "-0.971592761771 1.0\n",
      "\n",
      "9635.3313669 9635.3313669\n",
      "\n",
      "-4543.03481305 15261.1348759\n",
      "\n",
      "-4543.03481305 15261.1348759\n",
      "\n",
      "0.271455942341\n"
     ]
    }
   ],
   "source": [
    "print cc1.min(), cc1.max()\n",
    "print\n",
    "print cc2.min(), cc2.max()\n",
    "print\n",
    "print cc3.min(), cc3.max()\n",
    "print\n",
    "print cc4.min(), cc4.max()\n",
    "print\n",
    "print mycc"
   ]
  },
  {
   "cell_type": "code",
   "execution_count": null,
   "metadata": {
    "collapsed": true
   },
   "outputs": [],
   "source": []
  }
 ],
 "metadata": {
  "kernelspec": {
   "display_name": "Python 2",
   "language": "python",
   "name": "python2"
  },
  "language_info": {
   "codemirror_mode": {
    "name": "ipython",
    "version": 2
   },
   "file_extension": ".py",
   "mimetype": "text/x-python",
   "name": "python",
   "nbconvert_exporter": "python",
   "pygments_lexer": "ipython2",
   "version": "2.7.13"
  }
 },
 "nbformat": 4,
 "nbformat_minor": 2
}
