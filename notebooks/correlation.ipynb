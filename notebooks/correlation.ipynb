{
 "cells": [
  {
   "cell_type": "code",
   "execution_count": 2,
   "metadata": {
    "collapsed": true
   },
   "outputs": [],
   "source": [
    "# Importing all usefull libraries\n",
    "import numpy as np\n",
    "import matplotlib.pyplot as plt"
   ]
  },
  {
   "cell_type": "markdown",
   "metadata": {},
   "source": [
    "**Let $x$ and $y$**"
   ]
  },
  {
   "cell_type": "code",
   "execution_count": 22,
   "metadata": {},
   "outputs": [],
   "source": [
    "# Number of points for each vector\n",
    "N = 100\n",
    "# Definition for x and y\n",
    "x = np.linspace(-5., 5., N)\n",
    "v1 = x**2 + np.cos(x)\n",
    "v2 = np.exp(x/2.) + x"
   ]
  },
  {
   "cell_type": "code",
   "execution_count": 23,
   "metadata": {},
   "outputs": [
    {
     "name": "stdout",
     "output_type": "stream",
     "text": [
      "Using the first data vector:\n",
      "Min = 1.00127565114 / Max = 25.2836621855\n",
      "Using the second data vector:\n",
      "Min = -4.91791500138 / Max = 17.1824939607\n"
     ]
    }
   ],
   "source": [
    "# Printing the minimum and maximun values\n",
    "print 'Using the first data vector:'\n",
    "print 'Min =', v1.min(), '/', 'Max =', v1.max()\n",
    "print 'Using the second data vector:'\n",
    "print 'Min =', v2.min(), '/', 'Max =', v2.max()"
   ]
  },
  {
   "cell_type": "code",
   "execution_count": 24,
   "metadata": {
    "collapsed": true
   },
   "outputs": [],
   "source": [
    "# Calculation of the means\n",
    "m1 = np.mean(v1)\n",
    "m2 = np.mean(v2)"
   ]
  },
  {
   "cell_type": "code",
   "execution_count": 30,
   "metadata": {},
   "outputs": [
    {
     "name": "stdout",
     "output_type": "stream",
     "text": [
      "[-1. -1. -1. -1. -1. -1. -1. -1. -1. -1. -1. -1. -1. -1. -1. -1. -1. -1.\n",
      " -1. -1.  1.  1.  1.  1.  1.  1.  1.  1.  1.  1.  1.  1.  1.  1.  1.  1.\n",
      "  1.  1.  1.  1.  1.  1.  1.  1.  1.  1.  1.  1.  1.  1.  1.  1.  1.  1.\n",
      "  1.  1.  1.  1.  1. -1. -1. -1. -1. -1. -1. -1. -1. -1. -1. -1. -1. -1.\n",
      " -1. -1. -1. -1. -1. -1. -1. -1.  1.  1.  1.  1.  1.  1.  1.  1.  1.  1.\n",
      "  1.  1.  1.  1.  1.  1.  1.  1.  1.  1.]\n"
     ]
    }
   ],
   "source": [
    "# Correlation using x and y as vectors\n",
    "CC = np.zeros(N)\n",
    "for n in range(N):\n",
    "    CC[n] = (np.sum(v1[n]-m1)*(v2[n]-m2))\n",
    "    CC[n] /= np.sqrt(np.sum(((v1[n]-m1)**2.)*((v2[n]-m2)**2.)))"
   ]
  },
  {
   "cell_type": "code",
   "execution_count": 39,
   "metadata": {},
   "outputs": [
    {
     "data": {
      "image/png": "[encoded data removed]",
      "text/plain": [
       "<matplotlib.figure.Figure at 0x7f16a0cf25d0>"
      ]
     },
     "metadata": {},
     "output_type": "display_data"
    }
   ],
   "source": [
    "plt.figure(figsize=(12,8))\n",
    "plt.title('Correlation between data vectors', fontsize = 18)\n",
    "plt.plot(np.arange(N), CC, 'k-')\n",
    "plt.xlabel('Number of points', fontsize = 14)\n",
    "plt.ylabel('Cross correlation value', fontsize = 14)\n",
    "plt.grid()\n",
    "plt.show()"
   ]
  },
  {
   "cell_type": "code",
   "execution_count": 55,
   "metadata": {
    "collapsed": true
   },
   "outputs": [],
   "source": [
    "# Computing the meshgrid\n",
    "U, V = np.meshgrid(v1, v2)"
   ]
  },
  {
   "cell_type": "code",
   "execution_count": 68,
   "metadata": {},
   "outputs": [],
   "source": [
    "nu, mu = U.shape\n",
    "nv, mv = V.shape\n",
    "U = U.reshape(U.size)\n",
    "V = V.reshape(V.size)"
   ]
  },
  {
   "cell_type": "code",
   "execution_count": 84,
   "metadata": {},
   "outputs": [
    {
     "name": "stdout",
     "output_type": "stream",
     "text": [
      "Coeficient:\n",
      "[[ 1.          0.25603607]\n",
      " [ 0.25603607  1.        ]]\n",
      "\n",
      "Valid method for correlation: [ 3127.54632384]\n",
      "\n",
      "Same method for correlation:\n",
      "[ 1499.77664407  1427.88942307  1357.79558424  1289.58077533  1223.33142376\n",
      "  1159.13640597  1097.08859421  1037.28626898   979.83438621   924.84568959\n",
      "   872.44166019   822.75329642   775.92171966   732.09860188   691.44641373\n",
      "   654.13849292   620.35893477   590.30230814   564.17320191   542.18560863\n",
      "   524.56215363   511.53317924   503.33569527   500.21220806   502.40944182\n",
      "   510.17696647   523.76574782   543.4266359    569.40880833   601.95818583\n",
      "   641.31583714   687.71639073   741.38647069   802.54317355   871.39260265\n",
      "   948.128476    1032.93082237  1125.96478022  1227.37951195  1337.3072458\n",
      "  1455.86245547  1583.14118679  1719.22053873  1864.15830486  2017.99277925\n",
      "  2180.74272962  2352.4075383   2532.96751019  2722.38434503  2920.6017696\n",
      "  3127.54632384  3016.52293321  2910.22153649  2808.24157986  2710.2084185\n",
      "  2615.77253651  2524.60876078  2436.41546545  2350.91376458  2267.84669077\n",
      "  2186.97835864  2108.09311233  2030.99465708  1955.50517519  1881.46442775\n",
      "  1808.72884351  1737.17059709  1666.67667924  1597.14796191  1528.49826179\n",
      "  1460.65340572  1393.55030226  1327.13602324  1261.36689995  1196.20763812\n",
      "  1131.63045645  1067.61425287  1004.14380312   941.20899583   878.8041082\n",
      "   816.92712608   755.57911219   694.76362547   634.48619471   574.75384871\n",
      "   515.57470519   456.95761997   398.91189747   341.44706315   284.57269807\n",
      "   228.29833497   172.63341494   117.58730333    63.16936272     9.38908054\n",
      "   -43.74375151   -96.21880989  -148.02496701  -199.14997888  -249.58013692]\n",
      "\n",
      "Full method for correlation:\n",
      "[  434.43637281   832.28161178  1195.37072692  1525.47402648  1824.30051223\n",
      "  2093.50092354  2334.67044631  2549.3511038   2739.03384755  2905.16036752\n",
      "  3049.12464136  3172.27424362  3275.91143632  3361.29406275  3429.63626673\n",
      "  3482.10906007  3519.84076056  3543.91732325  3555.38258715  3555.2384593\n",
      "  3544.44505757  3523.92083263  3494.54268902  3457.14612386  3412.52540086\n",
      "  3361.43377571  3304.58378793  3242.6476322   3176.25762117  3106.00674946\n",
      "  3032.44936741  2956.10197069  2877.44411066  2796.91942807  2714.93681101\n",
      "  2631.87167626  2548.06737125  2463.83669216  2379.46351204  2295.20451135\n",
      "  2211.29100148  2127.93083094  2045.3103623   1963.59650697  1882.93880407\n",
      "  1803.47152865  1725.31581412  1648.58177307  1573.37060062  1499.77664407\n",
      "  1427.88942307  1357.79558424  1289.58077533  1223.33142376  1159.13640597\n",
      "  1097.08859421  1037.28626898   979.83438621   924.84568959   872.44166019\n",
      "   822.75329642   775.92171966   732.09860188   691.44641373   654.13849292\n",
      "   620.35893477   590.30230814   564.17320191   542.18560863   524.56215363\n",
      "   511.53317924   503.33569527   500.21220806   502.40944182   510.17696647\n",
      "   523.76574782   543.4266359    569.40880833   601.95818583   641.31583714\n",
      "   687.71639073   741.38647069   802.54317355   871.39260265   948.128476\n",
      "  1032.93082237  1125.96478022  1227.37951195  1337.3072458   1455.86245547\n",
      "  1583.14118679  1719.22053873  1864.15830486  2017.99277925  2180.74272962\n",
      "  2352.4075383   2532.96751019  2722.38434503  2920.6017696   3127.54632384\n",
      "  3016.52293321  2910.22153649  2808.24157986  2710.2084185   2615.77253651\n",
      "  2524.60876078  2436.41546545  2350.91376458  2267.84669077  2186.97835864\n",
      "  2108.09311233  2030.99465708  1955.50517519  1881.46442775  1808.72884351\n",
      "  1737.17059709  1666.67667924  1597.14796191  1528.49826179  1460.65340572\n",
      "  1393.55030226  1327.13602324  1261.36689995  1196.20763812  1131.63045645\n",
      "  1067.61425287  1004.14380312   941.20899583   878.8041082    816.92712608\n",
      "   755.57911219   694.76362547   634.48619471   574.75384871   515.57470519\n",
      "   456.95761997   398.91189747   341.44706315   284.57269807   228.29833497\n",
      "   172.63341494   117.58730333    63.16936272     9.38908054   -43.74375151\n",
      "   -96.21880989  -148.02496701  -199.14997888  -249.58013692  -299.29988891\n",
      "  -348.29143405  -396.53429758  -444.00489027  -490.6760583   -536.51662927\n",
      "  -581.49095979  -625.55849017  -668.67331171  -710.78375167  -751.83198107\n",
      "  -791.75364993  -830.47755451  -867.92534045  -904.01124557  -938.6418856\n",
      "  -971.71608545 -1003.1247584  -1032.75083494 -1060.46924246 -1086.14693647\n",
      " -1109.64298345 -1130.80869501 -1149.48781223 -1165.51673885 -1178.7248212\n",
      " -1188.93467236 -1195.96253763 -1199.61869786 -1199.70790683 -1196.02985847\n",
      " -1188.37967954 -1176.54844285 -1160.32369614 -1139.49000142 -1113.82947947\n",
      " -1083.12235427 -1047.14749178 -1005.68292805  -958.50638121  -905.39574247\n",
      "  -846.12954116  -780.48737931  -708.2503314   -629.20130549  -543.12536197\n",
      "  -449.80998702  -349.04531798  -240.62431846  -124.34290155]\n"
     ]
    }
   ],
   "source": [
    "# Simple correlation for data vectors v1 e v2\n",
    "print 'Coeficient:'\n",
    "print np.corrcoef(v1, v2)\n",
    "print\n",
    "print 'Valid method for correlation:', np.correlate(v1, v2, 'valid')\n",
    "print\n",
    "print 'Same method for correlation:'\n",
    "print np.correlate(v1, v2, 'same')\n",
    "print\n",
    "print 'Full method for correlation:'\n",
    "print np.correlate(v1, v2, 'full')"
   ]
  },
  {
   "cell_type": "code",
   "execution_count": 73,
   "metadata": {},
   "outputs": [
    {
     "name": "stdout",
     "output_type": "stream",
     "text": [
      "Coeficient:\n",
      "[[  1.00000000e+00   4.29635997e-18]\n",
      " [  4.29635997e-18   1.00000000e+00]]\n",
      "\n",
      "Valid method for correlation: [ 204354.28917017]\n",
      "\n",
      "Same method for correlation:\n",
      "[ 294195.29231742  294218.66854479  294241.02956959 ...,  -89762.90629543\n",
      "  -89787.77028345  -89813.79592625]\n",
      "\n",
      "Full method for correlation:\n",
      "[  434.43637281   850.00567553  1247.026039   ...,  -356.91955302\n",
      "  -243.28573445  -124.34290155]\n"
     ]
    }
   ],
   "source": [
    "# Simple correlation for data vectors v1 e v2\n",
    "print 'Coeficient:'\n",
    "print np.corrcoef(U,V)\n",
    "print\n",
    "print 'Valid method for correlation:', np.correlate(U, V, 'valid')\n",
    "print\n",
    "print 'Same method for correlation:'\n",
    "print np.correlate(U, V, 'same')\n",
    "print\n",
    "print 'Full method for correlation:'\n",
    "print np.correlate(U, V, 'full')"
   ]
  },
  {
   "cell_type": "code",
   "execution_count": 76,
   "metadata": {
    "collapsed": true
   },
   "outputs": [],
   "source": [
    "# Computing the correlations - vectors\n",
    "cc_valid = np.correlate(v1, v2, 'valid')\n",
    "cc_same = np.correlate(v1, v2, 'same')\n",
    "cc_full = np.correlate(v1, v2, 'full')\n",
    "# Computing the correlations - grid\n",
    "CC_valid = np.correlate(U, V, 'valid')\n",
    "CC_same = np.correlate(U, V, 'same')\n",
    "CC_full = np.correlate(U, V, 'full')"
   ]
  },
  {
   "cell_type": "code",
   "execution_count": 87,
   "metadata": {},
   "outputs": [
    {
     "name": "stdout",
     "output_type": "stream",
     "text": [
      "Minimum values:\n",
      "3127.54632384 204354.28917\n",
      "-249.580136924 -89813.7959263\n",
      "-1199.70790683 -92685.5367916\n",
      "Maximum values:\n",
      "3127.54632384 204354.28917\n",
      "3127.54632384 297039.825962\n",
      "3555.38258715 297039.825962\n"
     ]
    }
   ],
   "source": [
    "print 'Minimum values:'\n",
    "print cc_valid.min(), CC_valid.min()\n",
    "print cc_same.min(), CC_same.min()\n",
    "print cc_full.min(), CC_full.min()\n",
    "print 'Maximum values:'\n",
    "print cc_valid.max(), CC_valid.max()\n",
    "print cc_same.max(), CC_same.max()\n",
    "print cc_full.max(), CC_full.max()"
   ]
  },
  {
   "cell_type": "code",
   "execution_count": 92,
   "metadata": {},
   "outputs": [
    {
     "ename": "TypeError",
     "evalue": "Length of x must be number of columns in z.",
     "output_type": "error",
     "traceback": [
      "\u001b[0;31m-------------------------------------------------------------------------\u001b[0m",
      "\u001b[0;31mTypeError\u001b[0m                               Traceback (most recent call last)",
      "\u001b[0;32m<ipython-input-92-83b5d97afdc6>\u001b[0m in \u001b[0;36m<module>\u001b[0;34m()\u001b[0m\n\u001b[1;32m      1\u001b[0m \u001b[0mCC_same\u001b[0m \u001b[0;34m=\u001b[0m \u001b[0mCC_same\u001b[0m\u001b[0;34m.\u001b[0m\u001b[0mreshape\u001b[0m\u001b[0;34m(\u001b[0m\u001b[0mnu\u001b[0m\u001b[0;34m,\u001b[0m \u001b[0mmu\u001b[0m\u001b[0;34m)\u001b[0m\u001b[0;34m\u001b[0m\u001b[0m\n\u001b[1;32m      2\u001b[0m \u001b[0mplt\u001b[0m\u001b[0;34m.\u001b[0m\u001b[0mfigure\u001b[0m\u001b[0;34m(\u001b[0m\u001b[0;34m)\u001b[0m\u001b[0;34m\u001b[0m\u001b[0m\n\u001b[0;32m----> 3\u001b[0;31m \u001b[0mplt\u001b[0m\u001b[0;34m.\u001b[0m\u001b[0mcontourf\u001b[0m\u001b[0;34m(\u001b[0m\u001b[0mU\u001b[0m\u001b[0;34m,\u001b[0m \u001b[0mV\u001b[0m\u001b[0;34m,\u001b[0m \u001b[0mCC_same\u001b[0m\u001b[0;34m,\u001b[0m \u001b[0;36m20\u001b[0m\u001b[0;34m,\u001b[0m \u001b[0mcmap\u001b[0m \u001b[0;34m=\u001b[0m \u001b[0mplt\u001b[0m\u001b[0;34m.\u001b[0m\u001b[0mcm\u001b[0m\u001b[0;34m.\u001b[0m\u001b[0mjet\u001b[0m\u001b[0;34m)\u001b[0m\u001b[0;34m\u001b[0m\u001b[0m\n\u001b[0m\u001b[1;32m      4\u001b[0m \u001b[0mplt\u001b[0m\u001b[0;34m.\u001b[0m\u001b[0mcolorbar\u001b[0m\u001b[0;34m(\u001b[0m\u001b[0;34m)\u001b[0m\u001b[0;34m\u001b[0m\u001b[0m\n\u001b[1;32m      5\u001b[0m \u001b[0mplt\u001b[0m\u001b[0;34m.\u001b[0m\u001b[0mshow\u001b[0m\u001b[0;34m(\u001b[0m\u001b[0;34m)\u001b[0m\u001b[0;34m\u001b[0m\u001b[0m\n",
      "\u001b[0;32m/home/nielsen/anaconda2/lib/python2.7/site-packages/matplotlib/pyplot.pyc\u001b[0m in \u001b[0;36mcontourf\u001b[0;34m(*args, **kwargs)\u001b[0m\n\u001b[1;32m   2872\u001b[0m                       mplDeprecation)\n\u001b[1;32m   2873\u001b[0m     \u001b[0;32mtry\u001b[0m\u001b[0;34m:\u001b[0m\u001b[0;34m\u001b[0m\u001b[0m\n\u001b[0;32m-> 2874\u001b[0;31m         \u001b[0mret\u001b[0m \u001b[0;34m=\u001b[0m \u001b[0max\u001b[0m\u001b[0;34m.\u001b[0m\u001b[0mcontourf\u001b[0m\u001b[0;34m(\u001b[0m\u001b[0;34m*\u001b[0m\u001b[0margs\u001b[0m\u001b[0;34m,\u001b[0m \u001b[0;34m**\u001b[0m\u001b[0mkwargs\u001b[0m\u001b[0;34m)\u001b[0m\u001b[0;34m\u001b[0m\u001b[0m\n\u001b[0m\u001b[1;32m   2875\u001b[0m     \u001b[0;32mfinally\u001b[0m\u001b[0;34m:\u001b[0m\u001b[0;34m\u001b[0m\u001b[0m\n\u001b[1;32m   2876\u001b[0m         \u001b[0max\u001b[0m\u001b[0;34m.\u001b[0m\u001b[0m_hold\u001b[0m \u001b[0;34m=\u001b[0m \u001b[0mwashold\u001b[0m\u001b[0;34m\u001b[0m\u001b[0m\n",
      "\u001b[0;32m/home/nielsen/anaconda2/lib/python2.7/site-packages/matplotlib/__init__.pyc\u001b[0m in \u001b[0;36minner\u001b[0;34m(ax, *args, **kwargs)\u001b[0m\n\u001b[1;32m   1896\u001b[0m                     warnings.warn(msg % (label_namer, func.__name__),\n\u001b[1;32m   1897\u001b[0m                                   RuntimeWarning, stacklevel=2)\n\u001b[0;32m-> 1898\u001b[0;31m             \u001b[0;32mreturn\u001b[0m \u001b[0mfunc\u001b[0m\u001b[0;34m(\u001b[0m\u001b[0max\u001b[0m\u001b[0;34m,\u001b[0m \u001b[0;34m*\u001b[0m\u001b[0margs\u001b[0m\u001b[0;34m,\u001b[0m \u001b[0;34m**\u001b[0m\u001b[0mkwargs\u001b[0m\u001b[0;34m)\u001b[0m\u001b[0;34m\u001b[0m\u001b[0m\n\u001b[0m\u001b[1;32m   1899\u001b[0m         \u001b[0mpre_doc\u001b[0m \u001b[0;34m=\u001b[0m \u001b[0minner\u001b[0m\u001b[0;34m.\u001b[0m\u001b[0m__doc__\u001b[0m\u001b[0;34m\u001b[0m\u001b[0m\n\u001b[1;32m   1900\u001b[0m         \u001b[0;32mif\u001b[0m \u001b[0mpre_doc\u001b[0m \u001b[0;32mis\u001b[0m \u001b[0mNone\u001b[0m\u001b[0;34m:\u001b[0m\u001b[0;34m\u001b[0m\u001b[0m\n",
      "\u001b[0;32m/home/nielsen/anaconda2/lib/python2.7/site-packages/matplotlib/axes/_axes.pyc\u001b[0m in \u001b[0;36mcontourf\u001b[0;34m(self, *args, **kwargs)\u001b[0m\n\u001b[1;32m   5833\u001b[0m             \u001b[0mself\u001b[0m\u001b[0;34m.\u001b[0m\u001b[0mcla\u001b[0m\u001b[0;34m(\u001b[0m\u001b[0;34m)\u001b[0m\u001b[0;34m\u001b[0m\u001b[0m\n\u001b[1;32m   5834\u001b[0m         \u001b[0mkwargs\u001b[0m\u001b[0;34m[\u001b[0m\u001b[0;34m'filled'\u001b[0m\u001b[0;34m]\u001b[0m \u001b[0;34m=\u001b[0m \u001b[0mTrue\u001b[0m\u001b[0;34m\u001b[0m\u001b[0m\n\u001b[0;32m-> 5835\u001b[0;31m         \u001b[0mcontours\u001b[0m \u001b[0;34m=\u001b[0m \u001b[0mmcontour\u001b[0m\u001b[0;34m.\u001b[0m\u001b[0mQuadContourSet\u001b[0m\u001b[0;34m(\u001b[0m\u001b[0mself\u001b[0m\u001b[0;34m,\u001b[0m \u001b[0;34m*\u001b[0m\u001b[0margs\u001b[0m\u001b[0;34m,\u001b[0m \u001b[0;34m**\u001b[0m\u001b[0mkwargs\u001b[0m\u001b[0;34m)\u001b[0m\u001b[0;34m\u001b[0m\u001b[0m\n\u001b[0m\u001b[1;32m   5836\u001b[0m         \u001b[0mself\u001b[0m\u001b[0;34m.\u001b[0m\u001b[0mautoscale_view\u001b[0m\u001b[0;34m(\u001b[0m\u001b[0;34m)\u001b[0m\u001b[0;34m\u001b[0m\u001b[0m\n\u001b[1;32m   5837\u001b[0m         \u001b[0;32mreturn\u001b[0m \u001b[0mcontours\u001b[0m\u001b[0;34m\u001b[0m\u001b[0m\n",
      "\u001b[0;32m/home/nielsen/anaconda2/lib/python2.7/site-packages/matplotlib/contour.pyc\u001b[0m in \u001b[0;36m__init__\u001b[0;34m(self, ax, *args, **kwargs)\u001b[0m\n\u001b[1;32m    862\u001b[0m         \u001b[0mself\u001b[0m\u001b[0;34m.\u001b[0m\u001b[0m_transform\u001b[0m \u001b[0;34m=\u001b[0m \u001b[0mkwargs\u001b[0m\u001b[0;34m.\u001b[0m\u001b[0mget\u001b[0m\u001b[0;34m(\u001b[0m\u001b[0;34m'transform'\u001b[0m\u001b[0;34m,\u001b[0m \u001b[0mNone\u001b[0m\u001b[0;34m)\u001b[0m\u001b[0;34m\u001b[0m\u001b[0m\n\u001b[1;32m    863\u001b[0m \u001b[0;34m\u001b[0m\u001b[0m\n\u001b[0;32m--> 864\u001b[0;31m         \u001b[0mself\u001b[0m\u001b[0;34m.\u001b[0m\u001b[0m_process_args\u001b[0m\u001b[0;34m(\u001b[0m\u001b[0;34m*\u001b[0m\u001b[0margs\u001b[0m\u001b[0;34m,\u001b[0m \u001b[0;34m**\u001b[0m\u001b[0mkwargs\u001b[0m\u001b[0;34m)\u001b[0m\u001b[0;34m\u001b[0m\u001b[0m\n\u001b[0m\u001b[1;32m    865\u001b[0m         \u001b[0mself\u001b[0m\u001b[0;34m.\u001b[0m\u001b[0m_process_levels\u001b[0m\u001b[0;34m(\u001b[0m\u001b[0;34m)\u001b[0m\u001b[0;34m\u001b[0m\u001b[0m\n\u001b[1;32m    866\u001b[0m \u001b[0;34m\u001b[0m\u001b[0m\n",
      "\u001b[0;32m/home/nielsen/anaconda2/lib/python2.7/site-packages/matplotlib/contour.pyc\u001b[0m in \u001b[0;36m_process_args\u001b[0;34m(self, *args, **kwargs)\u001b[0m\n\u001b[1;32m   1427\u001b[0m                 \u001b[0mself\u001b[0m\u001b[0;34m.\u001b[0m\u001b[0m_corner_mask\u001b[0m \u001b[0;34m=\u001b[0m \u001b[0mmpl\u001b[0m\u001b[0;34m.\u001b[0m\u001b[0mrcParams\u001b[0m\u001b[0;34m[\u001b[0m\u001b[0;34m'contour.corner_mask'\u001b[0m\u001b[0;34m]\u001b[0m\u001b[0;34m\u001b[0m\u001b[0m\n\u001b[1;32m   1428\u001b[0m \u001b[0;34m\u001b[0m\u001b[0m\n\u001b[0;32m-> 1429\u001b[0;31m             \u001b[0mx\u001b[0m\u001b[0;34m,\u001b[0m \u001b[0my\u001b[0m\u001b[0;34m,\u001b[0m \u001b[0mz\u001b[0m \u001b[0;34m=\u001b[0m \u001b[0mself\u001b[0m\u001b[0;34m.\u001b[0m\u001b[0m_contour_args\u001b[0m\u001b[0;34m(\u001b[0m\u001b[0margs\u001b[0m\u001b[0;34m,\u001b[0m \u001b[0mkwargs\u001b[0m\u001b[0;34m)\u001b[0m\u001b[0;34m\u001b[0m\u001b[0m\n\u001b[0m\u001b[1;32m   1430\u001b[0m \u001b[0;34m\u001b[0m\u001b[0m\n\u001b[1;32m   1431\u001b[0m             \u001b[0m_mask\u001b[0m \u001b[0;34m=\u001b[0m \u001b[0mma\u001b[0m\u001b[0;34m.\u001b[0m\u001b[0mgetmask\u001b[0m\u001b[0;34m(\u001b[0m\u001b[0mz\u001b[0m\u001b[0;34m)\u001b[0m\u001b[0;34m\u001b[0m\u001b[0m\n",
      "\u001b[0;32m/home/nielsen/anaconda2/lib/python2.7/site-packages/matplotlib/contour.pyc\u001b[0m in \u001b[0;36m_contour_args\u001b[0;34m(self, args, kwargs)\u001b[0m\n\u001b[1;32m   1506\u001b[0m             \u001b[0margs\u001b[0m \u001b[0;34m=\u001b[0m \u001b[0margs\u001b[0m\u001b[0;34m[\u001b[0m\u001b[0;36m1\u001b[0m\u001b[0;34m:\u001b[0m\u001b[0;34m]\u001b[0m\u001b[0;34m\u001b[0m\u001b[0m\n\u001b[1;32m   1507\u001b[0m         \u001b[0;32melif\u001b[0m \u001b[0mNargs\u001b[0m \u001b[0;34m<=\u001b[0m \u001b[0;36m4\u001b[0m\u001b[0;34m:\u001b[0m\u001b[0;34m\u001b[0m\u001b[0m\n\u001b[0;32m-> 1508\u001b[0;31m             \u001b[0mx\u001b[0m\u001b[0;34m,\u001b[0m \u001b[0my\u001b[0m\u001b[0;34m,\u001b[0m \u001b[0mz\u001b[0m \u001b[0;34m=\u001b[0m \u001b[0mself\u001b[0m\u001b[0;34m.\u001b[0m\u001b[0m_check_xyz\u001b[0m\u001b[0;34m(\u001b[0m\u001b[0margs\u001b[0m\u001b[0;34m[\u001b[0m\u001b[0;34m:\u001b[0m\u001b[0;36m3\u001b[0m\u001b[0;34m]\u001b[0m\u001b[0;34m,\u001b[0m \u001b[0mkwargs\u001b[0m\u001b[0;34m)\u001b[0m\u001b[0;34m\u001b[0m\u001b[0m\n\u001b[0m\u001b[1;32m   1509\u001b[0m             \u001b[0margs\u001b[0m \u001b[0;34m=\u001b[0m \u001b[0margs\u001b[0m\u001b[0;34m[\u001b[0m\u001b[0;36m3\u001b[0m\u001b[0;34m:\u001b[0m\u001b[0;34m]\u001b[0m\u001b[0;34m\u001b[0m\u001b[0m\n\u001b[1;32m   1510\u001b[0m         \u001b[0;32melse\u001b[0m\u001b[0;34m:\u001b[0m\u001b[0;34m\u001b[0m\u001b[0m\n",
      "\u001b[0;32m/home/nielsen/anaconda2/lib/python2.7/site-packages/matplotlib/contour.pyc\u001b[0m in \u001b[0;36m_check_xyz\u001b[0;34m(self, args, kwargs)\u001b[0m\n\u001b[1;32m   1553\u001b[0m \u001b[0;34m\u001b[0m\u001b[0m\n\u001b[1;32m   1554\u001b[0m             \u001b[0;32mif\u001b[0m \u001b[0mnx\u001b[0m \u001b[0;34m!=\u001b[0m \u001b[0mNx\u001b[0m\u001b[0;34m:\u001b[0m\u001b[0;34m\u001b[0m\u001b[0m\n\u001b[0;32m-> 1555\u001b[0;31m                 \u001b[0;32mraise\u001b[0m \u001b[0mTypeError\u001b[0m\u001b[0;34m(\u001b[0m\u001b[0;34m\"Length of x must be number of columns in z.\"\u001b[0m\u001b[0;34m)\u001b[0m\u001b[0;34m\u001b[0m\u001b[0m\n\u001b[0m\u001b[1;32m   1556\u001b[0m \u001b[0;34m\u001b[0m\u001b[0m\n\u001b[1;32m   1557\u001b[0m             \u001b[0;32mif\u001b[0m \u001b[0mny\u001b[0m \u001b[0;34m!=\u001b[0m \u001b[0mNy\u001b[0m\u001b[0;34m:\u001b[0m\u001b[0;34m\u001b[0m\u001b[0m\n",
      "\u001b[0;31mTypeError\u001b[0m: Length of x must be number of columns in z."
     ]
    }
   ],
   "source": [
    "CC_same = CC_same.reshape(nu, mu)\n",
    "plt.figure()\n",
    "plt.contourf(U, V, CC_same, 20, cmap = plt.cm.jet)\n",
    "plt.colorbar()\n",
    "plt.show()"
   ]
  },
  {
   "cell_type": "code",
   "execution_count": 79,
   "metadata": {
    "collapsed": true
   },
   "outputs": [],
   "source": [
    "# By using Scipy library\n",
    "# https://docs.scipy.org/doc/scipy-0.16.1/reference/generated/scipy.signal.correlate.html\n",
    "from scipy import signal"
   ]
  },
  {
   "cell_type": "code",
   "execution_count": null,
   "metadata": {
    "collapsed": true
   },
   "outputs": [],
   "source": []
  }
 ],
 "metadata": {
  "kernelspec": {
   "display_name": "Python 2",
   "language": "python",
   "name": "python2"
  },
  "language_info": {
   "codemirror_mode": {
    "name": "ipython",
    "version": 2
   },
   "file_extension": ".py",
   "mimetype": "text/x-python",
   "name": "python",
   "nbconvert_exporter": "python",
   "pygments_lexer": "ipython2",
   "version": "2.7.13"
  }
 },
 "nbformat": 4,
 "nbformat_minor": 2
}
