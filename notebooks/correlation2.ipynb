{
 "cells": [
  {
   "cell_type": "code",
   "execution_count": 1,
   "metadata": {
    "collapsed": true
   },
   "outputs": [],
   "source": [
    "# Importing all usefull libraries for this notebook\n",
    "import numpy as np\n",
    "import gravmag as gmc\n",
    "import datafiltering as df\n",
    "import matplotlib.pyplot as plt"
   ]
  },
  {
   "cell_type": "code",
   "execution_count": 2,
   "metadata": {
    "collapsed": true
   },
   "outputs": [],
   "source": [
    "# Defines number of points\n",
    "x = np.linspace(-1000, 1000, 200)\n",
    "y = x\n",
    "z = -10.#np.random.normal(loc = -10., scale = 0.5, size = x.size)\n",
    "\n",
    "# Creates the grid\n",
    "X, Y = np.meshgrid(x, y)\n",
    "\n",
    "modelmag = (-100., 100., -100., 100., 20., 120., 2.3)"
   ]
  },
  {
   "cell_type": "code",
   "execution_count": 3,
   "metadata": {
    "collapsed": true
   },
   "outputs": [],
   "source": [
    "# Computes the potential data\n",
    "tf = gmc.prism_tf(X, Y, z, modelmag, [-45., 30.], [-45., 30])"
   ]
  },
  {
   "cell_type": "code",
   "execution_count": 4,
   "metadata": {
    "collapsed": true
   },
   "outputs": [],
   "source": [
    "# Create the intervals for inclination and declination\n",
    "inc = np.linspace(-20., -90., 100)\n",
    "dec = np.linspace(-100., 100., 100)\n",
    "\n",
    "ni, nd = inc.size, dec.size\n",
    "# Create the grid\n",
    "Dec, Inc = np.meshgrid(dec, inc)"
   ]
  },
  {
   "cell_type": "code",
   "execution_count": 11,
   "metadata": {
    "collapsed": true
   },
   "outputs": [],
   "source": [
    "# Create the array to allocate the result\n",
    "res1 = np.zeros([ni, nd])\n",
    "#res2 = np.zeros([ni, nd])\n",
    "#res3 = np.zeros([ni, nd])\n",
    "for j in range(nd):\n",
    "    for i in range(ni):\n",
    "        rtp = df.reduction(x, y, tf,(-45.0, 30,0), (inc[i], dec[j]), (-90., 0.), (-90., 0.))\n",
    "        pseudinho = df.pseudograv(x, y, rtp, (-45.0, 30.0), (inc[i], dec[j]), 2673., 2.3)\n",
    "        #hga = df.totalgrad(x, y, rtp)\n",
    "        #tilt = df.tilt(x, y, rtp)\n",
    "        #dz = df.zderiv(x, y, rtp, 2)\n",
    "        res1[i,j] = cc(rtp, pseudinho)\n",
    "        #res2[i,j] = cc(rtp, tilt)\n",
    "        #res3[i,j] = cc(tilt, hga)"
   ]
  },
  {
   "cell_type": "code",
   "execution_count": 12,
   "metadata": {},
   "outputs": [
    {
     "data": {
      "image/png": "[encoded data removed]",
      "text/plain": [
       "<matplotlib.figure.Figure at 0x7f1b9c025990>"
      ]
     },
     "metadata": {},
     "output_type": "display_data"
    },
    {
     "data": {
      "text/plain": [
       "\"\\nplt.figure()\\nplt.contourf(Dec, Inc, res2, 40,cmap = plt.cm.jet)\\nplt.title('Rtp x Tilt(rtp) ', fontsize = 12)\\nplt.xlabel('Declination (degrees)',fontsize = 12)\\nplt.ylabel('Inclination (degrees)',fontsize = 12)\\nplt.colorbar()\\nplt.show()\\n\\n\\nplt.figure()\\nplt.contourf(Dec, Inc, res3, 40,cmap = plt.cm.jet)\\nplt.title('Tilt(rtp) x hgrad(rtp) ', fontsize = 12)\\nplt.xlabel('Declination (degrees)',fontsize = 12)\\nplt.ylabel('Inclination (degrees)',fontsize = 12)\\nplt.colorbar()\\nplt.show()\\n\""
      ]
     },
     "execution_count": 12,
     "metadata": {},
     "output_type": "execute_result"
    }
   ],
   "source": [
    "plt.figure()\n",
    "plt.contourf(Dec, Inc, res1, 40,cmap = plt.cm.jet)\n",
    "plt.title('Rtp x Pseudinho ', fontsize = 12)\n",
    "plt.xlabel('Declination (degrees)',fontsize = 12)\n",
    "plt.ylabel('Inclination (degrees)',fontsize = 12)\n",
    "plt.colorbar()\n",
    "plt.show()\n",
    "\n",
    "'''\n",
    "plt.figure()\n",
    "plt.contourf(Dec, Inc, res2, 40,cmap = plt.cm.jet)\n",
    "plt.title('Rtp x Tilt(rtp) ', fontsize = 12)\n",
    "plt.xlabel('Declination (degrees)',fontsize = 12)\n",
    "plt.ylabel('Inclination (degrees)',fontsize = 12)\n",
    "plt.colorbar()\n",
    "plt.show()\n",
    "\n",
    "\n",
    "plt.figure()\n",
    "plt.contourf(Dec, Inc, res3, 40,cmap = plt.cm.jet)\n",
    "plt.title('Tilt(rtp) x hgrad(rtp) ', fontsize = 12)\n",
    "plt.xlabel('Declination (degrees)',fontsize = 12)\n",
    "plt.ylabel('Inclination (degrees)',fontsize = 12)\n",
    "plt.colorbar()\n",
    "plt.show()\n",
    "'''"
   ]
  },
  {
   "cell_type": "code",
   "execution_count": null,
   "metadata": {
    "collapsed": true
   },
   "outputs": [],
   "source": [
    "plt.figure()\n",
    "plt.contourf(Dec, Inc, res1, 40,cmap = plt.cm.jet)\n",
    "plt.title('Rtp x hgrad(rtp) ', fontsize = 12)\n",
    "plt.xlabel('Declination (degrees)',fontsize = 12)\n",
    "plt.ylabel('Inclination (degrees)',fontsize = 12)\n",
    "plt.colorbar()\n",
    "plt.show()\n",
    "\n",
    "plt.figure()\n",
    "plt.contourf(Dec, Inc, res2, 40,cmap = plt.cm.jet)\n",
    "plt.title('Rtp x Tilt(rtp) ', fontsize = 12)\n",
    "plt.xlabel('Declination (degrees)',fontsize = 12)\n",
    "plt.ylabel('Inclination (degrees)',fontsize = 12)\n",
    "plt.colorbar()\n",
    "plt.show()\n",
    "\n",
    "\n",
    "plt.figure()\n",
    "plt.contourf(Dec, Inc, res3, 40,cmap = plt.cm.jet)\n",
    "plt.title('Tilt(rtp) x hgrad(rtp) ', fontsize = 12)\n",
    "plt.xlabel('Declination (degrees)',fontsize = 12)\n",
    "plt.ylabel('Inclination (degrees)',fontsize = 12)\n",
    "plt.colorbar()\n",
    "plt.show()\n"
   ]
  }
 ],
 "metadata": {
  "kernelspec": {
   "display_name": "Python 2",
   "language": "python",
   "name": "python2"
  },
  "language_info": {
   "codemirror_mode": {
    "name": "ipython",
    "version": 2
   },
   "file_extension": ".py",
   "mimetype": "text/x-python",
   "name": "python",
   "nbconvert_exporter": "python",
   "pygments_lexer": "ipython2",
   "version": "2.7.14"
  }
 },
 "nbformat": 4,
 "nbformat_minor": 2
}
