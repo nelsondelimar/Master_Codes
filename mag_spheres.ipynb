{
 "cells": [
  {
   "cell_type": "code",
   "execution_count": null,
   "metadata": {
    "collapsed": true
   },
   "outputs": [],
   "source": [
    "# Copying all usefull libraries\n",
    "import numpy as np\n",
    "#import pandas as pd\n",
    "#import random as rdm\n",
    "#import fatiando as ft\n",
    "import nielsen_codes as nc\n",
    "import matplotlib.pyplot as plt"
   ]
  },
  {
   "cell_type": "code",
   "execution_count": null,
   "metadata": {
    "collapsed": true
   },
   "outputs": [],
   "source": [
    "# Number of points\n",
    "# Set of points for x and y directions and one only value for z direction (is positive downward!)\n",
    "npts = 2000\n",
    "x = np.linspace(-5000,5000,npts)\n",
    "y = np.copy(x)\n",
    "# If Z is a numpy array for all values of height, than we use z = np.copy(x) or z = np.array([values_for_z])\n",
    "z = -100.\n",
    "# Computes the mesh of all points\n",
    "X, Y = np.meshgrid(x, y)\n",
    "# Write out a few informations\n",
    "#print \"Total of points on mesh in x direction:\", X.size\n",
    "#print \"Total of points on mesh in y direction:\", Y.size"
   ]
  },
  {
   "cell_type": "markdown",
   "metadata": {},
   "source": [
    "Informations about the number one sphere position, depth and size"
   ]
  },
  {
   "cell_type": "code",
   "execution_count": null,
   "metadata": {
    "collapsed": true
   },
   "outputs": [],
   "source": [
    "# Writing the sphere's values for positions of its center and the value for the radius of its size, area and volum\n",
    "# Sphere is an array that contains in that order: (x position, y position, z position, radius)\n",
    "sphere1 = np.array([-1890., 780., 11410., 2800.])  # all in meters\n",
    "# Writing inclination, declination, azimuth and also the value for the magnetization intensity\n",
    "inc1, dec1, azim1 = -25., 33., 0. # degrees\n",
    "mag1 = 5. # A/m²"
   ]
  },
  {
   "cell_type": "markdown",
   "metadata": {},
   "source": [
    "Informations about the number two sphere position, depth and size"
   ]
  },
  {
   "cell_type": "code",
   "execution_count": null,
   "metadata": {
    "collapsed": true
   },
   "outputs": [],
   "source": [
    "# Sphere is an array that contains in that order: (x position, y position, z position, radius)\n",
    "sphere2 = np.array([390., -1580., 780., 230.])  # all in meters\n",
    "# Writing inclination, declination, azimuth and also the value for the magnetization intensity\n",
    "inc2, dec2, azim2 = 29., -15., 0. # degrees\n",
    "mag2 = 5. # A/m²"
   ]
  },
  {
   "cell_type": "code",
   "execution_count": null,
   "metadata": {
    "collapsed": true
   },
   "outputs": [],
   "source": [
    "# Create a zero data matrix to compute the values\n",
    "Bx1, By1, Bz1 = np.zeros(npts*npts), np.zeros(npts*npts), np.zeros(npts*npts)\n",
    "Bx2, By2, Bz2 = np.zeros(npts*npts), np.zeros(npts*npts), np.zeros(npts*npts)"
   ]
  },
  {
   "cell_type": "code",
   "execution_count": null,
   "metadata": {
    "collapsed": true
   },
   "outputs": [],
   "source": [
    "# Calculation of all componentes for the magnetic induction\n",
    "Bx1, By1, Bz1 = nc.dipole(X, Y, z, sphere1[0], sphere1[1], sphere1[2], sphere1[3], mag1, inc1, dec1, azim1)\n",
    "Bx2, By2, Bz2 = nc.dipole(X, Y, z, sphere2[0], sphere2[1], sphere2[2], sphere2[3], mag2, inc2, dec2, azim2)"
   ]
  },
  {
   "cell_type": "code",
   "execution_count": null,
   "metadata": {
    "collapsed": true
   },
   "outputs": [],
   "source": [
    "# Computes the sum of all components due to both spheres\n",
    "Bx = Bx1 + Bx2\n",
    "By = By1 + By2\n",
    "Bz = Bz1 + Bz2"
   ]
  },
  {
   "cell_type": "code",
   "execution_count": null,
   "metadata": {
    "collapsed": true
   },
   "outputs": [],
   "source": [
    "# Plot all components\n",
    "# Bx\n",
    "plt.figure(figsize=(10,8))\n",
    "plt.title('$B_x$ component (nT)', fontsize = 18)\n",
    "plt.contour(Y, X, Bx)\n",
    "plt.contourf(Y, X, Bx, 20)\n",
    "plt.xlabel('East (km)', fontsize = 14)\n",
    "plt.ylabel('North (km)', fontsize = 14)\n",
    "plt.xticks(fontsize=14)\n",
    "plt.yticks(fontsize=14)\n",
    "plt.xlim(np.min(X), np.max(X))\n",
    "plt.ylim(np.min(Y), np.max(Y))\n",
    "plt.colorbar()\n",
    "#plt.grid()\n",
    "plt.savefig('spheres_bx.png')\n",
    "# By\n",
    "plt.figure(figsize=(10,8))\n",
    "plt.title('$B_y$ component (nT)', fontsize = 18)\n",
    "plt.contour(Y, X, By)\n",
    "plt.contourf(Y, X, By, 20)\n",
    "plt.xlabel('East (km)', fontsize = 14)\n",
    "plt.ylabel('North (km)', fontsize = 14)\n",
    "plt.xticks(fontsize=14)\n",
    "plt.yticks(fontsize=14)\n",
    "plt.xlim(np.min(X), np.max(X))\n",
    "plt.ylim(np.min(Y), np.max(Y))\n",
    "plt.colorbar()\n",
    "#plt.grid()\n",
    "plt.savefig('spheres_by.png')\n",
    "# Bz\n",
    "plt.figure(figsize=(10,8))\n",
    "plt.title('$B_z$ component (nT)', fontsize = 18)\n",
    "plt.contour(Y, X, Bz)\n",
    "plt.contourf(Y, X, Bz, 20)\n",
    "plt.xlabel('East (km)', fontsize = 14)\n",
    "plt.ylabel('North (km)', fontsize = 14)\n",
    "plt.xticks(fontsize=14)\n",
    "plt.yticks(fontsize=14)\n",
    "plt.xlim(np.min(X), np.max(X))\n",
    "plt.ylim(np.min(Y), np.max(Y))\n",
    "plt.colorbar()\n",
    "#plt.grid()\n",
    "plt.savefig('spheres_bz.png')"
   ]
  },
  {
   "cell_type": "code",
   "execution_count": null,
   "metadata": {
    "collapsed": true
   },
   "outputs": [],
   "source": [
    "# Compute de regional field\n",
    "# Value for the magnetic field intensity (nT)\n",
    "F = 24300.\n",
    "incF = 45.\n",
    "decF = 45.\n",
    "azF = 0.\n",
    "# Regional magnetic field components\n",
    "regionalF = nc.regional_components(F, incF, decF, azF)\n",
    "# Computing the components and the regional field\n",
    "Bx = Bx + regionalF[0]\n",
    "By = By + regionalF[1]\n",
    "Bz = Bz + regionalF[2]\n",
    "# Final value for the total field anomaly\n",
    "TF = np.sqrt(((Bx**2)+(By**2)+(Bz**2))) - F"
   ]
  },
  {
   "cell_type": "code",
   "execution_count": null,
   "metadata": {
    "collapsed": true
   },
   "outputs": [],
   "source": [
    "# Adding some noise on the data\n",
    "var = 0.075\n",
    "# Final value for the total field anomaly with noise\n",
    "TF_noise = TF + np.random.normal(loc = 2., scale = np.sqrt(var), size = TF.shape)"
   ]
  },
  {
   "cell_type": "code",
   "execution_count": null,
   "metadata": {
    "collapsed": true
   },
   "outputs": [],
   "source": [
    "# Plot the total field anomaly due to a solid sphere\n",
    "plt.figure(figsize=(10,8))\n",
    "plt.title('Total field anomaly', fontsize = 18)\n",
    "plt.contour(Y, X, TF)\n",
    "plt.contourf(Y, X, TF, 10)\n",
    "plt.xlabel('East (km)', fontsize = 14)\n",
    "plt.ylabel('North (km)', fontsize = 14)\n",
    "plt.xticks(fontsize=14)\n",
    "plt.yticks(fontsize=14)\n",
    "plt.xlim(np.min(X), np.max(X))\n",
    "plt.ylim(np.min(Y), np.max(Y))\n",
    "plt.colorbar()\n",
    "#plt.grid()\n",
    "#clb = plt.colorbar()\n",
    "#clb.ax.set_title('nT')\n",
    "plt.savefig('spheres_tfa.png')\n",
    "\n",
    "# Plot the total field anomaly with standard noisy\n",
    "plt.figure(figsize=(10,8))\n",
    "plt.title('Total field anomaly with noise', fontsize = 18)\n",
    "#plt.contour(Y, X, TF_noise)\n",
    "plt.contourf(Y, X, TF_noise, 10)\n",
    "plt.xlabel('East (km)', fontsize = 14)\n",
    "plt.ylabel('North (km)', fontsize = 14)\n",
    "plt.xticks(fontsize=14)\n",
    "plt.yticks(fontsize=14)\n",
    "plt.xlim(np.min(X), np.max(X))\n",
    "plt.ylim(np.min(Y), np.max(Y))\n",
    "plt.colorbar()\n",
    "#plt.grid()\n",
    "#clb = plt.colorbar()\n",
    "#clb.ax.set_title('nT')\n",
    "plt.savefig('spheres_tfa_noise.png')"
   ]
  },
  {
   "cell_type": "code",
   "execution_count": null,
   "metadata": {
    "collapsed": true
   },
   "outputs": [],
   "source": [
    "# Save the simple total field anomaly as a data file\n",
    "data = np.zeros([npts**2,3])\n",
    "for i in range(npts):\n",
    "    for j in range(npts):\n",
    "        data[j+(i*npts),0] = X[i,j]\n",
    "        data[j+(i*npts),1] = Y[i,j]\n",
    "        data[j+(i*npts),2] = TF[i,j]\n",
    "np.savetxt('totalfield.txt', data)"
   ]
  },
  {
   "cell_type": "code",
   "execution_count": null,
   "metadata": {
    "collapsed": true
   },
   "outputs": [],
   "source": [
    "# Save the total field anomaly with noise as a data file\n",
    "data = np.zeros([npts**2,3])\n",
    "for i in range(npts):\n",
    "    for j in range(npts):\n",
    "        data[j+(i*npts),0] = X[i,j]\n",
    "        data[j+(i*npts),1] = Y[i,j]\n",
    "        data[j+(i*npts),2] = TF_noise[i,j]\n",
    "np.savetxt('totalfield_noise.txt', data)"
   ]
  },
  {
   "cell_type": "code",
   "execution_count": null,
   "metadata": {
    "collapsed": true
   },
   "outputs": [],
   "source": [
    "import time\n",
    "print 'Nelson Ribeiro Filho', '/', 'Rio de Janeiro -', time.ctime()"
   ]
  }
 ],
 "metadata": {
  "kernelspec": {
   "display_name": "Python 2",
   "language": "python",
   "name": "python2"
  },
  "language_info": {
   "codemirror_mode": {
    "name": "ipython",
    "version": 2
   },
   "file_extension": ".py",
   "mimetype": "text/x-python",
   "name": "python",
   "nbconvert_exporter": "python",
   "pygments_lexer": "ipython2",
   "version": "2.7.13"
  }
 },
 "nbformat": 4,
 "nbformat_minor": 2
}
