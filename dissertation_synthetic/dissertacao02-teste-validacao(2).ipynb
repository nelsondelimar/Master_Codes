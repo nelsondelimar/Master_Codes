{
 "cells": [
  {
   "cell_type": "code",
   "execution_count": 1,
   "metadata": {},
   "outputs": [],
   "source": [
    "import numpy\n",
    "from time import time\n",
    "from matplotlib import pyplot\n",
    "from codes.prism import prism_tf\n",
    "from codes.grids import regular_grid\n",
    "from codes.plot import draw_prism\n",
    "from scipy.interpolate import griddata\n",
    "from codes.auxiliars import noise_normal_dist\n",
    "from codes.auxiliars import rotate3D_xyz\n",
    "from codes.statistical import analysis\n",
    "from mpl_toolkits.mplot3d import Axes3D\n",
    "from mpl_toolkits.mplot3d.art3d import Poly3DCollection, Line3DCollection\n",
    "from codes.statistical import cccoef\n",
    "from codes.filtering import reduction\n",
    "from codes.derivative import totalgrad, zderiv\n",
    "from codes.equivalentlayer import layer, fit_layer, rtp_layer"
   ]
  },
  {
   "cell_type": "code",
   "execution_count": 2,
   "metadata": {},
   "outputs": [],
   "source": [
    "nx, ny = 40, 40\n",
    "area = (-5000., 5000., -5000., 5000.)\n",
    "shape = (nx, ny)\n",
    "xo, yo, zo = regular_grid(area, shape, -100.)"
   ]
  },
  {
   "cell_type": "markdown",
   "metadata": {},
   "source": [
    "# Teste de validação"
   ]
  },
  {
   "cell_type": "code",
   "execution_count": 3,
   "metadata": {},
   "outputs": [],
   "source": [
    "intensity = 2.\n",
    "inc, dec, incs, decs = 0., 0., 0., 0. "
   ]
  },
  {
   "cell_type": "code",
   "execution_count": null,
   "metadata": {},
   "outputs": [],
   "source": [
    "# Define modelo e direcoes\n",
    "source1 = [0., 500., -2000., 2000., 10., 250.]\n",
    "source2 = [-500., 0., -2000., 2000., 200., 500.]\n",
    "source3 = [-1000., -500., -2000., 2000., 450., 750.]\n",
    "source4 = [-1500., -1000., -2000., 2000., 700., 1000.]\n",
    "source5 = [-2000., -1500., -2000., 2000., 900., 1250.]\n",
    "source6 = [-2500., -2000., -2000., 2000., 1200., 1500.]"
   ]
  },
  {
   "cell_type": "code",
   "execution_count": null,
   "metadata": {},
   "outputs": [],
   "source": [
    "figure = pyplot.figure(figsize=(8,8))\n",
    "ax = figure.gca(projection = '3d')\n",
    "\n",
    "x1a, x2a, y1a, y2a, z1a, z2a = source1\n",
    "x1b, x2b, y1b, y2b, z1b, z2b = source2\n",
    "x1c, x2c, y1c, y2c, z1c, z2c = source3\n",
    "x1d, x2d, y1d, y2d, z1d, z2d = source4\n",
    "x1e, x2e, y1e, y2e, z1e, z2e = source5\n",
    "x1f, x2f, y1f, y2f, z1f, z2f = source6\n",
    "v1a = numpy.array([[x1a, y1a, z2a], [x1a, y2a, z2a], [x2a, y2a, z2a], [x2a, y1a, z2a], \n",
    "                 [x1a, y1a, z1a], [x1a, y2a, z1a], [x2a, y2a, z1a], [x2a, y1a, z1a]])\n",
    "v2b = numpy.array([[x1b, y1b, z2b], [x1b, y2b, z2b], [x2b, y2b, z2b], [x2b, y1b, z2b], \n",
    "                 [x1b, y1b, z1b], [x1b, y2b, z1b], [x2b, y2b, z1b], [x2b, y1b, z1b]])\n",
    "v3a = numpy.array([[x1c, y1c, z2c], [x1c, y2c, z2c], [x2c, y2c, z2c], [x2c, y1c, z2c], \n",
    "                 [x1c, y1c, z1c], [x1c, y2c, z1c], [x2c, y2c, z1c], [x2c, y1c, z1c]])\n",
    "v4d = numpy.array([[x1d, y1d, z2d], [x1d, y2d, z2d], [x2d, y2d, z2d], [x2d, y1d, z2d], \n",
    "                 [x1d, y1d, z1d], [x1d, y2d, z1d], [x2d, y2d, z1d], [x2d, y1d, z1d]])\n",
    "v5e = numpy.array([[x1e, y1e, z2e], [x1e, y2e, z2e], [x2e, y2e, z2e], [x2e, y1e, z2e], \n",
    "                 [x1e, y1e, z1e], [x1e, y2e, z1e], [x2e, y2e, z1e], [x2e, y1e, z1e]])\n",
    "v6f = numpy.array([[x1f, y1f, z2f], [x1f, y2f, z2f], [x2f, y2f, z2f], [x2f, y1f, z2f], \n",
    "                 [x1f, y1f, z1f], [x1f, y2f, z1f], [x2f, y2f, z1f], [x2f, y1f, z1f]])\n",
    "vertices1 = [[v1a[0],v1a[1],v1a[2],v1a[3]], [v1a[0],v1a[1],v1a[5],v1a[4]], [v1a[1],v1a[2],v1a[6],v1a[5]],\n",
    "            [v1a[2],v1a[3],v1a[7],v1a[6]], [v1a[3],v1a[0],v1a[4],v1a[7]], [v1a[4],v1a[5],v1a[6],v1a[7]]]\n",
    "vertices2 = [[v2b[0],v2b[1],v2b[2],v2b[3]], [v2b[0],v2b[1],v2b[5],v2b[4]], [v2b[1],v2b[2],v2b[6],v2b[5]],\n",
    "            [v2b[2],v2b[3],v2b[7],v2b[6]], [v2b[3],v2b[0],v2b[4],v2b[7]], [v2b[4],v2b[5],v2b[6],v2b[7]]]\n",
    "vertices3 = [[v3a[0],v3a[1],v3a[2],v3a[3]], [v3a[0],v3a[1],v3a[5],v3a[4]], [v3a[1],v3a[2],v3a[6],v3a[5]],\n",
    "            [v3a[2],v3a[3],v3a[7],v3a[6]], [v3a[3],v3a[0],v3a[4],v3a[7]], [v3a[4],v3a[5],v3a[6],v3a[7]]]\n",
    "vertices4 = [[v4d[0],v4d[1],v4d[2],v4d[3]], [v4d[0],v4d[1],v4d[5],v4d[4]], [v4d[1],v4d[2],v4d[6],v4d[5]],\n",
    "            [v4d[2],v4d[3],v4d[7],v4d[6]], [v4d[3],v4d[0],v4d[4],v4d[7]], [v4d[4],v4d[5],v4d[6],v4d[7]]]\n",
    "vertices5 = [[v5e[0],v5e[1],v5e[2],v5e[3]], [v5e[0],v5e[1],v5e[5],v5e[4]], [v5e[1],v5e[2],v5e[6],v5e[5]],\n",
    "            [v5e[2],v5e[3],v5e[7],v5e[6]], [v5e[3],v5e[0],v5e[4],v5e[7]], [v5e[4],v5e[5],v5e[6],v5e[7]]]\n",
    "vertices6 = [[v6f[0],v6f[1],v6f[2],v6f[3]], [v6f[0],v6f[1],v6f[5],v6f[4]], [v6f[1],v6f[2],v6f[6],v6f[5]],\n",
    "            [v6f[2],v6f[3],v6f[7],v6f[6]], [v6f[3],v6f[0],v6f[4],v6f[7]], [v6f[4],v6f[5],v6f[6],v6f[7]]]\n",
    "pc5a = Poly3DCollection(vertices1, alpha = 1., linewidths = 0., edgecolors = 'k')\n",
    "pc5a.set_facecolor('sienna')\n",
    "ax.add_collection3d(pc5a)\n",
    "pc5b = Poly3DCollection(vertices2, alpha = 1., linewidths = 0., edgecolors = 'k')\n",
    "pc5b.set_facecolor('sienna')\n",
    "ax.add_collection3d(pc5b)\n",
    "pc5c = Poly3DCollection(vertices3, alpha = 1., linewidths = 0., edgecolors = 'k')\n",
    "pc5c.set_facecolor('sienna')\n",
    "ax.add_collection3d(pc5c)\n",
    "pc5d = Poly3DCollection(vertices4, alpha = 1., linewidths = 0., edgecolors = 'k')\n",
    "pc5d.set_facecolor('sienna')\n",
    "ax.add_collection3d(pc5d)\n",
    "pc5e = Poly3DCollection(vertices5, alpha = 1., linewidths = 0., edgecolors = 'k')\n",
    "pc5e.set_facecolor('sienna')\n",
    "ax.add_collection3d(pc5e)\n",
    "pc5f = Poly3DCollection(vertices6, alpha = 1., linewidths = 0., edgecolors = 'k')\n",
    "pc5f.set_facecolor('sienna')\n",
    "ax.add_collection3d(pc5f)\n",
    "\n",
    "x_scale = 1.\n",
    "y_scale = 1.\n",
    "z_scale = 1.\n",
    "scale=numpy.diag([x_scale, y_scale, z_scale, 1.0])\n",
    "scale=scale*(1.0/scale.max())\n",
    "scale[3,3] = 1.\n",
    "def short_proj():\n",
    "    return numpy.dot(Axes3D.get_proj(ax), scale)\n",
    "ax.get_proj=short_proj\n",
    "ax.set_xlabel('North coordinate (m)', size = 12, labelpad = 20)\n",
    "ax.set_ylabel('East coordinate (m)', size = 12, labelpad = 20)\n",
    "ax.set_zlabel('Depth(m)', size = 12, labelpad = 15)\n",
    "ax.set_xlim(xo.min(), xo.max())\n",
    "ax.set_ylim(yo.min(), yo.max())\n",
    "ax.set_zlim(0., 1500.)\n",
    "ax.set_xticks(numpy.arange(xo.min(), xo.max(), 2500))\n",
    "ax.set_yticks(numpy.linspace(yo.min(), yo.max(), 5))\n",
    "ax.set_zticks(numpy.linspace(0., 1500., 6))\n",
    "ax.view_init(210, 235)\n",
    "pyplot.tight_layout(True)\n",
    "pyplot.savefig('cap04b-figura01.png', dpi = 300, bbox_inches = 'tight', transparent = True)\n",
    "pyplot.savefig('cap04b-figura01.pdf', dpi = 300, bbox_inches = 'tight', transparent = True)\n",
    "pyplot.show()"
   ]
  },
  {
   "cell_type": "code",
   "execution_count": null,
   "metadata": {},
   "outputs": [],
   "source": [
    "xr, yr, zr = rotate3D_xyz(xo, yo, zo, 0.)"
   ]
  },
  {
   "cell_type": "code",
   "execution_count": null,
   "metadata": {},
   "outputs": [],
   "source": [
    "tf = prism_tf(xr, yr, zo, source1, intensity, inc, dec, incs, decs) + \\\n",
    "        prism_tf(xr, yr, zo, source2, intensity, inc, dec, incs, decs) + \\\n",
    "        prism_tf(xr, yr, zo, source3, intensity, inc, dec, incs, decs) + \\\n",
    "        prism_tf(xr, yr, zo, source4, intensity, inc, dec, incs, decs) + \\\n",
    "        prism_tf(xr, yr, zo, source5, intensity, inc, dec, incs, decs) + \\\n",
    "        prism_tf(xr, yr, zo, source6, intensity, inc, dec, incs, decs)"
   ]
  },
  {
   "cell_type": "code",
   "execution_count": null,
   "metadata": {},
   "outputs": [],
   "source": [
    "print 'Anomalia magnetica:'\n",
    "_ = analysis(tf, 'nT')"
   ]
  },
  {
   "cell_type": "code",
   "execution_count": null,
   "metadata": {},
   "outputs": [],
   "source": [
    "tf = noise_normal_dist(tf, 5., 0.1)"
   ]
  },
  {
   "cell_type": "code",
   "execution_count": null,
   "metadata": {},
   "outputs": [],
   "source": [
    "pyplot.figure(figsize=(8,6))\n",
    "cs = pyplot.contourf(yo.reshape(shape), xo.reshape(shape), tf.reshape(shape), \n",
    "                50, cmap = pyplot.cm.RdBu)\n",
    "#draw_prism(dike[:4], linewidth = 0.25, style = 'k--', xy2ne = True)\n",
    "pyplot.text(-4800., -4700., '$I_o, D_o = [0^o, 0^o]$', \n",
    "            fontsize = 14.,bbox=dict(facecolor='white', edgecolor='k', alpha = 0.5))\n",
    "pyplot.xlabel('East coordinate (m)', fontsize = 14, labelpad = 10)\n",
    "pyplot.ylabel('North coordinate (m)', fontsize = 14, labelpad = 10)\n",
    "pyplot.xticks(numpy.linspace(yo.min(), yo.max(), 5), fontsize = 12)\n",
    "pyplot.yticks(numpy.linspace(xo.min(), xo.max(), 5), fontsize = 12)\n",
    "cb = pyplot.colorbar(cs, aspect = 30, fraction = 0.04, orientation = 'vertical', pad = 0.05)\n",
    "cb.set_ticks(numpy.linspace(tf.min(), tf.max(), 10))\n",
    "cb.set_clim(tf.min(), tf.max())\n",
    "cb.set_label('nT', fontsize = 14, labelpad = 5)\n",
    "pyplot.tight_layout(True)\n",
    "\n",
    "pyplot.savefig('cap04b-figura02.png', dpi = 300, bbox_inches = 'tight', transparent = True)\n",
    "pyplot.savefig('cap04b-figura02.pdf', dpi = 300, bbox_inches = 'tight', transparent = True)\n",
    "pyplot.show()"
   ]
  },
  {
   "cell_type": "code",
   "execution_count": null,
   "metadata": {},
   "outputs": [],
   "source": [
    "area_layer = area\n",
    "shape_layer = (15, 15)\n",
    "level = 1200."
   ]
  },
  {
   "cell_type": "code",
   "execution_count": null,
   "metadata": {},
   "outputs": [],
   "source": [
    "xlayer, ylayer, zlayer = regular_grid(area, shape_layer, level)\n",
    "eqlayer = layer(area_layer, shape_layer, level)\n",
    "data = [xo, yo, zo, tf]\n",
    "_, tf_pred = fit_layer(data, shape, eqlayer, shape_layer, 0.1, inc, dec, incs, decs)"
   ]
  },
  {
   "cell_type": "code",
   "execution_count": null,
   "metadata": {},
   "outputs": [],
   "source": [
    "figure = pyplot.figure(figsize=(8,7))\n",
    "ax = figure.gca(projection = '3d')\n",
    "p1 = ax.contourf(xo.reshape(shape), yo.reshape(shape), tf.reshape(shape),\n",
    "                 50, zdir='z', offset = 0., cmap = 'RdBu',\n",
    "                  vmin = numpy.min(tf), vmax = numpy.max(tf))\n",
    "cbar1 = pyplot.colorbar(p1, aspect = 25, fraction = 0.02, orientation = 'vertical', pad = -0.05)\n",
    "cbar1.set_label('Observed data (nT)', fontsize = 14, rotation = 90.)\n",
    "cbar1.set_ticks(numpy.linspace(tf.min(), tf.max(), 6))\n",
    "\n",
    "p2 = ax.contourf(xo.reshape(shape), yo.reshape(shape), tf_pred.reshape(shape),\n",
    "                 50, zdir='z', offset = level, cmap = 'RdBu',\n",
    "                  vmin = numpy.min(tf_pred), vmax = numpy.max(tf_pred))\n",
    "ax.scatter3D(xlayer.reshape(shape_layer), ylayer.reshape(shape_layer), zlayer.reshape(shape_layer), \n",
    "             s = 0.5, c = 'k')\n",
    "cbar2 = pyplot.colorbar(p2, aspect = 30, fraction = 0.025, orientation = 'horizontal', pad = 0.05)\n",
    "cbar2.set_label('Predicted data (nT)', fontsize = 14, rotation = 0.)\n",
    "cbar2.set_ticks(numpy.linspace(tf_pred.min(), tf_pred.max(), 6))\n",
    "\n",
    "x_scale = 1.\n",
    "y_scale = 1.\n",
    "z_scale = 1.25\n",
    "scale=numpy.diag([x_scale, y_scale, z_scale, 1.0])\n",
    "scale=scale*(1.0/scale.max())\n",
    "scale[3,3] = 1.\n",
    "def short_proj():\n",
    "    return numpy.dot(Axes3D.get_proj(ax), scale)\n",
    "ax.get_proj=short_proj\n",
    "ax.set_xlabel('North coordinate (m)', size = 12, labelpad = 20)\n",
    "ax.set_ylabel('East coordinate (m)', size = 12, labelpad = 20)\n",
    "ax.set_zlabel('Depth (m)', size = 12, labelpad = 20)\n",
    "ax.set_xlim(xo.min(), xo.max())\n",
    "ax.set_xticks(numpy.arange(xo.min(), xo.max(), 2000.))\n",
    "ax.set_yticks(numpy.linspace(yo.min(), yo.max(), 5))\n",
    "ax.set_zticks(numpy.linspace(0., level, 5))\n",
    "ax.set_ylim(yo.min(), yo.max())\n",
    "ax.set_zlim(0., level)\n",
    "ax.view_init(210, 135)\n",
    "pyplot.tight_layout(True)\n",
    "\n",
    "pyplot.savefig('cap04b-figura03.png', dpi = 300, bbox_inches = 'tight', transparent = True)\n",
    "pyplot.savefig('cap04b-figura03.pdf', dpi = 300, bbox_inches = 'tight', transparent = True)\n",
    "pyplot.show()"
   ]
  },
  {
   "cell_type": "code",
   "execution_count": null,
   "metadata": {},
   "outputs": [],
   "source": [
    "residuo = tf - tf_pred"
   ]
  },
  {
   "cell_type": "code",
   "execution_count": null,
   "metadata": {},
   "outputs": [],
   "source": [
    "figure = pyplot.figure(figsize=(8,6))\n",
    "ax = figure.gca(projection = '3d')\n",
    "#ax.set_title('Ajuste de dados via camada equivalente', size = 16, pad = 10)\n",
    "p1 = ax.contourf(xo.reshape(shape), yo.reshape(shape), residuo.reshape(shape),\n",
    "                 50, zdir='z', offset = 0., cmap = 'RdBu',\n",
    "                  vmin = numpy.min(residuo), vmax = numpy.max(residuo))\n",
    "cbar1 = pyplot.colorbar(p1, aspect = 25, fraction = 0.02, orientation = 'vertical', pad = -0.05)\n",
    "cbar1.set_label('$D_{obs} - D_{pred}$ (nT)', fontsize = 14, rotation = 90.)\n",
    "cbar1.set_ticks(numpy.linspace(residuo.min(), residuo.max(), 6))\n",
    "\n",
    "p2 = ax.contourf(xo.reshape(shape), yo.reshape(shape), tf_pred.reshape(shape),\n",
    "                 50, zdir='z', offset = level, cmap = 'RdBu',\n",
    "                  vmin = numpy.min(tf_pred), vmax = numpy.max(tf_pred))\n",
    "ax.scatter3D(xlayer.reshape(shape_layer), ylayer.reshape(shape_layer), zlayer.reshape(shape_layer), \n",
    "             s = 1.5, c = 'k')\n",
    "cbar2 = pyplot.colorbar(p2, aspect = 30, fraction = 0.025, orientation = 'horizontal', pad = 0.05)\n",
    "cbar2.set_label('Predicted data (nT)', fontsize = 14, rotation = 0.)\n",
    "cbar2.set_ticks(numpy.linspace(tf_pred.min(), tf_pred.max(), 6))\n",
    "\n",
    "x_scale = 1.\n",
    "y_scale = 1.\n",
    "z_scale = 1.25\n",
    "scale=numpy.diag([x_scale, y_scale, z_scale, 1.0])\n",
    "scale=scale*(1.0/scale.max())\n",
    "scale[3,3] = 1.\n",
    "def short_proj():\n",
    "    return numpy.dot(Axes3D.get_proj(ax), scale)\n",
    "ax.get_proj=short_proj\n",
    "ax.set_xlabel('North coordinate (m)', size = 12, labelpad = 20)\n",
    "ax.set_ylabel('East coordinate (m)', size = 12, labelpad = 20)\n",
    "ax.set_zlabel('Depth (m)', size = 12, labelpad = 20)\n",
    "ax.set_xlim(xo.min(), xo.max())\n",
    "ax.set_xticks(numpy.arange(xo.min(), xo.max(), 2000.))\n",
    "ax.set_yticks(numpy.linspace(yo.min(), yo.max(), 5))\n",
    "ax.set_zticks(numpy.linspace(0., level, 5))\n",
    "ax.set_ylim(yo.min(), yo.max())\n",
    "ax.set_zlim(0., level)\n",
    "ax.view_init(210, 135)\n",
    "pyplot.tight_layout(True)\n",
    "\n",
    "pyplot.savefig('cap04b-figura04.png', dpi = 300, bbox_inches = 'tight', transparent = True)\n",
    "pyplot.savefig('cap04b-figura04.pdf', dpi = 300, bbox_inches = 'tight', transparent = True)\n",
    "pyplot.show()"
   ]
  },
  {
   "cell_type": "code",
   "execution_count": null,
   "metadata": {},
   "outputs": [],
   "source": [
    "xobs = xo.reshape(shape)\n",
    "yobs = yo.reshape(shape)\n",
    "zobs = zo.reshape(shape)\n",
    "dobs = tf.reshape(shape)"
   ]
  },
  {
   "cell_type": "code",
   "execution_count": null,
   "metadata": {},
   "outputs": [],
   "source": [
    "incfull = numpy.linspace(-90., 90., 37)\n",
    "decfull = numpy.linspace(-90., 90., 13)\n",
    "Dfull, Ifull = numpy.meshgrid(decfull, incfull)\n",
    "resfull = numpy.zeros_like(Dfull)"
   ]
  },
  {
   "cell_type": "code",
   "execution_count": null,
   "metadata": {},
   "outputs": [],
   "source": [
    "initial = time()\n",
    "for k2, d in enumerate(decfull):\n",
    "    for k1, i in enumerate(incfull):\n",
    "        if i >= -15. or i <= 15.:\n",
    "            rtp = rtp_layer(data, shape, eqlayer, shape_layer, 0.01, inc, dec, i, d)\n",
    "            resfull[k1,k2] = cccoef(totalgrad(xobs, yobs, rtp.reshape(shape)),\n",
    "                                     zderiv(xobs, yobs, rtp.reshape(shape)))    \n",
    "        else:\n",
    "            rtp = reduction(xobs, yobs, dobs, inc, dec, i, d)\n",
    "            resfull[k1,k2] = cccoef(totalgrad(xobs, yobs, rtp),\n",
    "                                     zderiv(xobs, yobs, rtp))            \n",
    "final = time()\n",
    "print 'Tempo de calculo (sec): %.3f' % (final-initial)"
   ]
  },
  {
   "cell_type": "code",
   "execution_count": null,
   "metadata": {},
   "outputs": [],
   "source": [
    "print 'Maxima correlacao:', resfull.max()\n",
    "print 'Minima correlacao:', resfull.min()"
   ]
  },
  {
   "cell_type": "code",
   "execution_count": null,
   "metadata": {},
   "outputs": [],
   "source": [
    "imaxfull, jmaxfull = numpy.where(resfull == resfull.max())\n",
    "incmaxfull = float(Ifull[imaxfull, jmaxfull])\n",
    "decmaxfull = float(Dfull[imaxfull, jmaxfull])\n",
    "print '(I,D) maximo:', incmaxfull, decmaxfull"
   ]
  },
  {
   "cell_type": "code",
   "execution_count": null,
   "metadata": {},
   "outputs": [],
   "source": [
    "pyplot.figure(figsize=(8, 7))\n",
    "fig5c = pyplot.contour(Dfull, Ifull, resfull, 15, colors = 'k', linestyle = 'solid', linewidths = 1)\n",
    "pyplot.contourf(Dfull, Ifull, resfull, 15, cmap = pyplot.cm.gray)\n",
    "pyplot.clabel(fig5c, fontsize = 8)\n",
    "pyplot.plot(decs, incs, 'r*', label = 'Source direction', markersize = 15)\n",
    "pyplot.plot(decmaxfull, incmaxfull, 'bs', label = 'Calculated direction', markersize = 8)\n",
    "pyplot.xlabel('Declination $(^o)$', fontsize = 14)\n",
    "pyplot.ylabel('Inclination $(^o)$', fontsize = 14)\n",
    "pyplot.xticks(numpy.linspace(Dfull.min(), Dfull.max(), 7), fontsize = 14)\n",
    "pyplot.yticks(numpy.linspace(Ifull.min(), Ifull.max(), 7), fontsize = 14)\n",
    "pyplot.legend(loc = 'upper left', fontsize = 'x-large')\n",
    "pyplot.colorbar()\n",
    "pyplot.grid(color = 'k', linestyle='--', linewidth = .5)\n",
    "pyplot.savefig('cap04b-figura05.png', dpi = 300, bbox_inches = 'tight', transparent = True)\n",
    "pyplot.savefig('cap04b-figura05.pdf', dpi = 300, bbox_inches = 'tight', transparent = True)\n",
    "pyplot.show()"
   ]
  },
  {
   "cell_type": "code",
   "execution_count": null,
   "metadata": {},
   "outputs": [],
   "source": [
    "areai = (-90., 90., -90., 90)\n",
    "shapei = (181, 181)\n",
    "Inci, Deci = regular_grid(areai, shapei)\n",
    "datares = resfull.reshape(resfull.size)"
   ]
  },
  {
   "cell_type": "code",
   "execution_count": null,
   "metadata": {},
   "outputs": [],
   "source": [
    "datai = griddata((Ifull.reshape(Ifull.size), Dfull.reshape(Dfull.size)), \n",
    "                 datares, (Inci, Deci), method = 'cubic')\n",
    "datai = datai.reshape(shapei)"
   ]
  },
  {
   "cell_type": "code",
   "execution_count": null,
   "metadata": {},
   "outputs": [],
   "source": [
    "imaxi, jmaxi = numpy.where(datai == datai.max())\n",
    "inci = float(Inci.reshape(shapei)[imaxi, jmaxi])\n",
    "deci = float(Deci.reshape(shapei)[imaxi, jmaxi])\n",
    "print '(I,D) maximo:', inci, deci"
   ]
  },
  {
   "cell_type": "code",
   "execution_count": null,
   "metadata": {},
   "outputs": [],
   "source": [
    "pyplot.figure(figsize=(8, 7))\n",
    "fig5c = pyplot.contour(Deci.reshape(shapei), Inci.reshape(shapei), datai, 15, \n",
    "                       colors = 'k', linestyle = 'solid', linewidths = 1)\n",
    "pyplot.contourf(Deci.reshape(shapei), Inci.reshape(shapei), datai, 15, cmap = pyplot.cm.gray)\n",
    "pyplot.clabel(fig5c, fontsize = 8)\n",
    "pyplot.plot(decs, incs, 'r*', label = 'Source direction', markersize = 15)\n",
    "pyplot.plot(deci, inci, 'bs', label = 'Calculated direction', markersize = 8)\n",
    "pyplot.xlabel('Declination $(^o)$', fontsize = 14)\n",
    "pyplot.ylabel('Inclination $(^o)$', fontsize = 14)\n",
    "pyplot.xticks(numpy.linspace(Deci.min(), Deci.max(), 7), fontsize = 14)\n",
    "pyplot.yticks(numpy.linspace(Inci.min(), Inci.max(), 7), fontsize = 14)\n",
    "pyplot.legend(loc = 'upper center', fontsize = 'large')\n",
    "pyplot.colorbar()\n",
    "pyplot.grid(color = 'k', linestyle='--', linewidth = .25)\n",
    "pyplot.savefig('cap04b-figura06.png', dpi = 300, bbox_inches = 'tight', transparent = True)\n",
    "pyplot.savefig('cap04b-figura06.pdf', dpi = 300, bbox_inches = 'tight', transparent = True)\n",
    "pyplot.show()"
   ]
  },
  {
   "cell_type": "code",
   "execution_count": null,
   "metadata": {},
   "outputs": [],
   "source": [
    "rtp_final = rtp_layer(data, shape, layer(area_layer, (40,40), 800.), (40,40), \n",
    "                      0.005, inc, dec, incmaxfull, decmaxfull)"
   ]
  },
  {
   "cell_type": "code",
   "execution_count": null,
   "metadata": {},
   "outputs": [],
   "source": [
    "pyplot.figure(figsize=(8,6))\n",
    "cs = pyplot.contourf(yo.reshape(shape), xo.reshape(shape), rtp_final.reshape(shape), \n",
    "                     20, cmap = pyplot.cm.RdBu)\n",
    "pyplot.xlabel('East coordinate (m)', fontsize = 14, labelpad = 10)\n",
    "pyplot.ylabel('North coordinate (m)', fontsize = 14, labelpad = 10)\n",
    "pyplot.xticks(numpy.linspace(yo.min(), yo.max(), 5), fontsize = 12)\n",
    "pyplot.yticks(numpy.linspace(xo.min(), xo.max(), 5), fontsize = 12)\n",
    "\n",
    "cb = pyplot.colorbar(cs, aspect = 30, fraction = 0.04, orientation = 'vertical', pad = 0.05)\n",
    "cb.set_ticks(numpy.linspace(rtp_final.min(), rtp_final.max(), 10))\n",
    "cb.set_clim(rtp_final.min(), rtp_final.max())\n",
    "cb.set_label('nT', fontsize = 14, labelpad = 0.)\n",
    "\n",
    "pyplot.savefig('cap04b-figura07.png', dpi = 300, bbox_inches = 'tight', transparent = True)\n",
    "pyplot.savefig('cap04b-figura07.pdf', dpi = 300, bbox_inches = 'tight', transparent = True)\n",
    "pyplot.show()"
   ]
  },
  {
   "cell_type": "code",
   "execution_count": null,
   "metadata": {},
   "outputs": [],
   "source": []
  }
 ],
 "metadata": {
  "kernelspec": {
   "display_name": "Python 2",
   "language": "python",
   "name": "python2"
  },
  "language_info": {
   "codemirror_mode": {
    "name": "ipython",
    "version": 2
   },
   "file_extension": ".py",
   "mimetype": "text/x-python",
   "name": "python",
   "nbconvert_exporter": "python",
   "pygments_lexer": "ipython2",
   "version": "2.7.15"
  }
 },
 "nbformat": 4,
 "nbformat_minor": 2
}
