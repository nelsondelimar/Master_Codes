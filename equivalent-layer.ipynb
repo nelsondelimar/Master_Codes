{
 "cells": [
  {
   "cell_type": "markdown",
   "metadata": {},
   "source": [
    "# This notebook exemplifies the calculation of the reduction to Pole by using the *classical equivalent layer* approach."
   ]
  },
  {
   "cell_type": "code",
   "execution_count": null,
   "metadata": {},
   "outputs": [],
   "source": [
    "import numpy\n",
    "import scipy\n",
    "from matplotlib import pyplot"
   ]
  },
  {
   "cell_type": "code",
   "execution_count": null,
   "metadata": {},
   "outputs": [],
   "source": [
    "from codes.grids import regular_grid\n",
    "from codes.equivalentlayer import layer, sensitivity_grav, sensitivity_mag"
   ]
  },
  {
   "cell_type": "code",
   "execution_count": null,
   "metadata": {},
   "outputs": [],
   "source": [
    "n = 100\n",
    "shape = (n, n)"
   ]
  },
  {
   "cell_type": "code",
   "execution_count": null,
   "metadata": {},
   "outputs": [],
   "source": [
    "xo, yo, zo = regular_grid((-2000., 2000., -2000., 2000.), shape, -150.)"
   ]
  },
  {
   "cell_type": "code",
   "execution_count": null,
   "metadata": {},
   "outputs": [],
   "source": [
    "layer = layer((-2000., 2000., -2000., 2000.), shape, 150.)"
   ]
  },
  {
   "cell_type": "code",
   "execution_count": null,
   "metadata": {},
   "outputs": [],
   "source": [
    "inc, dec = 30., 50.\n",
    "incs, decs = -45., -42."
   ]
  },
  {
   "cell_type": "code",
   "execution_count": null,
   "metadata": {},
   "outputs": [],
   "source": [
    "from codes.sphere import sphere_tfa\n",
    "from codes.prism import prism_tf"
   ]
  },
  {
   "cell_type": "code",
   "execution_count": null,
   "metadata": {},
   "outputs": [],
   "source": [
    "#tfa = sphere_tfa(xo, yo, zo, (0., 0., 200., 150., 1.), inc, dec, incs, decs)\n",
    "tfp = prism_tf(xo, yo, zo, (-150., 150., -100., 200., 100., 550., 1.), inc, dec, incs, decs)"
   ]
  },
  {
   "cell_type": "code",
   "execution_count": null,
   "metadata": {},
   "outputs": [],
   "source": [
    "from codes.auxiliars import addnoise\n",
    "from codes.statistical import analysis"
   ]
  },
  {
   "cell_type": "code",
   "execution_count": null,
   "metadata": {},
   "outputs": [],
   "source": [
    "#_ = analysis(tfa)\n",
    "#print\n",
    "_ = analysis(tfp)"
   ]
  },
  {
   "cell_type": "code",
   "execution_count": null,
   "metadata": {},
   "outputs": [],
   "source": [
    "#tfa = addnoise(tfa, 2., 0.025)\n",
    "tfp = addnoise(tfp, 3., 0.15)"
   ]
  },
  {
   "cell_type": "code",
   "execution_count": null,
   "metadata": {},
   "outputs": [],
   "source": [
    "G = sensitivity_mag(xo, yo, zo, layer, inc, dec, incs, decs)"
   ]
  },
  {
   "cell_type": "code",
   "execution_count": null,
   "metadata": {},
   "outputs": [],
   "source": [
    "T = numpy.abs(numpy.matrix.trace(G))\n",
    "print 'Trace of matrix:', T"
   ]
  },
  {
   "cell_type": "code",
   "execution_count": null,
   "metadata": {},
   "outputs": [],
   "source": [
    "I = numpy.identity(number**2)"
   ]
  },
  {
   "cell_type": "code",
   "execution_count": null,
   "metadata": {},
   "outputs": [],
   "source": [
    "#solution = numpy.linalg.solve(numpy.dot(G.T,G) + (2.e-9)*I, numpy.dot(G.T,tfa))\n",
    "solution = numpy.linalg.solve(numpy.dot(G.T, G) + (2.e-8)*I, numpy.dot(G.T, tfp))"
   ]
  },
  {
   "cell_type": "code",
   "execution_count": null,
   "metadata": {},
   "outputs": [],
   "source": [
    "tf_pred = numpy.dot(G, solution)"
   ]
  },
  {
   "cell_type": "code",
   "execution_count": null,
   "metadata": {},
   "outputs": [],
   "source": [
    "from codes.auxiliars import residual"
   ]
  },
  {
   "cell_type": "code",
   "execution_count": null,
   "metadata": {},
   "outputs": [],
   "source": [
    "res, mean, deviation = residual(tfp, tf_pred)"
   ]
  },
  {
   "cell_type": "code",
   "execution_count": null,
   "metadata": {},
   "outputs": [],
   "source": [
    "pyplot.figure(figsize=(16, 4))\n",
    "\n",
    "pyplot.subplot(1, 3, 1)\n",
    "pyplot.contourf(yo.reshape(n,n), xo.reshape(n,n), tfp.reshape(n,n), 20, cmap = pyplot.cm.jet)\n",
    "pyplot.title('Dado observado (nT)')\n",
    "pyplot.colorbar()\n",
    "\n",
    "pyplot.subplot(1, 3, 2)\n",
    "pyplot.contourf(yo.reshape(n,n), xo.reshape(n,n), tf_pred.reshape(n,n), 20, cmap = pyplot.cm.jet)\n",
    "pyplot.title('Dado predito (nT)')\n",
    "pyplot.colorbar()\n",
    "\n",
    "pyplot.subplot(1, 3, 3)\n",
    "pyplot.contourf(yo.reshape(n,n), xo.reshape(n,n), res.reshape(n,n), 20, cmap = pyplot.cm.jet)\n",
    "pyplot.title('Residuo (nT)')\n",
    "pyplot.colorbar()\n",
    "\n",
    "pyplot.show()"
   ]
  },
  {
   "cell_type": "markdown",
   "metadata": {},
   "source": [
    "### Applying the reduction to Pole by using Equivalent Layer"
   ]
  },
  {
   "cell_type": "code",
   "execution_count": null,
   "metadata": {},
   "outputs": [],
   "source": [
    "inc_polo = 90.\n",
    "dec_polo = 0."
   ]
  },
  {
   "cell_type": "code",
   "execution_count": null,
   "metadata": {},
   "outputs": [],
   "source": [
    "# Calculo da RTP verdadeira\n",
    "#true_rtp = sphere_tfa(xo, yo, zo, (0., 0., 200., 150., 1.), inc_polo, dec_polo)\n",
    "true_rtp = prism_tf(xo, yo, zo, (-150., 150., -100., 200., 100., 550., 1.), inc_polo, dec_polo)"
   ]
  },
  {
   "cell_type": "code",
   "execution_count": null,
   "metadata": {},
   "outputs": [],
   "source": [
    "# Calculo da RTP via Fourier\n",
    "from codes.filtering import reduction"
   ]
  },
  {
   "cell_type": "code",
   "execution_count": null,
   "metadata": {},
   "outputs": [],
   "source": [
    "rtp = reduction(xo.reshape(n,n), yo.reshape(n,n), tfp.reshape(n,n), incs, decs, inc, dec)"
   ]
  },
  {
   "cell_type": "code",
   "execution_count": null,
   "metadata": {},
   "outputs": [],
   "source": [
    "# Calculo da RTP via camada equivalente\n",
    "G_rtp = sensitivity_mag(xo, yo, zo, layer, inc_polo, dec_polo, inc_polo, dec_polo)"
   ]
  },
  {
   "cell_type": "code",
   "execution_count": null,
   "metadata": {},
   "outputs": [],
   "source": [
    "tf_rtp = numpy.dot(G_rtp, solution)"
   ]
  },
  {
   "cell_type": "code",
   "execution_count": null,
   "metadata": {},
   "outputs": [],
   "source": [
    "pyplot.figure(figsize=(16, 4))\n",
    "\n",
    "pyplot.subplot(1, 3, 1)\n",
    "pyplot.contourf(yo.reshape(n,n), xo.reshape(n,n), true_rtp.reshape(n,n), 20, cmap = pyplot.cm.jet)\n",
    "pyplot.title('RTP verdadeira (nT)')\n",
    "pyplot.colorbar()\n",
    "\n",
    "pyplot.subplot(1, 3, 2)\n",
    "pyplot.contourf(yo.reshape(n,n), xo.reshape(n,n), rtp.reshape(n,n), 20, cmap = pyplot.cm.jet)\n",
    "pyplot.title('RTP via Fourier (nT)')\n",
    "pyplot.colorbar()\n",
    "\n",
    "pyplot.subplot(1, 3, 3)\n",
    "pyplot.contourf(yo.reshape(n,n), xo.reshape(n,n), tf_rtp.reshape(n,n), 20, cmap = pyplot.cm.jet)\n",
    "pyplot.title('RTP via camada (nT)')\n",
    "pyplot.colorbar()\n",
    "\n",
    "pyplot.show()"
   ]
  },
  {
   "cell_type": "code",
   "execution_count": null,
   "metadata": {},
   "outputs": [],
   "source": []
  }
 ],
 "metadata": {
  "kernelspec": {
   "display_name": "Python 2",
   "language": "python",
   "name": "python2"
  },
  "language_info": {
   "codemirror_mode": {
    "name": "ipython",
    "version": 2
   },
   "file_extension": ".py",
   "mimetype": "text/x-python",
   "name": "python",
   "nbconvert_exporter": "python",
   "pygments_lexer": "ipython2",
   "version": "2.7.14"
  }
 },
 "nbformat": 4,
 "nbformat_minor": 2
}
