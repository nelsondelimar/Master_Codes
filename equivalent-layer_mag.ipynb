{
 "cells": [
  {
   "cell_type": "markdown",
   "metadata": {},
   "source": [
    "# This notebook exemplifies the calculation of the reduction to Pole by using the *classical equivalent layer* approach."
   ]
  },
  {
   "cell_type": "code",
   "execution_count": 1,
   "metadata": {
    "collapsed": true
   },
   "outputs": [],
   "source": [
    "# Import all python modules\n",
    "import numpy\n",
    "from matplotlib import pyplot"
   ]
  },
  {
   "cell_type": "code",
   "execution_count": 2,
   "metadata": {
    "collapsed": true
   },
   "outputs": [],
   "source": [
    "# Import some developed modules\n",
    "from codes.prism import prism_tf\n",
    "from codes.sphere import sphere_tfa\n",
    "from codes.grids import regular_grid\n",
    "from codes.equivalentlayer import layer, mat_mag_tfa"
   ]
  },
  {
   "cell_type": "code",
   "execution_count": 3,
   "metadata": {
    "collapsed": true
   },
   "outputs": [],
   "source": [
    "# Statistical module\n",
    "from codes.auxiliars import addnoise\n",
    "from codes.statistical import analysis"
   ]
  },
  {
   "cell_type": "code",
   "execution_count": 4,
   "metadata": {
    "collapsed": true
   },
   "outputs": [],
   "source": [
    "# Data shape\n",
    "nx = 50\n",
    "ny = 20\n",
    "shape = (nx, ny)"
   ]
  },
  {
   "cell_type": "code",
   "execution_count": 5,
   "metadata": {
    "collapsed": true
   },
   "outputs": [],
   "source": [
    "# Create the regular grid\n",
    "xo, yo, zo = regular_grid((-2000., 2000., -2000., 2000.), shape, -200.)"
   ]
  },
  {
   "cell_type": "code",
   "execution_count": 6,
   "metadata": {
    "collapsed": true
   },
   "outputs": [],
   "source": [
    "# Values for inclination and declination of the magnetic field and the source\n",
    "inc = 30.\n",
    "dec = 50.\n",
    "incs = 1.#20.\n",
    "decs = 1.#20."
   ]
  },
  {
   "cell_type": "code",
   "execution_count": 7,
   "metadata": {
    "collapsed": true
   },
   "outputs": [],
   "source": [
    "# Define the model\n",
    "dikemodel = (-300., 150., -100., 280., 100., 750., 1.215)"
   ]
  },
  {
   "cell_type": "code",
   "execution_count": 8,
   "metadata": {
    "collapsed": true
   },
   "outputs": [],
   "source": [
    "# Calculate the total field anomaly produced by a rectragular prism as a dike model\n",
    "tfp = prism_tf(xo, yo, zo, dikemodel, inc, dec, incs, decs)"
   ]
  },
  {
   "cell_type": "code",
   "execution_count": 9,
   "metadata": {},
   "outputs": [
    {
     "name": "stdout",
     "output_type": "stream",
     "text": [
      "Analysing total field data:\n",
      "Minimum:    -49.8835\n",
      "Maximum:    32.1433\n",
      "Mean value: -0.5563\n",
      "Variation:  82.0267\n"
     ]
    }
   ],
   "source": [
    "print 'Analysing total field data:'\n",
    "_ = analysis(tfp)"
   ]
  },
  {
   "cell_type": "code",
   "execution_count": 10,
   "metadata": {
    "collapsed": true
   },
   "outputs": [],
   "source": [
    "#tfa = addnoise(tfa, 2., 0.025})\n",
    "tf = addnoise(tfp, 3., 0.075)"
   ]
  },
  {
   "cell_type": "code",
   "execution_count": 11,
   "metadata": {},
   "outputs": [
    {
     "name": "stdout",
     "output_type": "stream",
     "text": [
      "Analysing noised data:\n",
      "Minimum:    -46.7882\n",
      "Maximum:    35.1699\n",
      "Mean value: 2.4392\n",
      "Variation:  81.9581\n"
     ]
    }
   ],
   "source": [
    "print 'Analysing noised data:'\n",
    "_ = analysis(tf)"
   ]
  },
  {
   "cell_type": "markdown",
   "metadata": {},
   "source": [
    "#### Creating the layer"
   ]
  },
  {
   "cell_type": "code",
   "execution_count": 12,
   "metadata": {
    "collapsed": true
   },
   "outputs": [],
   "source": [
    "# Define a mesh of masses point with unit volume:\n",
    "# horizontal coordinates:\n",
    "area = (-2000., 2000., -2000., 2000.) # meters\n",
    "shape_layer = (20, 40)"
   ]
  },
  {
   "cell_type": "code",
   "execution_count": 17,
   "metadata": {
    "collapsed": true
   },
   "outputs": [],
   "source": [
    "# Creating the equivalent layer\n",
    "eqlayer = layer(area, shape_layer, 700.)"
   ]
  },
  {
   "cell_type": "code",
   "execution_count": 18,
   "metadata": {
    "collapsed": true
   },
   "outputs": [],
   "source": [
    "A = mat_mag_tfa(xo, yo, zo, eqlayer, inc, dec, incs, decs)"
   ]
  },
  {
   "cell_type": "code",
   "execution_count": 19,
   "metadata": {},
   "outputs": [
    {
     "name": "stdout",
     "output_type": "stream",
     "text": [
      "Number of observations: 1000\n",
      "Number of depth sources: 800\n"
     ]
    }
   ],
   "source": [
    "# dimensions of the sensitivity matrix of the eqlayer problem:\n",
    "M = shape_layer[0] * shape_layer[1]\n",
    "N = shape[0] * shape[1]\n",
    "print 'Number of observations:', N\n",
    "print 'Number of depth sources:', M"
   ]
  },
  {
   "cell_type": "markdown",
   "metadata": {},
   "source": [
    "### Solving the least-squares in two possible cases"
   ]
  },
  {
   "cell_type": "code",
   "execution_count": 51,
   "metadata": {},
   "outputs": [],
   "source": [
    "# Case1: Overdetermined - Number of observations are greater or equal than the number of depth sources\n",
    "if N >= M: \n",
    "    mu = 1e-4\n",
    "    I = numpy.identity(M)\n",
    "    trace = numpy.trace(A.T.dot(A))/M\n",
    "    vec = numpy.linalg.solve(numpy.dot(A.T, A) + mu*trace*I, numpy.dot(A.T,tf))\n",
    "#  case\n",
    "# Case1: Underterminated - Number of observations are less than the number of depth sources\n",
    "else:\n",
    "    mu = 1.e-2\n",
    "    I = numpy.identity(N)\n",
    "    trace = numpy.trace(A.T.dot(A))/N\n",
    "    aux = numpy.linalg.solve(numpy.dot(A, A.T) + mu*trace*I, tf)\n",
    "    vec = numpy.dot(A.T, aux)"
   ]
  },
  {
   "cell_type": "code",
   "execution_count": 52,
   "metadata": {
    "collapsed": true
   },
   "outputs": [],
   "source": [
    "# Computing the predicted data\n",
    "tf_pred = numpy.dot(A, vec)"
   ]
  },
  {
   "cell_type": "code",
   "execution_count": 53,
   "metadata": {},
   "outputs": [
    {
     "name": "stdout",
     "output_type": "stream",
     "text": [
      "Original total field anomaly:\n",
      "Minimum:    -46.7882\n",
      "Maximum:    35.1699\n",
      "Mean value: 2.4392\n",
      "Variation:  81.9581\n",
      "Predicted total field anomaly:\n",
      "Minimum:    -46.0629\n",
      "Maximum:    35.5700\n",
      "Mean value: 2.4379\n",
      "Variation:  81.6329\n"
     ]
    }
   ],
   "source": [
    "print 'Original total field anomaly:'\n",
    "_ = analysis(tf)\n",
    "print 'Predicted total field anomaly:'\n",
    "_ = analysis(tf_pred)"
   ]
  },
  {
   "cell_type": "code",
   "execution_count": 54,
   "metadata": {
    "collapsed": true
   },
   "outputs": [],
   "source": [
    "from codes.auxiliars import residual"
   ]
  },
  {
   "cell_type": "code",
   "execution_count": 55,
   "metadata": {
    "collapsed": true
   },
   "outputs": [],
   "source": [
    "# Computing the residual\n",
    "res, _, _, _ = residual(tf, tf_pred)"
   ]
  },
  {
   "cell_type": "code",
   "execution_count": 56,
   "metadata": {},
   "outputs": [
    {
     "data": {
      "image/png": "[encoded data removed]",
      "text/plain": [
       "<matplotlib.figure.Figure at 0x7fd3fb253310>"
      ]
     },
     "metadata": {},
     "output_type": "display_data"
    }
   ],
   "source": [
    "pyplot.figure(figsize=(18, 4))\n",
    "\n",
    "pyplot.subplot(1, 3, 1)\n",
    "pyplot.contourf(xo.reshape(nx,ny), yo.reshape(nx,ny), \n",
    "                tf.reshape(nx,ny), 20, cmap = pyplot.cm.jet)\n",
    "pyplot.title('Observed total field (nT)')\n",
    "pyplot.xlabel('X coordinate (m)')\n",
    "pyplot.ylabel('Y coordinate (m)')\n",
    "pyplot.xticks(numpy.linspace(xo.min(), xo.max(), 5))\n",
    "pyplot.yticks(numpy.linspace(yo.min(), yo.max(), 5))\n",
    "pyplot.colorbar()\n",
    "\n",
    "pyplot.subplot(1, 3, 2)\n",
    "pyplot.contourf(xo.reshape(nx,ny), yo.reshape(nx,ny), \n",
    "                tf_pred.reshape(nx,ny), 20, cmap = pyplot.cm.jet)\n",
    "pyplot.title('Predicted total field (nT)')\n",
    "pyplot.xlabel('X coordinate (m)')\n",
    "pyplot.ylabel('Y coordinate (m)')\n",
    "pyplot.xticks(numpy.linspace(xo.min(), xo.max(), 5))\n",
    "pyplot.yticks(numpy.linspace(yo.min(), yo.max(), 5))\n",
    "pyplot.colorbar()\n",
    "\n",
    "pyplot.subplot(1, 3, 3)\n",
    "pyplot.contourf(xo.reshape(nx,ny), yo.reshape(nx,ny), \n",
    "                res.reshape(nx,ny), 10, cmap = pyplot.cm.jet)\n",
    "pyplot.title('Calculated residual (nT)')\n",
    "pyplot.xlabel('X coordinate (m)')\n",
    "pyplot.ylabel('Y coordinate (m)')\n",
    "pyplot.xticks(numpy.linspace(xo.min(), xo.max(), 5))\n",
    "pyplot.yticks(numpy.linspace(yo.min(), yo.max(), 5))\n",
    "pyplot.colorbar()\n",
    "\n",
    "pyplot.show()"
   ]
  },
  {
   "cell_type": "markdown",
   "metadata": {},
   "source": [
    "### Applying the reduction to Pole by using Equivalent Layer"
   ]
  },
  {
   "cell_type": "code",
   "execution_count": 57,
   "metadata": {
    "collapsed": true
   },
   "outputs": [],
   "source": [
    "# Define the new directions\n",
    "inc_polo = 90.\n",
    "dec_polo = 0."
   ]
  },
  {
   "cell_type": "code",
   "execution_count": 58,
   "metadata": {
    "collapsed": true
   },
   "outputs": [],
   "source": [
    "# Computing the true total field anomaly at the Pole\n",
    "true_rtp = prism_tf(xo, yo, zo, dikemodel, inc_polo, dec_polo)"
   ]
  },
  {
   "cell_type": "code",
   "execution_count": 59,
   "metadata": {
    "collapsed": true
   },
   "outputs": [],
   "source": [
    "# Import the RTP function\n",
    "from codes.filtering import reduction"
   ]
  },
  {
   "cell_type": "code",
   "execution_count": 60,
   "metadata": {},
   "outputs": [],
   "source": [
    "# Computing by Fourier\n",
    "fourier_rtp = reduction(xo.reshape(nx,ny), yo.reshape(nx,ny), \n",
    "                        tfp.reshape(nx,ny), inc, dec, incs, decs)"
   ]
  },
  {
   "cell_type": "code",
   "execution_count": 61,
   "metadata": {
    "collapsed": true
   },
   "outputs": [],
   "source": [
    "# Computing bu equivalent layer\n",
    "A_rtp = mat_mag_tfa(xo, yo, zo, eqlayer, inc_polo, dec_polo, inc_polo, dec_polo)"
   ]
  },
  {
   "cell_type": "code",
   "execution_count": 62,
   "metadata": {
    "collapsed": true
   },
   "outputs": [],
   "source": [
    "# Reduction to Pole\n",
    "layer_rtp = numpy.dot(A_rtp, vec)"
   ]
  },
  {
   "cell_type": "code",
   "execution_count": 63,
   "metadata": {},
   "outputs": [
    {
     "data": {
      "image/png": "[encoded data removed]",
      "text/plain": [
       "<matplotlib.figure.Figure at 0x7fd3fb356090>"
      ]
     },
     "metadata": {},
     "output_type": "display_data"
    }
   ],
   "source": [
    "# Plotting the result\n",
    "pyplot.figure(figsize=(18, 4))\n",
    "\n",
    "pyplot.subplot(1, 3, 1)\n",
    "pyplot.contourf(yo.reshape(nx,ny), xo.reshape(nx,ny), \n",
    "                true_rtp.reshape(nx,ny), 20, cmap = pyplot.cm.jet)\n",
    "pyplot.title('True reduced to Pole anomaly (nT)')\n",
    "pyplot.xlabel('East coordinate (m)')\n",
    "pyplot.ylabel('North coordinate (m)')\n",
    "pyplot.xticks(numpy.linspace(xo.min(), xo.max(), 5))\n",
    "pyplot.yticks(numpy.linspace(yo.min(), yo.max(), 5))\n",
    "pyplot.colorbar()\n",
    "\n",
    "pyplot.subplot(1, 3, 2)\n",
    "pyplot.contourf(yo.reshape(nx,ny), xo.reshape(nx,ny), \n",
    "                fourier_rtp, 20, cmap = pyplot.cm.jet)\n",
    "pyplot.title('RTP by using Fourier domain (nT)')\n",
    "pyplot.xlabel('East coordinate (m)')\n",
    "pyplot.ylabel('North coordinate (m)')\n",
    "pyplot.xticks(numpy.linspace(xo.min(), xo.max(), 5))\n",
    "pyplot.yticks(numpy.linspace(yo.min(), yo.max(), 5))\n",
    "pyplot.colorbar()\n",
    "\n",
    "pyplot.subplot(1, 3, 3)\n",
    "pyplot.contourf(yo.reshape(nx,ny), xo.reshape(nx,ny), \n",
    "                layer_rtp.reshape(nx,ny), 20, cmap = pyplot.cm.jet)\n",
    "pyplot.title('RTP by using equivalent layer (nT)')\n",
    "pyplot.xlabel('East coordinate (m)')\n",
    "pyplot.ylabel('North coordinate (m)')\n",
    "pyplot.xticks(numpy.linspace(xo.min(), xo.max(), 5))\n",
    "pyplot.yticks(numpy.linspace(yo.min(), yo.max(), 5))\n",
    "pyplot.colorbar()\n",
    "\n",
    "pyplot.show()"
   ]
  },
  {
   "cell_type": "code",
   "execution_count": null,
   "metadata": {
    "collapsed": true
   },
   "outputs": [],
   "source": []
  }
 ],
 "metadata": {
  "kernelspec": {
   "display_name": "Python 2",
   "language": "python",
   "name": "python2"
  },
  "language_info": {
   "codemirror_mode": {
    "name": "ipython",
    "version": 2
   },
   "file_extension": ".py",
   "mimetype": "text/x-python",
   "name": "python",
   "nbconvert_exporter": "python",
   "pygments_lexer": "ipython2",
   "version": "2.7.14"
  }
 },
 "nbformat": 4,
 "nbformat_minor": 2
}
