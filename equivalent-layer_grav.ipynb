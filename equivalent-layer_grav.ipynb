{
 "cells": [
  {
   "cell_type": "markdown",
   "metadata": {},
   "source": [
    "# This notebook exemplifies the calculation of the horizontal and vertical derivatives by using the *classical equivalent layer* approach."
   ]
  },
  {
   "cell_type": "code",
   "execution_count": null,
   "metadata": {
    "collapsed": true
   },
   "outputs": [],
   "source": [
    "# Import all python modules\n",
    "import numpy\n",
    "from matplotlib import pyplot"
   ]
  },
  {
   "cell_type": "code",
   "execution_count": null,
   "metadata": {
    "collapsed": true
   },
   "outputs": [],
   "source": [
    "from codes.auxiliars import regional"
   ]
  },
  {
   "cell_type": "code",
   "execution_count": null,
   "metadata": {
    "collapsed": true
   },
   "outputs": [],
   "source": [
    "# Import some developed modules\n",
    "from codes.prism import prism_gz\n",
    "from codes.sphere import sphere_gz\n",
    "from codes.grids import regular_grid\n",
    "from codes.equivalentlayer import layer, mat_grav_gz"
   ]
  },
  {
   "cell_type": "code",
   "execution_count": null,
   "metadata": {
    "collapsed": true
   },
   "outputs": [],
   "source": [
    "# Statistical module\n",
    "from codes.auxiliars import addnoise\n",
    "from codes.statistical import analysis"
   ]
  },
  {
   "cell_type": "code",
   "execution_count": null,
   "metadata": {
    "collapsed": true
   },
   "outputs": [],
   "source": [
    "# Data shape:\n",
    "nx = 30\n",
    "ny = 40\n",
    "shape = (nx, ny)"
   ]
  },
  {
   "cell_type": "code",
   "execution_count": null,
   "metadata": {
    "collapsed": true
   },
   "outputs": [],
   "source": [
    "# Number of observations:\n",
    "xo, yo, zo = regular_grid((-2000., 2000., -2000., 2000.), shape, -200.)"
   ]
  },
  {
   "cell_type": "code",
   "execution_count": null,
   "metadata": {
    "collapsed": true
   },
   "outputs": [],
   "source": [
    "# Synthetic data produced by a vertical dike model (vertical attraction):\n",
    "# (xmin, xmax, ymin, ymax, zmin, zmax, rho(km/m3) )\n",
    "dike1 = (-300., 150., -100., 280., 100., 750., 2800.0)\n",
    "#dike2 = (1000., 1350., 1400., 1680., 90., 1950., 2900.0)\n",
    "gz = prism_gz(xo, yo, zo, dike1) #+ prism_gz(xo, yo, zo, dike2)"
   ]
  },
  {
   "cell_type": "code",
   "execution_count": null,
   "metadata": {},
   "outputs": [],
   "source": [
    "print 'Analysing gz data:'\n",
    "_ = analysis(gz)"
   ]
  },
  {
   "cell_type": "code",
   "execution_count": null,
   "metadata": {
    "collapsed": true
   },
   "outputs": [],
   "source": [
    "# Adding noise\n",
    "gz = addnoise(gz, 1., 0.1)"
   ]
  },
  {
   "cell_type": "code",
   "execution_count": null,
   "metadata": {},
   "outputs": [],
   "source": [
    "print 'Analysing noised gz data:'\n",
    "_ = analysis(gz)"
   ]
  },
  {
   "cell_type": "markdown",
   "metadata": {},
   "source": [
    "#### Creating the equivalent layer:"
   ]
  },
  {
   "cell_type": "code",
   "execution_count": null,
   "metadata": {
    "collapsed": true
   },
   "outputs": [],
   "source": [
    "# Define a mesh of masses point with unit volume:\n",
    "# 1) horizontal coordinates:\n",
    "area = (-2000., 2000., -2000., 2000.) # meters\n",
    "shape_layer = (10, 10)\n",
    "# 2) define the depth of the layer and the number of point in area:\n",
    "eqlayer = layer(area, shape_layer, 700.)"
   ]
  },
  {
   "cell_type": "code",
   "execution_count": null,
   "metadata": {
    "collapsed": true
   },
   "outputs": [],
   "source": [
    "# computing the Jacobian matrix:\n",
    "A = mat_grav_gz(xo, yo, zo, eqlayer)"
   ]
  },
  {
   "cell_type": "code",
   "execution_count": null,
   "metadata": {},
   "outputs": [],
   "source": [
    "# dimensions of the sensitivity matrix of the eqlayer problem:\n",
    "M = shape_layer[0] * shape_layer[1]\n",
    "N = shape[0] * shape[1]\n",
    "print 'Number of observations:', N\n",
    "print 'Number of depth sources:', M"
   ]
  },
  {
   "cell_type": "markdown",
   "metadata": {},
   "source": [
    "### Solve the least-square problem for the two possible cases:"
   ]
  },
  {
   "cell_type": "code",
   "execution_count": null,
   "metadata": {
    "collapsed": true
   },
   "outputs": [],
   "source": [
    "# Estimation of vector parameters:\n",
    "if N >= M: #overdetermined case\n",
    "    mu = 0.0 #1.0e-3\n",
    "    I = numpy.identity(M)\n",
    "    trace = numpy.trace(A.T.dot(A))/M\n",
    "    vec = numpy.linalg.solve(numpy.dot(A.T, A) + mu*trace*I, numpy.dot(A.T,gz))\n",
    "else:# underterminated case\n",
    "    mu = 1.e-2\n",
    "    I = numpy.identity(N)\n",
    "    trace = numpy.trace(A.T.dot(A))/N\n",
    "    aux = numpy.linalg.solve(numpy.dot(A, A.T) + mu*trace*I, gz)\n",
    "    vec = numpy.dot(A.T, aux)"
   ]
  },
  {
   "cell_type": "code",
   "execution_count": null,
   "metadata": {
    "collapsed": true
   },
   "outputs": [],
   "source": [
    "# Computing the predicted data\n",
    "gz_predicted = numpy.dot(A, vec)"
   ]
  },
  {
   "cell_type": "code",
   "execution_count": null,
   "metadata": {},
   "outputs": [],
   "source": [
    "print 'Original gz_data:'\n",
    "_ = analysis(gz)\n",
    "print 'Predicted gz data:'\n",
    "_ = analysis(gz_predicted)"
   ]
  },
  {
   "cell_type": "code",
   "execution_count": null,
   "metadata": {
    "collapsed": true
   },
   "outputs": [],
   "source": [
    "from codes.auxiliars import residual"
   ]
  },
  {
   "cell_type": "code",
   "execution_count": null,
   "metadata": {
    "collapsed": true
   },
   "outputs": [],
   "source": [
    "res, norm, mean, deviation = residual(gz, gz_predicted)"
   ]
  },
  {
   "cell_type": "code",
   "execution_count": null,
   "metadata": {},
   "outputs": [],
   "source": [
    "pyplot.figure(figsize=(16, 4))\n",
    "\n",
    "pyplot.subplot(1, 3, 1)\n",
    "pyplot.contourf(xo.reshape(nx,ny), yo.reshape(nx,ny), \n",
    "                gz.reshape(nx,ny), 20, cmap = pyplot.cm.jet)\n",
    "pyplot.title('Observed gz (mGal)')\n",
    "pyplot.xlabel('X coordinate (m)')\n",
    "pyplot.ylabel('Y coordinate (m)')\n",
    "pyplot.xticks(numpy.linspace(xo.min(), xo.max(), 5))\n",
    "pyplot.yticks(numpy.linspace(yo.min(), yo.max(), 5))\n",
    "pyplot.colorbar()\n",
    "\n",
    "pyplot.subplot(1, 3, 2)\n",
    "pyplot.contourf(xo.reshape(nx,ny), yo.reshape(nx,ny), \n",
    "                gz_predicted.reshape(nx,ny), 20, cmap = pyplot.cm.jet)\n",
    "pyplot.title('Predicted gz by eqlayer (mGal)')\n",
    "pyplot.xlabel('X coordinate (m)')\n",
    "pyplot.ylabel('Y coordinate (m)')\n",
    "pyplot.xticks(numpy.linspace(xo.min(), xo.max(), 5))\n",
    "pyplot.yticks(numpy.linspace(yo.min(), yo.max(), 5))\n",
    "pyplot.colorbar()\n",
    "\n",
    "pyplot.subplot(1, 3, 3)\n",
    "pyplot.contourf(xo.reshape(nx,ny), yo.reshape(nx,ny), \n",
    "                res.reshape(nx,ny), 10, cmap = pyplot.cm.jet)\n",
    "pyplot.title('Calculated residual (mGal)')\n",
    "pyplot.xlabel('X coordinate (m)')\n",
    "pyplot.ylabel('Y coordinate (m)')\n",
    "pyplot.xticks(numpy.linspace(xo.min(), xo.max(), 5))\n",
    "pyplot.yticks(numpy.linspace(yo.min(), yo.max(), 5))\n",
    "pyplot.colorbar()\n",
    "\n",
    "pyplot.show()"
   ]
  },
  {
   "cell_type": "markdown",
   "metadata": {},
   "source": [
    "# Test for tensor elements"
   ]
  },
  {
   "cell_type": "code",
   "execution_count": null,
   "metadata": {
    "collapsed": true
   },
   "outputs": [],
   "source": [
    "# Variation along the directinos\n",
    "delta = 10."
   ]
  },
  {
   "cell_type": "markdown",
   "metadata": {},
   "source": [
    "**Calculating the numerical derivative**"
   ]
  },
  {
   "cell_type": "code",
   "execution_count": null,
   "metadata": {},
   "outputs": [],
   "source": [
    "# In X\n",
    "xi = prism_gz(xo - delta, yo, zo, dike1) + prism_gz(xo - delta, yo, zo, dike2)\n",
    "xf = prism_gz(xo + delta, yo, zo, dike1) + prism_gz(xo + delta, yo, zo, dike2)\n",
    "diffx = (xf - xi)/(2.*delta)"
   ]
  },
  {
   "cell_type": "code",
   "execution_count": null,
   "metadata": {
    "collapsed": true
   },
   "outputs": [],
   "source": [
    "# In Y\n",
    "yi = prism_gz(xo, yo - delta, zo, dike1) + prism_gz(xo, yo - delta, zo, dike2)\n",
    "yf = prism_gz(xo, yo + delta, zo, dike1) + prism_gz(xo, yo + delta, zo, dike2)\n",
    "diffy = (yf - yi)/(2.*delta)\n"
   ]
  },
  {
   "cell_type": "code",
   "execution_count": null,
   "metadata": {
    "collapsed": true
   },
   "outputs": [],
   "source": [
    "# In Z\n",
    "zi = prism_gz(xo, yo, zo - 0.1*delta, dike1) + prism_gz(xo, yo, zo - 0.1*delta, dike2)\n",
    "zf = prism_gz(xo, yo, zo + 0.1*delta, dike1) + prism_gz(xo, yo, zo + 0.1*delta, dike2)\n",
    "diffz = (zf - zi)/(2.*0.1*delta)\n"
   ]
  },
  {
   "cell_type": "code",
   "execution_count": null,
   "metadata": {
    "collapsed": true
   },
   "outputs": [],
   "source": [
    "# Import the transformation matrix for derivatives\n",
    "from codes.equivalentlayer import layer, mat_grav_gz, mat_grav_gz_xyz"
   ]
  },
  {
   "cell_type": "code",
   "execution_count": null,
   "metadata": {
    "collapsed": true
   },
   "outputs": [],
   "source": [
    "gzx, gzy, gzz = mat_grav_gz_xyz(xo, yo, zo, eqlayer)"
   ]
  },
  {
   "cell_type": "code",
   "execution_count": null,
   "metadata": {
    "collapsed": true
   },
   "outputs": [],
   "source": [
    "# Computing the tensor elements\n",
    "gzx_predicted = numpy.dot(gzx, vec)\n",
    "gzy_predicted = numpy.dot(gzy, vec)\n",
    "gzz_predicted = numpy.dot(gzz, vec)"
   ]
  },
  {
   "cell_type": "code",
   "execution_count": null,
   "metadata": {},
   "outputs": [],
   "source": [
    "reszx, _, _, _ = residual(diffx, gzx_predicted)\n",
    "reszy, _, _, _ = residual(diffy, gzy_predicted)\n",
    "reszz, _, _, _ = residual(diffz, gzz_predicted)"
   ]
  },
  {
   "cell_type": "code",
   "execution_count": null,
   "metadata": {},
   "outputs": [],
   "source": [
    "pyplot.figure(figsize=(24, 12))\n",
    "\n",
    "pyplot.subplot(3, 3, 1)\n",
    "pyplot.contourf(xo.reshape(nx,ny), yo.reshape(nx,ny), \n",
    "                diffx.reshape(nx,ny), 20, cmap = pyplot.cm.jet)\n",
    "pyplot.title('Numerical x-derivative of gz')\n",
    "pyplot.ylabel('Y coordinate (m)')\n",
    "pyplot.xticks(numpy.linspace(xo.min(), xo.max(), 5))\n",
    "pyplot.yticks(numpy.linspace(yo.min(), yo.max(), 5))\n",
    "pyplot.colorbar()\n",
    "\n",
    "pyplot.subplot(3, 3, 2)\n",
    "pyplot.contourf(xo.reshape(nx,ny), yo.reshape(nx,ny), \n",
    "                diffy.reshape(nx,ny), 20, cmap = pyplot.cm.jet)\n",
    "pyplot.title('Numerical y-derivative of gz')\n",
    "pyplot.ylabel('Y coordinate (m)')\n",
    "pyplot.xticks(numpy.linspace(xo.min(), xo.max(), 5))\n",
    "pyplot.yticks(numpy.linspace(yo.min(), yo.max(), 5))\n",
    "pyplot.colorbar()\n",
    "\n",
    "pyplot.subplot(3, 3, 3)\n",
    "pyplot.contourf(xo.reshape(nx,ny), yo.reshape(nx,ny), \n",
    "                diffz.reshape(nx,ny), 20, cmap = pyplot.cm.jet)\n",
    "pyplot.title('Numerical z-derivative of gz')\n",
    "pyplot.ylabel('Y coordinate (m)')\n",
    "pyplot.xticks(numpy.linspace(xo.min(), xo.max(), 5))\n",
    "pyplot.yticks(numpy.linspace(yo.min(), yo.max(), 5))\n",
    "pyplot.colorbar()\n",
    "\n",
    "pyplot.subplot(3, 3, 4)\n",
    "pyplot.contourf(xo.reshape(nx,ny), yo.reshape(nx,ny), \n",
    "                gzx_predicted.reshape(nx,ny), 20, cmap = pyplot.cm.jet)\n",
    "pyplot.title('X-derivative by equivalent layer')\n",
    "pyplot.ylabel('Y coordinate (m)')\n",
    "pyplot.xticks(numpy.linspace(xo.min(), xo.max(), 5))\n",
    "pyplot.yticks(numpy.linspace(yo.min(), yo.max(), 5))\n",
    "pyplot.colorbar()\n",
    "\n",
    "pyplot.subplot(3, 3, 5)\n",
    "pyplot.contourf(xo.reshape(nx,ny), yo.reshape(nx,ny), \n",
    "                gzy_predicted.reshape(nx,ny), 20, cmap = pyplot.cm.jet)\n",
    "pyplot.title('Y-derivative by equivalent layer')\n",
    "pyplot.ylabel('Y coordinate (m)')\n",
    "pyplot.xticks(numpy.linspace(xo.min(), xo.max(), 5))\n",
    "pyplot.yticks(numpy.linspace(yo.min(), yo.max(), 5))\n",
    "pyplot.colorbar()\n",
    "\n",
    "pyplot.subplot(3, 3, 6)\n",
    "pyplot.contourf(xo.reshape(nx,ny), yo.reshape(nx,ny), \n",
    "                gzz_predicted.reshape(nx,ny), 20, cmap = pyplot.cm.jet)\n",
    "pyplot.title('Z-derivative by equivalent layer')\n",
    "pyplot.ylabel('Y coordinate (m)')\n",
    "pyplot.xticks(numpy.linspace(xo.min(), xo.max(), 5))\n",
    "pyplot.yticks(numpy.linspace(yo.min(), yo.max(), 5))\n",
    "pyplot.colorbar()\n",
    "\n",
    "pyplot.subplot(3, 3, 7)\n",
    "pyplot.contourf(xo.reshape(nx,ny), yo.reshape(nx,ny), \n",
    "                reszx.reshape(nx,ny), 10, cmap = pyplot.cm.jet)\n",
    "pyplot.title('Calculated residual (mGal)')\n",
    "pyplot.xlabel('X coordinate (m)')\n",
    "pyplot.ylabel('Y coordinate (m)')\n",
    "pyplot.xticks(numpy.linspace(xo.min(), xo.max(), 5))\n",
    "pyplot.yticks(numpy.linspace(yo.min(), yo.max(), 5))\n",
    "pyplot.colorbar()\n",
    "\n",
    "pyplot.subplot(3, 3, 8)\n",
    "pyplot.contourf(xo.reshape(nx,ny), yo.reshape(nx,ny), \n",
    "                reszy.reshape(nx,ny), 10, cmap = pyplot.cm.jet)\n",
    "pyplot.title('Calculated residual (mGal)')\n",
    "pyplot.xlabel('X coordinate (m)')\n",
    "pyplot.ylabel('Y coordinate (m)')\n",
    "pyplot.xticks(numpy.linspace(xo.min(), xo.max(), 5))\n",
    "pyplot.yticks(numpy.linspace(yo.min(), yo.max(), 5))\n",
    "pyplot.colorbar()\n",
    "\n",
    "pyplot.subplot(3, 3, 9)\n",
    "pyplot.contourf(xo.reshape(nx,ny), yo.reshape(nx,ny), \n",
    "                reszz.reshape(nx,ny), 10, cmap = pyplot.cm.jet)\n",
    "pyplot.title('Calculated residual (mGal)')\n",
    "pyplot.xlabel('X coordinate (m)')\n",
    "pyplot.ylabel('Y coordinate (m)')\n",
    "pyplot.xticks(numpy.linspace(xo.min(), xo.max(), 5))\n",
    "pyplot.yticks(numpy.linspace(yo.min(), yo.max(), 5))\n",
    "pyplot.colorbar()\n",
    "\n",
    "\n",
    "pyplot.show()"
   ]
  },
  {
   "cell_type": "code",
   "execution_count": null,
   "metadata": {
    "collapsed": true
   },
   "outputs": [],
   "source": []
  }
 ],
 "metadata": {
  "kernelspec": {
   "display_name": "Python 2",
   "language": "python",
   "name": "python2"
  },
  "language_info": {
   "codemirror_mode": {
    "name": "ipython",
    "version": 2
   },
   "file_extension": ".py",
   "mimetype": "text/x-python",
   "name": "python",
   "nbconvert_exporter": "python",
   "pygments_lexer": "ipython2",
   "version": "2.7.14"
  }
 },
 "nbformat": 4,
 "nbformat_minor": 2
}
