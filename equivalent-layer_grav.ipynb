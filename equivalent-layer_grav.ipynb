{
 "cells": [
  {
   "cell_type": "markdown",
   "metadata": {},
   "source": [
    "# This notebook exemplifies the calculation of the reduction to Pole by using the *classical equivalent layer* approach."
   ]
  },
  {
   "cell_type": "code",
   "execution_count": 1,
   "metadata": {
    "collapsed": true
   },
   "outputs": [],
   "source": [
    "# Import all python modules\n",
    "import numpy\n",
    "from matplotlib import pyplot"
   ]
  },
  {
   "cell_type": "code",
   "execution_count": 2,
   "metadata": {
    "collapsed": true
   },
   "outputs": [],
   "source": [
    "# Import some developed modules\n",
    "from codes.prism import prism_gz\n",
    "from codes.sphere import sphere_gz\n",
    "from codes.grids import regular_grid\n",
    "from codes.equivalentlayer import layer, mat_grav"
   ]
  },
  {
   "cell_type": "code",
   "execution_count": 3,
   "metadata": {
    "collapsed": true
   },
   "outputs": [],
   "source": [
    "# Data shape:\n",
    "ndata = 50\n",
    "shape = (ndata, ndata)"
   ]
  },
  {
   "cell_type": "code",
   "execution_count": 4,
   "metadata": {
    "collapsed": true
   },
   "outputs": [],
   "source": [
    "# observations:\n",
    "xo, yo, zo = regular_grid((-2000., 2000., -2000., 2000.), shape, -200.)"
   ]
  },
  {
   "cell_type": "code",
   "execution_count": 45,
   "metadata": {
    "collapsed": true
   },
   "outputs": [],
   "source": [
    "# synthetic data produced by a vertical dike model (vertical attraction):\n",
    "# (xmin, xmax, ymin, ymax, zmin, zmax, rho(km/m3) )\n",
    "dike1 = (-300., 150., -100., 280., 100., 750., 2800.0)\n",
    "dike2 = (1000., 1350., 1400., 1680., 90., 1950., 2900.0)\n",
    "gz = prism_gz(xo, yo, zo, dike1) + prism_gz(xo, yo, zo, dike2)"
   ]
  },
  {
   "cell_type": "code",
   "execution_count": 20,
   "metadata": {
    "collapsed": true
   },
   "outputs": [],
   "source": [
    "# Statistical module\n",
    "from codes.auxiliars import addnoise\n",
    "from codes.statistical import analysis"
   ]
  },
  {
   "cell_type": "code",
   "execution_count": 21,
   "metadata": {},
   "outputs": [
    {
     "name": "stdout",
     "output_type": "stream",
     "text": [
      "Analysing gz data:\n",
      "Minimum:    0.0869\n",
      "Maximum:    6.3167\n",
      "Mean value: 1.1018\n",
      "Variation:  6.2298\n"
     ]
    }
   ],
   "source": [
    "print 'Analysing gz data:'\n",
    "_ = analysis(gz)"
   ]
  },
  {
   "cell_type": "code",
   "execution_count": 22,
   "metadata": {
    "collapsed": true
   },
   "outputs": [],
   "source": [
    "#tfa = addnoise(tfa, 2., 0.025})\n",
    "gz = addnoise(gz, 1.0, 0.1)"
   ]
  },
  {
   "cell_type": "code",
   "execution_count": 23,
   "metadata": {},
   "outputs": [
    {
     "name": "stdout",
     "output_type": "stream",
     "text": [
      "Analysing gz data noise:\n",
      "Minimum:    0.8783\n",
      "Maximum:    7.2465\n",
      "Mean value: 2.1071\n",
      "Variation:  6.3683\n"
     ]
    }
   ],
   "source": [
    "print 'Analysing gz data noise:'\n",
    "_ = analysis(gz)"
   ]
  },
  {
   "cell_type": "markdown",
   "metadata": {},
   "source": [
    "#### Creating the equivalent layer:"
   ]
  },
  {
   "cell_type": "code",
   "execution_count": 55,
   "metadata": {},
   "outputs": [],
   "source": [
    "# define a mesh of point masses with unit volume:\n",
    "# 1) horizontal coordinates:\n",
    "area = (-2000., 2000., -2000., 2000.) # meters\n",
    "shape_layer = (60,60)\n",
    "# 2) define the depth of the layer and the number of point in area:\n",
    "eqlayer = layer( area, shape_layer, 700.)"
   ]
  },
  {
   "cell_type": "code",
   "execution_count": 56,
   "metadata": {},
   "outputs": [],
   "source": [
    "# computing the Jacobian matrix:\n",
    "A = mat_grav(xo, yo, zo, eqlayer)"
   ]
  },
  {
   "cell_type": "code",
   "execution_count": 57,
   "metadata": {},
   "outputs": [
    {
     "name": "stdout",
     "output_type": "stream",
     "text": [
      "2500 3600\n"
     ]
    }
   ],
   "source": [
    "# dimensions of the sensitivity matrix of the eqlayer problem:\n",
    "M = shape_layer[0] * shape_layer[1]\n",
    "N = shape[0] * shape[1]\n",
    "print N,M"
   ]
  },
  {
   "cell_type": "markdown",
   "metadata": {},
   "source": [
    "### Solve the least-square problem for the two possible cases:"
   ]
  },
  {
   "cell_type": "code",
   "execution_count": 73,
   "metadata": {},
   "outputs": [],
   "source": [
    "# Estimation of vector parameters:\n",
    "if N >= M: #overdetermined case\n",
    "    mu    = 0.0 #10**(-2)\n",
    "    I     = numpy.identity(M)\n",
    "    trace = numpy.trace(A.T.dot(A)) / M\n",
    "    vec   = numpy.linalg.solve( numpy.dot(A.T, A) + mu * trace * I, numpy.dot(A.T, gz) )\n",
    "else:# underterminated case\n",
    "    mu    = 10**(-2)\n",
    "    I     = numpy.identity(N)\n",
    "    trace = numpy.trace(A.T.dot(A)) / N\n",
    "    aux   = numpy.linalg.solve( numpy.dot(A, A.T) + mu * trace * I,  gz )\n",
    "    vec   = numpy.dot(A.T, aux)"
   ]
  },
  {
   "cell_type": "code",
   "execution_count": 76,
   "metadata": {},
   "outputs": [
    {
     "name": "stdout",
     "output_type": "stream",
     "text": [
      "(2500,)\n"
     ]
    },
    {
     "data": {
      "text/plain": [
       "(2500,)"
      ]
     },
     "execution_count": 76,
     "metadata": {},
     "output_type": "execute_result"
    }
   ],
   "source": [
    "# Compute the data produced by the layer to see if it's right:\n",
    "print aux.shape\n",
    "\n",
    "gz_predicted = numpy.dot(A, vec)\n",
    "gz_predicted.shape"
   ]
  },
  {
   "cell_type": "code",
   "execution_count": 77,
   "metadata": {},
   "outputs": [
    {
     "name": "stdout",
     "output_type": "stream",
     "text": [
      "Analysing gz predicted:\n",
      "Minimum:    0.0870\n",
      "Maximum:    5.7558\n",
      "Mean value: 1.1017\n",
      "Variation:  5.6687\n",
      "Analysing gz noise:\n",
      "Minimum:    0.0869\n",
      "Maximum:    6.3167\n",
      "Mean value: 1.1018\n",
      "Variation:  6.2298\n"
     ]
    }
   ],
   "source": [
    "print 'Analysing gz predicted:'\n",
    "_ = analysis(gz_predicted)\n",
    "print 'Analysing gz noise:'\n",
    "_ = analysis(gz)"
   ]
  },
  {
   "cell_type": "code",
   "execution_count": 78,
   "metadata": {
    "collapsed": true
   },
   "outputs": [],
   "source": [
    "from codes.auxiliars import residual"
   ]
  },
  {
   "cell_type": "code",
   "execution_count": 79,
   "metadata": {},
   "outputs": [],
   "source": [
    "res, norm, mean, deviation = residual(gz, gz_predicted)"
   ]
  },
  {
   "cell_type": "code",
   "execution_count": 80,
   "metadata": {},
   "outputs": [
    {
     "data": {
      "image/png": "[encoded data removed]",
      "text/plain": [
       "<matplotlib.figure.Figure at 0x7ff83b28f5d0>"
      ]
     },
     "metadata": {},
     "output_type": "display_data"
    }
   ],
   "source": [
    "pyplot.figure(figsize=(16, 4))\n",
    "\n",
    "pyplot.subplot(1, 3, 1)\n",
    "pyplot.contourf(yo.reshape(ndata,ndata), xo.reshape(ndata,ndata), \n",
    "                gz.reshape(ndata,ndata), 10, cmap = pyplot.cm.jet)\n",
    "pyplot.title('Observed gz (mGal)')\n",
    "pyplot.xlabel('East coordinate (m)')\n",
    "pyplot.ylabel('North coordinate (m)')\n",
    "pyplot.xticks(numpy.linspace(xo.min(), xo.max(), 5))\n",
    "pyplot.yticks(numpy.linspace(yo.min(), yo.max(), 5))\n",
    "pyplot.colorbar()\n",
    "\n",
    "pyplot.subplot(1, 3, 2)\n",
    "pyplot.contourf(yo.reshape(ndata,ndata), xo.reshape(ndata,ndata), \n",
    "                gz_predicted.reshape(ndata,ndata), 10, cmap = pyplot.cm.jet)\n",
    "pyplot.title('Predicted gz by eqlayer (mGal)')\n",
    "pyplot.xlabel('East coordinate (m)')\n",
    "pyplot.ylabel('North coordinate (m)')\n",
    "pyplot.xticks(numpy.linspace(xo.min(), xo.max(), 5))\n",
    "pyplot.yticks(numpy.linspace(yo.min(), yo.max(), 5))\n",
    "pyplot.colorbar()\n",
    "\n",
    "pyplot.subplot(1, 3, 3)\n",
    "pyplot.contourf(yo.reshape(ndata,ndata), xo.reshape(ndata,ndata), \n",
    "                (gz-gz_predicted).reshape(ndata,ndata), 10, cmap = pyplot.cm.jet)\n",
    "pyplot.title('Calculated residual (mGal)')\n",
    "pyplot.xlabel('East coordinate (m)')\n",
    "pyplot.ylabel('North coordinate (m)')\n",
    "pyplot.xticks(numpy.linspace(xo.min(), xo.max(), 5))\n",
    "pyplot.yticks(numpy.linspace(yo.min(), yo.max(), 5))\n",
    "pyplot.colorbar()\n",
    "\n",
    "pyplot.show()"
   ]
  },
  {
   "cell_type": "code",
   "execution_count": null,
   "metadata": {
    "collapsed": true
   },
   "outputs": [],
   "source": [
    "### Test for tensor elements:\n",
    "# gzx, gzy, gzz"
   ]
  },
  {
   "cell_type": "code",
   "execution_count": null,
   "metadata": {
    "collapsed": true
   },
   "outputs": [],
   "source": []
  }
 ],
 "metadata": {
  "kernelspec": {
   "display_name": "Python 2",
   "language": "python",
   "name": "python2"
  },
  "language_info": {
   "codemirror_mode": {
    "name": "ipython",
    "version": 2
   },
   "file_extension": ".py",
   "mimetype": "text/x-python",
   "name": "python",
   "nbconvert_exporter": "python",
   "pygments_lexer": "ipython2",
   "version": "2.7.14"
  }
 },
 "nbformat": 4,
 "nbformat_minor": 2
}
